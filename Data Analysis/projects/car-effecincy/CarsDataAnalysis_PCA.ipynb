{
  "cells": [
    {
      "cell_type": "markdown",
      "metadata": {
        "id": "WC7bgoEC_qlX"
      },
      "source": [
        "# Data Analysis - cars\n"
      ]
    },
    {
      "cell_type": "markdown",
      "metadata": {
        "id": "BkzGAXsi_qla"
      },
      "source": [
        "## Topics covered:\n",
        "\n",
        "#### &emsp;1. Data Importing (via csv file)\n",
        "\n",
        "#### &emsp;2. Data Preprocessing: cleaning, anomaly detection, data transformation, and dimensionality reduction (via PCA)\n",
        "\n",
        "#### &emsp;3. Data Analysis/Predictive Analysis (Information acquisition through data analysis):\n",
        "\n",
        "###### &emsp;&emsp;3.1 Correlations,\n",
        "\n",
        "###### &emsp;&emsp;3.2 Clustering using unsupervised algorithm (via KMeans)\n",
        "\n",
        "###### &emsp;&emsp;3.3 Predictive analysis using supervised algorithms (via Logistic Regression and Decision Tree)\n"
      ]
    },
    {
      "cell_type": "markdown",
      "metadata": {
        "id": "PMHwBKWg_qlb"
      },
      "source": [
        "## Importing libraries for analysis\n"
      ]
    },
    {
      "cell_type": "code",
      "execution_count": 423,
      "metadata": {
        "id": "OcDj85b-_qlc"
      },
      "outputs": [],
      "source": [
        "# importing libraries\n",
        "import pandas as pd # library to present data in dataframe format\n",
        "import numpy as np # library for array operations\n",
        "import matplotlib.pyplot as plt # library for plotting data\n",
        "import seaborn as sn # library used to plot graphs in a more \"elegant\" format\n",
        "\n",
        "\n",
        "\n",
        "from sklearn.preprocessing import StandardScaler # library for data preprocessing for ML analysis\n",
        "from sklearn.decomposition import PCA # library for principal component analysis\n",
        "\n",
        "from sklearn.metrics import accuracy_score, classification_report, confusion_matrix # libraries for analyzing ML model effectiveness\n",
        "from sklearn.model_selection import train_test_split # library to partition data into training and testing sets\n",
        "from sklearn import linear_model as lm # library for linear analysis of data\n",
        "\n",
        "from sklearn.cluster import KMeans # library for analysis using K-means\n",
        "from sklearn.tree import DecisionTreeClassifier # library for analysis using decision tree\n",
        "\n",
        "# importing the counter and defaultdict libraries to count the total data in each group of KMeans analysis\n",
        "from collections import Counter, defaultdict\n",
        "\n",
        "from mpl_toolkits.mplot3d import Axes3D # importing the Axes3D library from matplotlib to plot 3D graphs\n",
        "\n",
        "from IPython.display import display\n",
        "\n",
        "from tabulate import tabulate\n"
      ]
    },
    {
      "cell_type": "code",
      "execution_count": 549,
      "metadata": {
        "id": "i3kpOqOX_qle"
      },
      "outputs": [],
      "source": [
        "# Storing the data from the cars dataset in the car dataframe using pandas\n",
        "\n",
        "cars = pd.read_csv('./cars.csv')\n"
      ]
    },
    {
      "cell_type": "code",
      "execution_count": 550,
      "metadata": {
        "colab": {
          "base_uri": "https://localhost:8080/",
          "height": 206
        },
        "id": "uPCyP1J7_qle",
        "outputId": "e05ad0a8-2bcc-42ff-a410-0fc7f07a458b"
      },
      "outputs": [
        {
          "data": {
            "text/html": [
              "<div>\n",
              "<style scoped>\n",
              "    .dataframe tbody tr th:only-of-type {\n",
              "        vertical-align: middle;\n",
              "    }\n",
              "\n",
              "    .dataframe tbody tr th {\n",
              "        vertical-align: top;\n",
              "    }\n",
              "\n",
              "    .dataframe thead th {\n",
              "        text-align: right;\n",
              "    }\n",
              "</style>\n",
              "<table border=\"1\" class=\"dataframe\">\n",
              "  <thead>\n",
              "    <tr style=\"text-align: right;\">\n",
              "      <th></th>\n",
              "      <th>cylinders</th>\n",
              "      <th>cubicinches</th>\n",
              "      <th>hp</th>\n",
              "      <th>weightlbs</th>\n",
              "      <th>time-to-60</th>\n",
              "      <th>year</th>\n",
              "      <th>brand</th>\n",
              "      <th>Efficiency</th>\n",
              "    </tr>\n",
              "  </thead>\n",
              "  <tbody>\n",
              "    <tr>\n",
              "      <th>0</th>\n",
              "      <td>8</td>\n",
              "      <td>350</td>\n",
              "      <td>165</td>\n",
              "      <td>4209</td>\n",
              "      <td>12</td>\n",
              "      <td>1972</td>\n",
              "      <td>US.</td>\n",
              "      <td>Not efficient</td>\n",
              "    </tr>\n",
              "    <tr>\n",
              "      <th>1</th>\n",
              "      <td>4</td>\n",
              "      <td>89</td>\n",
              "      <td>71</td>\n",
              "      <td>1925</td>\n",
              "      <td>14</td>\n",
              "      <td>1980</td>\n",
              "      <td>Europe.</td>\n",
              "      <td>Efficient</td>\n",
              "    </tr>\n",
              "    <tr>\n",
              "      <th>2</th>\n",
              "      <td>8</td>\n",
              "      <td>302</td>\n",
              "      <td>140</td>\n",
              "      <td>3449</td>\n",
              "      <td>11</td>\n",
              "      <td>1971</td>\n",
              "      <td>US.</td>\n",
              "      <td>Not efficient</td>\n",
              "    </tr>\n",
              "    <tr>\n",
              "      <th>3</th>\n",
              "      <td>8</td>\n",
              "      <td>400</td>\n",
              "      <td>150</td>\n",
              "      <td>3761</td>\n",
              "      <td>10</td>\n",
              "      <td>1971</td>\n",
              "      <td>US.</td>\n",
              "      <td>Not efficient</td>\n",
              "    </tr>\n",
              "    <tr>\n",
              "      <th>4</th>\n",
              "      <td>4</td>\n",
              "      <td>98</td>\n",
              "      <td>63</td>\n",
              "      <td>2051</td>\n",
              "      <td>17</td>\n",
              "      <td>1978</td>\n",
              "      <td>US.</td>\n",
              "      <td>Efficient</td>\n",
              "    </tr>\n",
              "  </tbody>\n",
              "</table>\n",
              "</div>"
            ],
            "text/plain": [
              "   cylinders cubicinches   hp weightlbs  time-to-60  year     brand  \\\n",
              "0          8         350  165      4209          12  1972       US.   \n",
              "1          4          89   71      1925          14  1980   Europe.   \n",
              "2          8         302  140      3449          11  1971       US.   \n",
              "3          8         400  150      3761          10  1971       US.   \n",
              "4          4          98   63      2051          17  1978       US.   \n",
              "\n",
              "      Efficiency  \n",
              "0  Not efficient  \n",
              "1      Efficient  \n",
              "2  Not efficient  \n",
              "3  Not efficient  \n",
              "4      Efficient  "
            ]
          },
          "execution_count": 550,
          "metadata": {},
          "output_type": "execute_result"
        }
      ],
      "source": [
        "cars.head()"
      ]
    },
    {
      "cell_type": "code",
      "execution_count": 479,
      "metadata": {},
      "outputs": [],
      "source": [
        "# remove the Efficieny column from the dataset and stor it for later use\n",
        "efficiency = cars['Efficiency']\n",
        "cars = cars.drop(columns=['Efficiency'])"
      ]
    },
    {
      "cell_type": "markdown",
      "metadata": {
        "id": "VxoEsJT4_qle"
      },
      "source": [
        "## Analyzing the extracted data\n"
      ]
    },
    {
      "cell_type": "markdown",
      "metadata": {
        "id": "YkBmDR8V_qlf"
      },
      "source": [
        "#### Manual data analysis\n"
      ]
    },
    {
      "cell_type": "code",
      "execution_count": 480,
      "metadata": {
        "colab": {
          "base_uri": "https://localhost:8080/"
        },
        "id": "0DZxpg9j_qlf",
        "outputId": "fbc5b7ee-3801-43c5-c95f-cbab9525eac2"
      },
      "outputs": [
        {
          "name": "stdout",
          "output_type": "stream",
          "text": [
            "<class 'pandas.core.frame.DataFrame'>\n",
            "RangeIndex: 261 entries, 0 to 260\n",
            "Data columns (total 7 columns):\n",
            " #   Column       Non-Null Count  Dtype \n",
            "---  ------       --------------  ----- \n",
            " 0   cylinders    261 non-null    int64 \n",
            " 1   cubicinches  261 non-null    object\n",
            " 2   hp           261 non-null    int64 \n",
            " 3   weightlbs    261 non-null    object\n",
            " 4   time-to-60   261 non-null    int64 \n",
            " 5   year         261 non-null    int64 \n",
            " 6   brand        261 non-null    object\n",
            "dtypes: int64(4), object(3)\n",
            "memory usage: 14.4+ KB\n"
          ]
        }
      ],
      "source": [
        "# checking dataframe information\n",
        "cars.info()"
      ]
    },
    {
      "cell_type": "code",
      "execution_count": 481,
      "metadata": {
        "colab": {
          "base_uri": "https://localhost:8080/"
        },
        "id": "SkJ0Wxh4_qlf",
        "outputId": "aefbb429-1e3e-470f-92bc-694a89a26f9e"
      },
      "outputs": [
        {
          "data": {
            "text/plain": [
              "cylinders      261\n",
              "cubicinches    261\n",
              "hp             261\n",
              "weightlbs      261\n",
              "time-to-60     261\n",
              "year           261\n",
              "brand          261\n",
              "dtype: int64"
            ]
          },
          "execution_count": 481,
          "metadata": {},
          "output_type": "execute_result"
        }
      ],
      "source": [
        "# counting the total cells to see if there are any null data\n",
        "cars.count()"
      ]
    },
    {
      "cell_type": "code",
      "execution_count": 482,
      "metadata": {
        "colab": {
          "base_uri": "https://localhost:8080/",
          "height": 300
        },
        "id": "kUhVNupH_qlf",
        "outputId": "334ef0f9-927e-47c4-9fb0-0109c5e2ec53"
      },
      "outputs": [
        {
          "data": {
            "text/html": [
              "<div>\n",
              "<style scoped>\n",
              "    .dataframe tbody tr th:only-of-type {\n",
              "        vertical-align: middle;\n",
              "    }\n",
              "\n",
              "    .dataframe tbody tr th {\n",
              "        vertical-align: top;\n",
              "    }\n",
              "\n",
              "    .dataframe thead th {\n",
              "        text-align: right;\n",
              "    }\n",
              "</style>\n",
              "<table border=\"1\" class=\"dataframe\">\n",
              "  <thead>\n",
              "    <tr style=\"text-align: right;\">\n",
              "      <th></th>\n",
              "      <th>cylinders</th>\n",
              "      <th>hp</th>\n",
              "      <th>time-to-60</th>\n",
              "      <th>year</th>\n",
              "    </tr>\n",
              "  </thead>\n",
              "  <tbody>\n",
              "    <tr>\n",
              "      <th>count</th>\n",
              "      <td>261.000000</td>\n",
              "      <td>261.000000</td>\n",
              "      <td>261.000000</td>\n",
              "      <td>261.000000</td>\n",
              "    </tr>\n",
              "    <tr>\n",
              "      <th>mean</th>\n",
              "      <td>5.590038</td>\n",
              "      <td>106.360153</td>\n",
              "      <td>15.547893</td>\n",
              "      <td>1976.819923</td>\n",
              "    </tr>\n",
              "    <tr>\n",
              "      <th>std</th>\n",
              "      <td>1.733310</td>\n",
              "      <td>40.499959</td>\n",
              "      <td>2.910625</td>\n",
              "      <td>3.637696</td>\n",
              "    </tr>\n",
              "    <tr>\n",
              "      <th>min</th>\n",
              "      <td>3.000000</td>\n",
              "      <td>46.000000</td>\n",
              "      <td>8.000000</td>\n",
              "      <td>1971.000000</td>\n",
              "    </tr>\n",
              "    <tr>\n",
              "      <th>25%</th>\n",
              "      <td>4.000000</td>\n",
              "      <td>75.000000</td>\n",
              "      <td>14.000000</td>\n",
              "      <td>1974.000000</td>\n",
              "    </tr>\n",
              "    <tr>\n",
              "      <th>50%</th>\n",
              "      <td>6.000000</td>\n",
              "      <td>95.000000</td>\n",
              "      <td>16.000000</td>\n",
              "      <td>1977.000000</td>\n",
              "    </tr>\n",
              "    <tr>\n",
              "      <th>75%</th>\n",
              "      <td>8.000000</td>\n",
              "      <td>138.000000</td>\n",
              "      <td>17.000000</td>\n",
              "      <td>1980.000000</td>\n",
              "    </tr>\n",
              "    <tr>\n",
              "      <th>max</th>\n",
              "      <td>8.000000</td>\n",
              "      <td>230.000000</td>\n",
              "      <td>25.000000</td>\n",
              "      <td>1983.000000</td>\n",
              "    </tr>\n",
              "  </tbody>\n",
              "</table>\n",
              "</div>"
            ],
            "text/plain": [
              "        cylinders          hp  time-to-60         year\n",
              "count  261.000000  261.000000  261.000000   261.000000\n",
              "mean     5.590038  106.360153   15.547893  1976.819923\n",
              "std      1.733310   40.499959    2.910625     3.637696\n",
              "min      3.000000   46.000000    8.000000  1971.000000\n",
              "25%      4.000000   75.000000   14.000000  1974.000000\n",
              "50%      6.000000   95.000000   16.000000  1977.000000\n",
              "75%      8.000000  138.000000   17.000000  1980.000000\n",
              "max      8.000000  230.000000   25.000000  1983.000000"
            ]
          },
          "execution_count": 482,
          "metadata": {},
          "output_type": "execute_result"
        }
      ],
      "source": [
        "# checking the data statistics in the dataframe\n",
        "cars.describe()"
      ]
    },
    {
      "cell_type": "markdown",
      "metadata": {
        "id": "Xq4tRvo6_qlg"
      },
      "source": [
        "Now we are going to do more invetigations on this dataset to spot any annomaly\n"
      ]
    },
    {
      "cell_type": "code",
      "execution_count": 483,
      "metadata": {
        "colab": {
          "base_uri": "https://localhost:8080/"
        },
        "id": "rw6TtyPR_qlg",
        "outputId": "9a9e3a23-cba8-42c5-927d-d0a9841b3c1f"
      },
      "outputs": [
        {
          "data": {
            "text/plain": [
              "0"
            ]
          },
          "execution_count": 483,
          "metadata": {},
          "output_type": "execute_result"
        }
      ],
      "source": [
        "# checking if there are any duplicate data\n",
        "cars.duplicated().sum()"
      ]
    },
    {
      "cell_type": "code",
      "execution_count": 484,
      "metadata": {
        "colab": {
          "base_uri": "https://localhost:8080/"
        },
        "id": "ohCMQH3s_qlg",
        "outputId": "375dab6d-669c-4d03-c229-768d60ad9ef3"
      },
      "outputs": [
        {
          "data": {
            "text/plain": [
              "cylinders      False\n",
              "cubicinches    False\n",
              "hp             False\n",
              "weightlbs      False\n",
              "time-to-60     False\n",
              "year           False\n",
              "brand          False\n",
              "dtype: bool"
            ]
          },
          "execution_count": 484,
          "metadata": {},
          "output_type": "execute_result"
        }
      ],
      "source": [
        "# checking if there is any null data\n",
        "cars.isnull().any()"
      ]
    },
    {
      "cell_type": "code",
      "execution_count": 485,
      "metadata": {
        "colab": {
          "base_uri": "https://localhost:8080/"
        },
        "id": "cuY9niYX_qlg",
        "outputId": "e0a8f0ba-7b26-4f5c-a9a8-5b2892788e4d"
      },
      "outputs": [
        {
          "data": {
            "text/plain": [
              "brand\n",
              "US.        162\n",
              "Japan.      51\n",
              "Europe.     48\n",
              "Name: count, dtype: int64"
            ]
          },
          "execution_count": 485,
          "metadata": {},
          "output_type": "execute_result"
        }
      ],
      "source": [
        "# checking the types of regions of the models covered in the dataset\n",
        "cars.brand.value_counts()"
      ]
    },
    {
      "cell_type": "code",
      "execution_count": 486,
      "metadata": {
        "colab": {
          "base_uri": "https://localhost:8080/"
        },
        "id": "mN9l_Ytc_qlh",
        "outputId": "4ca24b9f-7f7e-4a86-bcd0-b341fddfbc70"
      },
      "outputs": [
        {
          "data": {
            "text/plain": [
              "year\n",
              "1974    35\n",
              "1977    26\n",
              "1971    23\n",
              "1976    22\n",
              "1980    21\n",
              "1979    21\n",
              "1978    18\n",
              "1982    18\n",
              "1981    18\n",
              "1983    16\n",
              "1973    16\n",
              "1972    15\n",
              "1975    12\n",
              "Name: count, dtype: int64"
            ]
          },
          "execution_count": 486,
          "metadata": {},
          "output_type": "execute_result"
        }
      ],
      "source": [
        "# checking the total cars in each year present in the dataset\n",
        "cars.year.value_counts()"
      ]
    },
    {
      "cell_type": "code",
      "execution_count": 487,
      "metadata": {
        "colab": {
          "base_uri": "https://localhost:8080/"
        },
        "id": "Sb44UM_3_qlh",
        "outputId": "647b88cd-17d0-4398-b2e5-bba2791e637e"
      },
      "outputs": [
        {
          "data": {
            "text/plain": [
              "cylinders\n",
              "4    125\n",
              "8     76\n",
              "6     55\n",
              "5      3\n",
              "3      2\n",
              "Name: count, dtype: int64"
            ]
          },
          "execution_count": 487,
          "metadata": {},
          "output_type": "execute_result"
        }
      ],
      "source": [
        "# checking the classifications of the total number of cylinders in the engine present in the dataset models\n",
        "cars.cylinders.value_counts()"
      ]
    },
    {
      "cell_type": "markdown",
      "metadata": {
        "id": "7B-l9IDu_qli"
      },
      "source": [
        "#### Performing data cleaning\n"
      ]
    },
    {
      "cell_type": "code",
      "execution_count": 488,
      "metadata": {
        "colab": {
          "base_uri": "https://localhost:8080/",
          "height": 206
        },
        "id": "f2y17GIO_qli",
        "outputId": "397d2c1e-1713-4854-926d-1523df2c37c2"
      },
      "outputs": [
        {
          "name": "stderr",
          "output_type": "stream",
          "text": [
            "C:\\Users\\abdob\\AppData\\Local\\Temp\\ipykernel_1936\\422760579.py:5: FutureWarning: Downcasting behavior in `replace` is deprecated and will be removed in a future version. To retain the old behavior, explicitly call `result.infer_objects(copy=False)`. To opt-in to the future behavior, set `pd.set_option('future.no_silent_downcasting', True)`\n",
            "  cars2.brand = cars2.brand.replace(to_replace = [\"US.\", \"Japan.\", \"Europe.\"], value = [1,2,3], regex = True)\n"
          ]
        },
        {
          "data": {
            "text/html": [
              "<div>\n",
              "<style scoped>\n",
              "    .dataframe tbody tr th:only-of-type {\n",
              "        vertical-align: middle;\n",
              "    }\n",
              "\n",
              "    .dataframe tbody tr th {\n",
              "        vertical-align: top;\n",
              "    }\n",
              "\n",
              "    .dataframe thead th {\n",
              "        text-align: right;\n",
              "    }\n",
              "</style>\n",
              "<table border=\"1\" class=\"dataframe\">\n",
              "  <thead>\n",
              "    <tr style=\"text-align: right;\">\n",
              "      <th></th>\n",
              "      <th>cylinders</th>\n",
              "      <th>cubicinches</th>\n",
              "      <th>hp</th>\n",
              "      <th>weightlbs</th>\n",
              "      <th>time-to-60</th>\n",
              "      <th>year</th>\n",
              "      <th>brand</th>\n",
              "    </tr>\n",
              "  </thead>\n",
              "  <tbody>\n",
              "    <tr>\n",
              "      <th>0</th>\n",
              "      <td>8</td>\n",
              "      <td>350</td>\n",
              "      <td>165</td>\n",
              "      <td>4209</td>\n",
              "      <td>12</td>\n",
              "      <td>1972</td>\n",
              "      <td>1</td>\n",
              "    </tr>\n",
              "    <tr>\n",
              "      <th>1</th>\n",
              "      <td>4</td>\n",
              "      <td>89</td>\n",
              "      <td>71</td>\n",
              "      <td>1925</td>\n",
              "      <td>14</td>\n",
              "      <td>1980</td>\n",
              "      <td>3</td>\n",
              "    </tr>\n",
              "    <tr>\n",
              "      <th>2</th>\n",
              "      <td>8</td>\n",
              "      <td>302</td>\n",
              "      <td>140</td>\n",
              "      <td>3449</td>\n",
              "      <td>11</td>\n",
              "      <td>1971</td>\n",
              "      <td>1</td>\n",
              "    </tr>\n",
              "    <tr>\n",
              "      <th>3</th>\n",
              "      <td>8</td>\n",
              "      <td>400</td>\n",
              "      <td>150</td>\n",
              "      <td>3761</td>\n",
              "      <td>10</td>\n",
              "      <td>1971</td>\n",
              "      <td>1</td>\n",
              "    </tr>\n",
              "    <tr>\n",
              "      <th>4</th>\n",
              "      <td>4</td>\n",
              "      <td>98</td>\n",
              "      <td>63</td>\n",
              "      <td>2051</td>\n",
              "      <td>17</td>\n",
              "      <td>1978</td>\n",
              "      <td>1</td>\n",
              "    </tr>\n",
              "  </tbody>\n",
              "</table>\n",
              "</div>"
            ],
            "text/plain": [
              "   cylinders cubicinches   hp weightlbs  time-to-60  year  brand\n",
              "0          8         350  165      4209          12  1972      1\n",
              "1          4          89   71      1925          14  1980      3\n",
              "2          8         302  140      3449          11  1971      1\n",
              "3          8         400  150      3761          10  1971      1\n",
              "4          4          98   63      2051          17  1978      1"
            ]
          },
          "execution_count": 488,
          "metadata": {},
          "output_type": "execute_result"
        }
      ],
      "source": [
        "# creating a copy of the dataframe to modify without altering the original dataframe\n",
        "cars2 = cars.copy()\n",
        "\n",
        "# changing the regions of the models to categorical values for machine learning analysis\n",
        "cars2.brand = cars2.brand.replace(to_replace = [\"US.\", \"Japan.\", \"Europe.\"], value = [1,2,3], regex = True)\n",
        "\n",
        "cars2.head()"
      ]
    },
    {
      "cell_type": "code",
      "execution_count": 489,
      "metadata": {
        "colab": {
          "base_uri": "https://localhost:8080/"
        },
        "id": "Qdctj-UXFuqB",
        "outputId": "03b482f0-5a15-426c-e42c-fb8fbc0732a5"
      },
      "outputs": [
        {
          "data": {
            "text/plain": [
              "brand\n",
              "1    162\n",
              "2     51\n",
              "3     48\n",
              "Name: count, dtype: int64"
            ]
          },
          "execution_count": 489,
          "metadata": {},
          "output_type": "execute_result"
        }
      ],
      "source": [
        "# checking that the count of values is still the same\n",
        "cars2.brand.value_counts()"
      ]
    },
    {
      "cell_type": "code",
      "execution_count": 490,
      "metadata": {
        "colab": {
          "base_uri": "https://localhost:8080/"
        },
        "id": "EvqrNaemGXFR",
        "outputId": "40afbff4-eadd-4950-867b-405f9c471197"
      },
      "outputs": [
        {
          "name": "stdout",
          "output_type": "stream",
          "text": [
            "<class 'pandas.core.frame.DataFrame'>\n",
            "RangeIndex: 261 entries, 0 to 260\n",
            "Data columns (total 7 columns):\n",
            " #   Column       Non-Null Count  Dtype \n",
            "---  ------       --------------  ----- \n",
            " 0   cylinders    261 non-null    int64 \n",
            " 1   cubicinches  261 non-null    object\n",
            " 2   hp           261 non-null    int64 \n",
            " 3   weightlbs    261 non-null    object\n",
            " 4   time-to-60   261 non-null    int64 \n",
            " 5   year         261 non-null    int64 \n",
            " 6   brand        261 non-null    int64 \n",
            "dtypes: int64(5), object(2)\n",
            "memory usage: 14.4+ KB\n"
          ]
        }
      ],
      "source": [
        "cars2.info()"
      ]
    },
    {
      "cell_type": "markdown",
      "metadata": {
        "id": "yJ0ZeOskGodP"
      },
      "source": [
        "changing the data in the volume(cubicinches) and weight(weightlbs) columns from objects to numeric data\n"
      ]
    },
    {
      "cell_type": "code",
      "execution_count": 491,
      "metadata": {
        "colab": {
          "base_uri": "https://localhost:8080/"
        },
        "id": "qCehbQIa_qlj",
        "outputId": "ba6e7bd9-e387-4bf5-8ee3-9aa9bb3b8f3e"
      },
      "outputs": [
        {
          "name": "stdout",
          "output_type": "stream",
          "text": [
            "<class 'pandas.core.frame.DataFrame'>\n",
            "RangeIndex: 261 entries, 0 to 260\n",
            "Data columns (total 7 columns):\n",
            " #   Column       Non-Null Count  Dtype  \n",
            "---  ------       --------------  -----  \n",
            " 0   cylinders    261 non-null    int64  \n",
            " 1   cubicinches  259 non-null    float64\n",
            " 2   hp           261 non-null    int64  \n",
            " 3   weightlbs    258 non-null    float64\n",
            " 4   time-to-60   261 non-null    int64  \n",
            " 5   year         261 non-null    int64  \n",
            " 6   brand        261 non-null    int64  \n",
            "dtypes: float64(2), int64(5)\n",
            "memory usage: 14.4 KB\n"
          ]
        }
      ],
      "source": [
        "cars2.cubicinches = pd.to_numeric(cars2.cubicinches, errors = \"coerce\") # changing volume data to numeric\n",
        "cars2.weightlbs = pd.to_numeric(cars2.weightlbs, errors = \"coerce\") # changing weight data to numeric\n",
        "cars2.info()"
      ]
    },
    {
      "cell_type": "code",
      "execution_count": 492,
      "metadata": {
        "colab": {
          "base_uri": "https://localhost:8080/"
        },
        "id": "HNhc3aDNHAkJ",
        "outputId": "7d92e198-75f0-45fa-a329-ac619d4d0cdb"
      },
      "outputs": [
        {
          "data": {
            "text/plain": [
              "cylinders      0\n",
              "cubicinches    2\n",
              "hp             0\n",
              "weightlbs      3\n",
              "time-to-60     0\n",
              "year           0\n",
              "brand          0\n",
              "dtype: int64"
            ]
          },
          "execution_count": 492,
          "metadata": {},
          "output_type": "execute_result"
        }
      ],
      "source": [
        "# checking the total data that have NA values\n",
        "cars2.isna().sum()"
      ]
    },
    {
      "cell_type": "code",
      "execution_count": 493,
      "metadata": {
        "colab": {
          "base_uri": "https://localhost:8080/"
        },
        "id": "1o-m8Uer_qlj",
        "outputId": "81d3a3f9-0d61-4e42-ce5d-c5522f37d2af"
      },
      "outputs": [
        {
          "name": "stdout",
          "output_type": "stream",
          "text": [
            "[40, 180]\n",
            "[14, 33, 172]\n"
          ]
        }
      ],
      "source": [
        "# checking which rows contain data with NA values\n",
        "rows1 = cars2[cars2['cubicinches'].isnull()].index.tolist() # get the index of rows with NA values in the cubicinches column\n",
        "rows2 = cars2[cars2['weightlbs'].isnull()].index.tolist() # get the index of rows with NA values in the weightlbs column\n",
        "\n",
        "# displaying the contents of the arrays on the screen\n",
        "print(rows1) # displaying the contents of the rows1 array\n",
        "print(rows2) # displaying the contents of the rows2 array\n"
      ]
    },
    {
      "cell_type": "code",
      "execution_count": 494,
      "metadata": {
        "colab": {
          "base_uri": "https://localhost:8080/"
        },
        "id": "lkPd8LIX_qlj",
        "outputId": "04469ef6-69ed-4964-80cc-c6e3a1b4830e"
      },
      "outputs": [
        {
          "name": "stdout",
          "output_type": "stream",
          "text": [
            "     cylinders  cubicinches     hp  weightlbs  time-to-60    year  brand  Rows\n",
            "40         6.0          NaN  105.0     3897.0        19.0  1976.0    1.0    40\n",
            "180        6.0          NaN   85.0     2990.0        18.0  1980.0    1.0   180\n",
            "14         6.0        225.0   90.0        NaN        19.0  1981.0    1.0    14\n",
            "33         6.0        199.0   90.0        NaN        15.0  1971.0    1.0    33\n",
            "172        4.0         68.0   49.0        NaN        20.0  1974.0    3.0   172\n"
          ]
        }
      ],
      "source": [
        "## Comparing the rows containing NA values in both the cars and cars2 dataframes\n",
        "\n",
        "# Combine the rows containing NA values into a single array\n",
        "rows = rows1 + rows2\n",
        "\n",
        "# Create a dataframe to store the lines from the dataframes that are in the lines stored in the rows array\n",
        "printer = pd.DataFrame(data=None, columns=cars2.columns, index=range(len(rows)))\n",
        "\n",
        "# Copy the content of lines from cars and cars2 dataframes to the printer dataframe using list comprehension\n",
        "printer = pd.DataFrame([cars2.loc[i, :] for i in rows], columns=cars2.columns)\n",
        "printer['Rows'] = rows\n",
        "\n",
        "# Report the content of the printer dataframe\n",
        "print(printer)\n"
      ]
    },
    {
      "cell_type": "code",
      "execution_count": 495,
      "metadata": {
        "colab": {
          "base_uri": "https://localhost:8080/"
        },
        "id": "ejyND1cl_qlj",
        "outputId": "b5977b25-d5a6-4732-9376-e8e3075519dd"
      },
      "outputs": [
        {
          "name": "stdout",
          "output_type": "stream",
          "text": [
            "<class 'pandas.core.frame.DataFrame'>\n",
            "RangeIndex: 261 entries, 0 to 260\n",
            "Data columns (total 7 columns):\n",
            " #   Column       Non-Null Count  Dtype \n",
            "---  ------       --------------  ----- \n",
            " 0   cylinders    261 non-null    int64 \n",
            " 1   cubicinches  261 non-null    object\n",
            " 2   hp           261 non-null    int64 \n",
            " 3   weightlbs    261 non-null    object\n",
            " 4   time-to-60   261 non-null    int64 \n",
            " 5   year         261 non-null    int64 \n",
            " 6   brand        261 non-null    object\n",
            "dtypes: int64(4), object(3)\n",
            "memory usage: 14.4+ KB\n",
            "None\n",
            "\n",
            "<class 'pandas.core.frame.DataFrame'>\n",
            "RangeIndex: 261 entries, 0 to 260\n",
            "Data columns (total 7 columns):\n",
            " #   Column       Non-Null Count  Dtype  \n",
            "---  ------       --------------  -----  \n",
            " 0   cylinders    261 non-null    int64  \n",
            " 1   cubicinches  261 non-null    float64\n",
            " 2   hp           261 non-null    int64  \n",
            " 3   weightlbs    261 non-null    float64\n",
            " 4   time-to-60   261 non-null    int64  \n",
            " 5   year         261 non-null    int64  \n",
            " 6   brand        261 non-null    int64  \n",
            "dtypes: float64(2), int64(5)\n",
            "memory usage: 14.4 KB\n",
            "None\n"
          ]
        }
      ],
      "source": [
        "# replacing NA values in dataframe2 with the mean of the values in each column\n",
        "# note: this is necessary so as not to lose data information when using the ML model\n",
        "cars2 = cars2.fillna(cars2.mean())\n",
        "\n",
        "# reporting the information from each of the original dataframes for comparison\n",
        "print(cars.info())\n",
        "print()\n",
        "print(cars2.info())"
      ]
    },
    {
      "cell_type": "code",
      "execution_count": 496,
      "metadata": {
        "colab": {
          "base_uri": "https://localhost:8080/"
        },
        "id": "dArHIPYE_qlk",
        "outputId": "69624712-1fd5-4b79-ad1f-dc310dc7325b"
      },
      "outputs": [
        {
          "name": "stdout",
          "output_type": "stream",
          "text": [
            "  cylinders cubicinches     hp    weightlbs time-to-60    year brand  Rows\n",
            "0       6.0  200.918919  105.0       3897.0       19.0  1976.0   1.0    40\n",
            "1       6.0  200.918919   85.0       2990.0       18.0  1980.0   1.0   180\n",
            "2       6.0       225.0   90.0  3009.833333       19.0  1981.0   1.0    14\n",
            "3       6.0       199.0   90.0  3009.833333       15.0  1971.0   1.0    33\n",
            "4       4.0        68.0   49.0  3009.833333       20.0  1974.0   3.0   172\n"
          ]
        }
      ],
      "source": [
        "## checking if the changes made in the cars2 dataframe were changed correctly\n",
        "\n",
        "# creating a dataframe to display the data present in the cars2 dataframe\n",
        "printer3 = pd.DataFrame(data=None, columns=cars2.columns, index=range(len(rows)))\n",
        "\n",
        "# creating a for loop to insert the data present in these lines into the created dataframes\n",
        "j = 0 # initializing the counter for the line of the printer1 and printer2 dataframes\n",
        "for i in rows:\n",
        "    printer3.loc[j,:] = cars2.loc[i,:] # copying the content of line i from the cars2 dataframe to the printer2 dataframe\n",
        "    j = j + 1 # updating the counter\n",
        "# adding a column with the line numbers with NA values from the original dataframes to the printer3 dataframe\n",
        "printer3['Rows'] = rows\n",
        "\n",
        "# reporting the data stored in the printer3 dataframe to ensure that the data was correctly changed\n",
        "print(printer3)"
      ]
    },
    {
      "cell_type": "code",
      "execution_count": 497,
      "metadata": {
        "colab": {
          "base_uri": "https://localhost:8080/",
          "height": 300
        },
        "id": "a3xcZ0hZ_qlk",
        "outputId": "ec2f1081-31ce-4fac-8579-46e9b31cf14a"
      },
      "outputs": [
        {
          "data": {
            "text/html": [
              "<div>\n",
              "<style scoped>\n",
              "    .dataframe tbody tr th:only-of-type {\n",
              "        vertical-align: middle;\n",
              "    }\n",
              "\n",
              "    .dataframe tbody tr th {\n",
              "        vertical-align: top;\n",
              "    }\n",
              "\n",
              "    .dataframe thead th {\n",
              "        text-align: right;\n",
              "    }\n",
              "</style>\n",
              "<table border=\"1\" class=\"dataframe\">\n",
              "  <thead>\n",
              "    <tr style=\"text-align: right;\">\n",
              "      <th></th>\n",
              "      <th>cylinders</th>\n",
              "      <th>cubicinches</th>\n",
              "      <th>hp</th>\n",
              "      <th>weightlbs</th>\n",
              "      <th>time-to-60</th>\n",
              "      <th>year</th>\n",
              "      <th>brand</th>\n",
              "    </tr>\n",
              "  </thead>\n",
              "  <tbody>\n",
              "    <tr>\n",
              "      <th>count</th>\n",
              "      <td>261.000000</td>\n",
              "      <td>261.000000</td>\n",
              "      <td>261.000000</td>\n",
              "      <td>261.000000</td>\n",
              "      <td>261.000000</td>\n",
              "      <td>261.000000</td>\n",
              "      <td>261.000000</td>\n",
              "    </tr>\n",
              "    <tr>\n",
              "      <th>mean</th>\n",
              "      <td>5.590038</td>\n",
              "      <td>200.918919</td>\n",
              "      <td>106.360153</td>\n",
              "      <td>3009.833333</td>\n",
              "      <td>15.547893</td>\n",
              "      <td>1976.819923</td>\n",
              "      <td>1.563218</td>\n",
              "    </tr>\n",
              "    <tr>\n",
              "      <th>std</th>\n",
              "      <td>1.733310</td>\n",
              "      <td>108.837269</td>\n",
              "      <td>40.499959</td>\n",
              "      <td>849.097575</td>\n",
              "      <td>2.910625</td>\n",
              "      <td>3.637696</td>\n",
              "      <td>0.784972</td>\n",
              "    </tr>\n",
              "    <tr>\n",
              "      <th>min</th>\n",
              "      <td>3.000000</td>\n",
              "      <td>68.000000</td>\n",
              "      <td>46.000000</td>\n",
              "      <td>1613.000000</td>\n",
              "      <td>8.000000</td>\n",
              "      <td>1971.000000</td>\n",
              "      <td>1.000000</td>\n",
              "    </tr>\n",
              "    <tr>\n",
              "      <th>25%</th>\n",
              "      <td>4.000000</td>\n",
              "      <td>101.000000</td>\n",
              "      <td>75.000000</td>\n",
              "      <td>2254.000000</td>\n",
              "      <td>14.000000</td>\n",
              "      <td>1974.000000</td>\n",
              "      <td>1.000000</td>\n",
              "    </tr>\n",
              "    <tr>\n",
              "      <th>50%</th>\n",
              "      <td>6.000000</td>\n",
              "      <td>156.000000</td>\n",
              "      <td>95.000000</td>\n",
              "      <td>2904.000000</td>\n",
              "      <td>16.000000</td>\n",
              "      <td>1977.000000</td>\n",
              "      <td>1.000000</td>\n",
              "    </tr>\n",
              "    <tr>\n",
              "      <th>75%</th>\n",
              "      <td>8.000000</td>\n",
              "      <td>302.000000</td>\n",
              "      <td>138.000000</td>\n",
              "      <td>3664.000000</td>\n",
              "      <td>17.000000</td>\n",
              "      <td>1980.000000</td>\n",
              "      <td>2.000000</td>\n",
              "    </tr>\n",
              "    <tr>\n",
              "      <th>max</th>\n",
              "      <td>8.000000</td>\n",
              "      <td>455.000000</td>\n",
              "      <td>230.000000</td>\n",
              "      <td>4997.000000</td>\n",
              "      <td>25.000000</td>\n",
              "      <td>1983.000000</td>\n",
              "      <td>3.000000</td>\n",
              "    </tr>\n",
              "  </tbody>\n",
              "</table>\n",
              "</div>"
            ],
            "text/plain": [
              "        cylinders  cubicinches          hp    weightlbs  time-to-60  \\\n",
              "count  261.000000   261.000000  261.000000   261.000000  261.000000   \n",
              "mean     5.590038   200.918919  106.360153  3009.833333   15.547893   \n",
              "std      1.733310   108.837269   40.499959   849.097575    2.910625   \n",
              "min      3.000000    68.000000   46.000000  1613.000000    8.000000   \n",
              "25%      4.000000   101.000000   75.000000  2254.000000   14.000000   \n",
              "50%      6.000000   156.000000   95.000000  2904.000000   16.000000   \n",
              "75%      8.000000   302.000000  138.000000  3664.000000   17.000000   \n",
              "max      8.000000   455.000000  230.000000  4997.000000   25.000000   \n",
              "\n",
              "              year       brand  \n",
              "count   261.000000  261.000000  \n",
              "mean   1976.819923    1.563218  \n",
              "std       3.637696    0.784972  \n",
              "min    1971.000000    1.000000  \n",
              "25%    1974.000000    1.000000  \n",
              "50%    1977.000000    1.000000  \n",
              "75%    1980.000000    2.000000  \n",
              "max    1983.000000    3.000000  "
            ]
          },
          "execution_count": 497,
          "metadata": {},
          "output_type": "execute_result"
        }
      ],
      "source": [
        "# reporting the statistical analysis of each column to verify that the inserted data is correct\n",
        "cars2.describe()"
      ]
    },
    {
      "cell_type": "markdown",
      "metadata": {
        "id": "k0dzvNRK_qlk"
      },
      "source": [
        "#### Statistical Analysis to Detect Data Anomalies\n"
      ]
    },
    {
      "cell_type": "code",
      "execution_count": 499,
      "metadata": {
        "colab": {
          "base_uri": "https://localhost:8080/",
          "height": 447
        },
        "id": "fTzIT-yX_qlk",
        "outputId": "f75a6e4b-9fa0-4ecb-94c7-3abeee0131f7"
      },
      "outputs": [
        {
          "data": {
            "text/plain": [
              "<Axes: >"
            ]
          },
          "execution_count": 499,
          "metadata": {},
          "output_type": "execute_result"
        },
        {
          "data": {
            "image/png": "[encoded data removed]",
            "text/plain": [
              "<Figure size 640x480 with 1 Axes>"
            ]
          },
          "metadata": {},
          "output_type": "display_data"
        }
      ],
      "source": [
        "cars2.boxplot(column = 'cylinders') # plotting the boxplot graph for the total number of cylinders(cylinders)"
      ]
    },
    {
      "cell_type": "code",
      "execution_count": 500,
      "metadata": {
        "colab": {
          "base_uri": "https://localhost:8080/",
          "height": 447
        },
        "id": "q3VE5u_P_qlk",
        "outputId": "6816610c-3fb6-40e8-8e53-897a9c915c81"
      },
      "outputs": [
        {
          "data": {
            "text/plain": [
              "<Axes: >"
            ]
          },
          "execution_count": 500,
          "metadata": {},
          "output_type": "execute_result"
        },
        {
          "data": {
            "image/png": "[encoded data removed]",
            "text/plain": [
              "<Figure size 640x480 with 1 Axes>"
            ]
          },
          "metadata": {},
          "output_type": "display_data"
        }
      ],
      "source": [
        "cars2.boxplot(column = 'cubicinches') # plotting the boxplot graph for the volume(cubicinches)"
      ]
    },
    {
      "cell_type": "code",
      "execution_count": 501,
      "metadata": {
        "colab": {
          "base_uri": "https://localhost:8080/",
          "height": 447
        },
        "id": "qO6FH106_qlk",
        "outputId": "11a85b7f-0d29-40d5-d1a6-83f431012ba3"
      },
      "outputs": [
        {
          "data": {
            "text/plain": [
              "<Axes: >"
            ]
          },
          "execution_count": 501,
          "metadata": {},
          "output_type": "execute_result"
        },
        {
          "data": {
            "image/png": "[encoded data removed]",
            "text/plain": [
              "<Figure size 640x480 with 1 Axes>"
            ]
          },
          "metadata": {},
          "output_type": "display_data"
        }
      ],
      "source": [
        "cars2.boxplot(column = 'hp') # plotting the boxplot graph for the power(hp)"
      ]
    },
    {
      "cell_type": "code",
      "execution_count": 502,
      "metadata": {
        "colab": {
          "base_uri": "https://localhost:8080/",
          "height": 447
        },
        "id": "SCYZahDH_qlk",
        "outputId": "4c1ff208-0566-486b-e5e7-037599087fe7"
      },
      "outputs": [
        {
          "data": {
            "text/plain": [
              "<Axes: >"
            ]
          },
          "execution_count": 502,
          "metadata": {},
          "output_type": "execute_result"
        },
        {
          "data": {
            "image/png": "[encoded data removed]",
            "text/plain": [
              "<Figure size 640x480 with 1 Axes>"
            ]
          },
          "metadata": {},
          "output_type": "display_data"
        }
      ],
      "source": [
        "cars2.boxplot(column = 'weightlbs') # plotting the boxplot graph for the weight(weightlbs)"
      ]
    },
    {
      "cell_type": "code",
      "execution_count": 503,
      "metadata": {
        "colab": {
          "base_uri": "https://localhost:8080/",
          "height": 447
        },
        "id": "fCr6ZkrB_qll",
        "outputId": "1423d22c-7f24-4f34-b1e7-6ac53d4d13bb"
      },
      "outputs": [
        {
          "data": {
            "text/plain": [
              "<Axes: >"
            ]
          },
          "execution_count": 503,
          "metadata": {},
          "output_type": "execute_result"
        },
        {
          "data": {
            "image/png": "[encoded data removed]",
            "text/plain": [
              "<Figure size 640x480 with 1 Axes>"
            ]
          },
          "metadata": {},
          "output_type": "display_data"
        }
      ],
      "source": [
        "cars2.boxplot(column = 'time-to-60') # plotting the boxplot graph for the time-to-60mph"
      ]
    },
    {
      "cell_type": "markdown",
      "metadata": {
        "id": "yNxwnk1Z_qll"
      },
      "source": [
        "Upon analyzing the above boxplot, there are indications of possible outliers, however, for the parameter under analysis, upon a closer analysis of the values, it is possible to identify that these values are feasible for the time it takes for the car to reach 60 miles per hour, since there are cars with much lower values (less than 3 seconds) than the minimum value in the dataset (8 seconds), and cars with values much higher than the maximum value in the dataset (25 seconds).\n"
      ]
    },
    {
      "cell_type": "code",
      "execution_count": 504,
      "metadata": {
        "colab": {
          "base_uri": "https://localhost:8080/",
          "height": 447
        },
        "id": "dQQ_HMMg_qll",
        "outputId": "7a3a61d5-0d94-4aed-ff10-b76c027867d9"
      },
      "outputs": [
        {
          "data": {
            "text/plain": [
              "<Axes: >"
            ]
          },
          "execution_count": 504,
          "metadata": {},
          "output_type": "execute_result"
        },
        {
          "data": {
            "image/png": "[encoded data removed]",
            "text/plain": [
              "<Figure size 640x480 with 1 Axes>"
            ]
          },
          "metadata": {},
          "output_type": "display_data"
        }
      ],
      "source": [
        "cars2.boxplot(column = 'year') # plotting the boxplot graph for the year"
      ]
    },
    {
      "cell_type": "code",
      "execution_count": 505,
      "metadata": {
        "colab": {
          "base_uri": "https://localhost:8080/",
          "height": 447
        },
        "id": "1PRFR-O3_qll",
        "outputId": "9574a0ab-d443-482d-e4ae-f72169b1d7e4"
      },
      "outputs": [
        {
          "data": {
            "text/plain": [
              "<Axes: >"
            ]
          },
          "execution_count": 505,
          "metadata": {},
          "output_type": "execute_result"
        },
        {
          "data": {
            "image/png": "[encoded data removed]",
            "text/plain": [
              "<Figure size 640x480 with 1 Axes>"
            ]
          },
          "metadata": {},
          "output_type": "display_data"
        }
      ],
      "source": [
        "cars2.boxplot(column = 'brand') # plotting the boxplot graph for the brand"
      ]
    },
    {
      "cell_type": "code",
      "execution_count": 506,
      "metadata": {
        "colab": {
          "base_uri": "https://localhost:8080/"
        },
        "id": "o1YOsMFX_qll",
        "outputId": "63ab903c-fede-40ff-f43a-f2b14e6e0ceb"
      },
      "outputs": [
        {
          "name": "stdout",
          "output_type": "stream",
          "text": [
            "hp\n",
            "Q1 - Median    71\n",
            "< Q1           66\n",
            "> Q3           65\n",
            "Median - Q3    59\n",
            "Name: count, dtype: int64\n"
          ]
        }
      ],
      "source": [
        "# checking the spread of the data in the boxplot\n",
        "\n",
        "bins = [0, 75, 95, 138, float('inf')]  # define the bin ranges\n",
        "labels = ['< Q1', 'Q1 - Median', 'Median - Q3', '> Q3']  # define the labels for each bin\n",
        "\n",
        "hp_bins = pd.cut(cars2.hp, bins=bins, labels=labels)  # create bins for the hp column\n",
        "\n",
        "hp_counts = hp_bins.value_counts()  # count the number of values in each bin\n",
        "\n",
        "print(hp_counts)\n"
      ]
    },
    {
      "cell_type": "markdown",
      "metadata": {
        "id": "MTFPp_kW_qll"
      },
      "source": [
        "Upon evaluating the spread of the data, it is possible to see that the data is relatively \"balanced\" and there is no apparent evidence of possible outliers.\n"
      ]
    },
    {
      "cell_type": "code",
      "execution_count": 507,
      "metadata": {
        "colab": {
          "base_uri": "https://localhost:8080/",
          "height": 644
        },
        "id": "mw7yNSZS_qlv",
        "outputId": "29dab5b8-ab26-4293-dd77-2b516db602f6"
      },
      "outputs": [
        {
          "data": {
            "image/png": "[encoded data removed]",
            "text/plain": [
              "<Figure size 1000x800 with 2 Axes>"
            ]
          },
          "metadata": {},
          "output_type": "display_data"
        }
      ],
      "source": [
        "import seaborn as sns\n",
        "import matplotlib.pyplot as plt\n",
        "\n",
        "plt.figure(figsize=(10, 8))  # Set the figure size\n",
        "sns.set(font_scale=1.2)  # Set the font scale for better readability\n",
        "\n",
        "# Construct the correlation matrix\n",
        "correlation_matrix = cars2.corr()\n",
        "\n",
        "# Create a heatmap with annotations\n",
        "sns.heatmap(correlation_matrix, annot=True, cmap='coolwarm', vmin=-1, vmax=1, center=0, linewidths=0.5)\n",
        "\n",
        "# Set the title and axis labels\n",
        "plt.title('Correlation Matrix')\n",
        "plt.xlabel('Features')\n",
        "plt.ylabel('Features')\n",
        "\n",
        "# Rotate the x-axis labels for better readability\n",
        "plt.xticks(rotation=45)\n",
        "\n",
        "# Show the plot\n",
        "plt.show()\n"
      ]
    },
    {
      "cell_type": "markdown",
      "metadata": {
        "id": "B3PUt3II_qlv"
      },
      "source": [
        "Upon reviewing the correlation matrix, it is possible to identify a high correlation (>0.7) between mileage(mpg), total cylinders (cylinders), volume (cubicinches), power (hp), and weight (weightlbs).\n"
      ]
    },
    {
      "cell_type": "markdown",
      "metadata": {
        "id": "9HcY2tqr_qlv"
      },
      "source": [
        "#### Normalizing the Data\n"
      ]
    },
    {
      "cell_type": "code",
      "execution_count": 510,
      "metadata": {
        "colab": {
          "base_uri": "https://localhost:8080/",
          "height": 423
        },
        "id": "kDckC47M_qlv",
        "outputId": "0f576c4a-fe01-4912-8c8c-e4dfad3293db"
      },
      "outputs": [
        {
          "data": {
            "text/html": [
              "<div>\n",
              "<style scoped>\n",
              "    .dataframe tbody tr th:only-of-type {\n",
              "        vertical-align: middle;\n",
              "    }\n",
              "\n",
              "    .dataframe tbody tr th {\n",
              "        vertical-align: top;\n",
              "    }\n",
              "\n",
              "    .dataframe thead th {\n",
              "        text-align: right;\n",
              "    }\n",
              "</style>\n",
              "<table border=\"1\" class=\"dataframe\">\n",
              "  <thead>\n",
              "    <tr style=\"text-align: right;\">\n",
              "      <th></th>\n",
              "      <th>cylinders</th>\n",
              "      <th>cubicinches</th>\n",
              "      <th>hp</th>\n",
              "      <th>weightlbs</th>\n",
              "      <th>time-to-60</th>\n",
              "      <th>year</th>\n",
              "      <th>brand</th>\n",
              "    </tr>\n",
              "  </thead>\n",
              "  <tbody>\n",
              "    <tr>\n",
              "      <th>0</th>\n",
              "      <td>1.393053</td>\n",
              "      <td>1.372393</td>\n",
              "      <td>1.450681</td>\n",
              "      <td>1.414997</td>\n",
              "      <td>-1.221287</td>\n",
              "      <td>-1.327539</td>\n",
              "      <td>1</td>\n",
              "    </tr>\n",
              "    <tr>\n",
              "      <th>1</th>\n",
              "      <td>-0.919105</td>\n",
              "      <td>-1.030290</td>\n",
              "      <td>-0.874768</td>\n",
              "      <td>-1.280086</td>\n",
              "      <td>-0.532829</td>\n",
              "      <td>0.875880</td>\n",
              "      <td>3</td>\n",
              "    </tr>\n",
              "    <tr>\n",
              "      <th>2</th>\n",
              "      <td>1.393053</td>\n",
              "      <td>0.930520</td>\n",
              "      <td>0.832210</td>\n",
              "      <td>0.518209</td>\n",
              "      <td>-1.565516</td>\n",
              "      <td>-1.602966</td>\n",
              "      <td>1</td>\n",
              "    </tr>\n",
              "    <tr>\n",
              "      <th>3</th>\n",
              "      <td>1.393053</td>\n",
              "      <td>1.832677</td>\n",
              "      <td>1.079598</td>\n",
              "      <td>0.886364</td>\n",
              "      <td>-1.909745</td>\n",
              "      <td>-1.602966</td>\n",
              "      <td>1</td>\n",
              "    </tr>\n",
              "    <tr>\n",
              "      <th>4</th>\n",
              "      <td>-0.919105</td>\n",
              "      <td>-0.947439</td>\n",
              "      <td>-1.072679</td>\n",
              "      <td>-1.131408</td>\n",
              "      <td>0.499857</td>\n",
              "      <td>0.325025</td>\n",
              "      <td>1</td>\n",
              "    </tr>\n",
              "  </tbody>\n",
              "</table>\n",
              "</div>"
            ],
            "text/plain": [
              "   cylinders  cubicinches        hp  weightlbs  time-to-60      year  brand\n",
              "0   1.393053     1.372393  1.450681   1.414997   -1.221287 -1.327539      1\n",
              "1  -0.919105    -1.030290 -0.874768  -1.280086   -0.532829  0.875880      3\n",
              "2   1.393053     0.930520  0.832210   0.518209   -1.565516 -1.602966      1\n",
              "3   1.393053     1.832677  1.079598   0.886364   -1.909745 -1.602966      1\n",
              "4  -0.919105    -0.947439 -1.072679  -1.131408    0.499857  0.325025      1"
            ]
          },
          "execution_count": 510,
          "metadata": {},
          "output_type": "execute_result"
        }
      ],
      "source": [
        "# creating a copy dataframe of the cars2 dataframe to normalize the data for ML analysis\n",
        "dftest = cars2.copy()\n",
        "\n",
        "# performing data preprocessing by normalizing the data using the StandardScaler() function from the sklearn library\n",
        "normalize = StandardScaler() # initializing the standardscaler function\n",
        "\n",
        "# replacing the values in the dataframe with the normalized values using the StandardScaler function\n",
        "dftest[['cylinders','cubicinches','hp','weightlbs','time-to-60'\n",
        "        ,'year']] = normalize.fit_transform(dftest[['cylinders','cubicinches','hp','weightlbs'\n",
        "                                                    ,'time-to-60','year']])\n",
        "\n",
        "# reporting the data present in the dftest dataframe\n",
        "dftest.head()"
      ]
    },
    {
      "cell_type": "code",
      "execution_count": 511,
      "metadata": {
        "colab": {
          "base_uri": "https://localhost:8080/",
          "height": 300
        },
        "id": "wtP18dgY_qlv",
        "outputId": "8b834d59-ca4d-4716-8031-f08fe33e4959"
      },
      "outputs": [
        {
          "data": {
            "text/html": [
              "<div>\n",
              "<style scoped>\n",
              "    .dataframe tbody tr th:only-of-type {\n",
              "        vertical-align: middle;\n",
              "    }\n",
              "\n",
              "    .dataframe tbody tr th {\n",
              "        vertical-align: top;\n",
              "    }\n",
              "\n",
              "    .dataframe thead th {\n",
              "        text-align: right;\n",
              "    }\n",
              "</style>\n",
              "<table border=\"1\" class=\"dataframe\">\n",
              "  <thead>\n",
              "    <tr style=\"text-align: right;\">\n",
              "      <th></th>\n",
              "      <th>cylinders</th>\n",
              "      <th>cubicinches</th>\n",
              "      <th>hp</th>\n",
              "      <th>weightlbs</th>\n",
              "      <th>time-to-60</th>\n",
              "      <th>year</th>\n",
              "      <th>brand</th>\n",
              "    </tr>\n",
              "  </thead>\n",
              "  <tbody>\n",
              "    <tr>\n",
              "      <th>count</th>\n",
              "      <td>2.610000e+02</td>\n",
              "      <td>2.610000e+02</td>\n",
              "      <td>2.610000e+02</td>\n",
              "      <td>2.610000e+02</td>\n",
              "      <td>2.610000e+02</td>\n",
              "      <td>2.610000e+02</td>\n",
              "      <td>261.000000</td>\n",
              "    </tr>\n",
              "    <tr>\n",
              "      <th>mean</th>\n",
              "      <td>1.837611e-16</td>\n",
              "      <td>-1.276118e-16</td>\n",
              "      <td>1.174029e-16</td>\n",
              "      <td>-1.803581e-16</td>\n",
              "      <td>-2.041789e-16</td>\n",
              "      <td>-2.637311e-15</td>\n",
              "      <td>1.563218</td>\n",
              "    </tr>\n",
              "    <tr>\n",
              "      <th>std</th>\n",
              "      <td>1.001921e+00</td>\n",
              "      <td>1.001921e+00</td>\n",
              "      <td>1.001921e+00</td>\n",
              "      <td>1.001921e+00</td>\n",
              "      <td>1.001921e+00</td>\n",
              "      <td>1.001921e+00</td>\n",
              "      <td>0.784972</td>\n",
              "    </tr>\n",
              "    <tr>\n",
              "      <th>min</th>\n",
              "      <td>-1.497144e+00</td>\n",
              "      <td>-1.223609e+00</td>\n",
              "      <td>-1.493239e+00</td>\n",
              "      <td>-1.648240e+00</td>\n",
              "      <td>-2.598203e+00</td>\n",
              "      <td>-1.602966e+00</td>\n",
              "      <td>1.000000</td>\n",
              "    </tr>\n",
              "    <tr>\n",
              "      <th>25%</th>\n",
              "      <td>-9.191048e-01</td>\n",
              "      <td>-9.198217e-01</td>\n",
              "      <td>-7.758132e-01</td>\n",
              "      <td>-8.918710e-01</td>\n",
              "      <td>-5.328295e-01</td>\n",
              "      <td>-7.766842e-01</td>\n",
              "      <td>1.000000</td>\n",
              "    </tr>\n",
              "    <tr>\n",
              "      <th>50%</th>\n",
              "      <td>2.369740e-01</td>\n",
              "      <td>-4.135093e-01</td>\n",
              "      <td>-2.810368e-01</td>\n",
              "      <td>-1.248816e-01</td>\n",
              "      <td>1.556284e-01</td>\n",
              "      <td>4.959804e-02</td>\n",
              "      <td>1.000000</td>\n",
              "    </tr>\n",
              "    <tr>\n",
              "      <th>75%</th>\n",
              "      <td>1.393053e+00</td>\n",
              "      <td>9.305202e-01</td>\n",
              "      <td>7.827325e-01</td>\n",
              "      <td>7.719060e-01</td>\n",
              "      <td>4.998573e-01</td>\n",
              "      <td>8.758803e-01</td>\n",
              "      <td>2.000000</td>\n",
              "    </tr>\n",
              "    <tr>\n",
              "      <th>max</th>\n",
              "      <td>1.393053e+00</td>\n",
              "      <td>2.338990e+00</td>\n",
              "      <td>3.058704e+00</td>\n",
              "      <td>2.344824e+00</td>\n",
              "      <td>3.253689e+00</td>\n",
              "      <td>1.702163e+00</td>\n",
              "      <td>3.000000</td>\n",
              "    </tr>\n",
              "  </tbody>\n",
              "</table>\n",
              "</div>"
            ],
            "text/plain": [
              "          cylinders   cubicinches            hp     weightlbs    time-to-60  \\\n",
              "count  2.610000e+02  2.610000e+02  2.610000e+02  2.610000e+02  2.610000e+02   \n",
              "mean   1.837611e-16 -1.276118e-16  1.174029e-16 -1.803581e-16 -2.041789e-16   \n",
              "std    1.001921e+00  1.001921e+00  1.001921e+00  1.001921e+00  1.001921e+00   \n",
              "min   -1.497144e+00 -1.223609e+00 -1.493239e+00 -1.648240e+00 -2.598203e+00   \n",
              "25%   -9.191048e-01 -9.198217e-01 -7.758132e-01 -8.918710e-01 -5.328295e-01   \n",
              "50%    2.369740e-01 -4.135093e-01 -2.810368e-01 -1.248816e-01  1.556284e-01   \n",
              "75%    1.393053e+00  9.305202e-01  7.827325e-01  7.719060e-01  4.998573e-01   \n",
              "max    1.393053e+00  2.338990e+00  3.058704e+00  2.344824e+00  3.253689e+00   \n",
              "\n",
              "               year       brand  \n",
              "count  2.610000e+02  261.000000  \n",
              "mean  -2.637311e-15    1.563218  \n",
              "std    1.001921e+00    0.784972  \n",
              "min   -1.602966e+00    1.000000  \n",
              "25%   -7.766842e-01    1.000000  \n",
              "50%    4.959804e-02    1.000000  \n",
              "75%    8.758803e-01    2.000000  \n",
              "max    1.702163e+00    3.000000  "
            ]
          },
          "execution_count": 511,
          "metadata": {},
          "output_type": "execute_result"
        }
      ],
      "source": [
        "# describing the data from the dataframe to verify data normalization (mean =~ 0 and std =~1)\n",
        "dftest.describe()"
      ]
    },
    {
      "cell_type": "code",
      "execution_count": 512,
      "metadata": {
        "colab": {
          "base_uri": "https://localhost:8080/"
        },
        "id": "rpwPH30g_qlv",
        "outputId": "f2f88220-6ea2-4a4e-80a6-7d8a4d88476e"
      },
      "outputs": [
        {
          "data": {
            "text/plain": [
              "3.05870398977614"
            ]
          },
          "execution_count": 512,
          "metadata": {},
          "output_type": "execute_result"
        }
      ],
      "source": [
        "# checking the maximum value present in the hp column of the dftest dataframe\n",
        "dftest.hp.max()"
      ]
    },
    {
      "cell_type": "code",
      "execution_count": 513,
      "metadata": {
        "colab": {
          "base_uri": "https://localhost:8080/"
        },
        "id": "STlK9nSz_qlw",
        "outputId": "b2a5629a-2b57-48aa-b697-b5d80e5ebf09"
      },
      "outputs": [
        {
          "data": {
            "text/plain": [
              "3.0528387801804"
            ]
          },
          "execution_count": 513,
          "metadata": {},
          "output_type": "execute_result"
        }
      ],
      "source": [
        "# checking mathematically how the value would be after normalization (normalized value = (value - mean) / standard deviation)\n",
        "tests = (cars2.hp - cars2.hp.mean()) / (cars2.hp.std()) # calculating the standardized values manually\n",
        "tests.max() # checking the maximum standardized value manually"
      ]
    },
    {
      "cell_type": "markdown",
      "metadata": {},
      "source": [
        "#### Visualising PCA\n"
      ]
    },
    {
      "cell_type": "code",
      "execution_count": 517,
      "metadata": {},
      "outputs": [
        {
          "data": {
            "image/png": "[encoded data removed]",
            "text/plain": [
              "<Figure size 800x800 with 1 Axes>"
            ]
          },
          "metadata": {},
          "output_type": "display_data"
        }
      ],
      "source": [
        "import pandas as pd\n",
        "import numpy as np\n",
        "import matplotlib.pyplot as plt\n",
        "\n",
        "def plot_correlation_circle(data):\n",
        "    # Compute the correlation matrix\n",
        "    corr_matrix = data.corr()\n",
        "\n",
        "    # Eigen decomposition of the correlation matrix\n",
        "    eig_values, eig_vectors = np.linalg.eig(corr_matrix)\n",
        "\n",
        "    # Length of the variables\n",
        "    var_length = np.sqrt(eig_values)\n",
        "\n",
        "    # Get the sorted indices of eigenvalues\n",
        "    sorted_indices = np.argsort(eig_values)[::-1]\n",
        "\n",
        "    # Get the sorted eigenvalues and eigenvectors\n",
        "    sorted_eig_values = eig_values[sorted_indices]\n",
        "    sorted_eig_vectors = eig_vectors[:, sorted_indices]\n",
        "\n",
        "    # Plotting\n",
        "    plt.figure(figsize=(8, 8))\n",
        "    plt.title('Correlation Circle')\n",
        "\n",
        "    # Plot circle\n",
        "    circle = plt.Circle((0, 0), 1, color='b', fill=False)\n",
        "    plt.gca().add_artist(circle)\n",
        "\n",
        "    # Plot arrows representing variables\n",
        "    for i in range(len(data.columns)):\n",
        "        plt.arrow(0, 0, sorted_eig_vectors[i, 0], sorted_eig_vectors[i, 1],\n",
        "                  head_width=0.05, head_length=0.1, fc='r', ec='r')\n",
        "        plt.text(sorted_eig_vectors[i, 0], sorted_eig_vectors[i, 1], data.columns[i])\n",
        "\n",
        "    plt.xlim(-1.5, 1.5)\n",
        "    plt.ylim(-1.5, 1.5)\n",
        "    plt.xlabel('PC1')\n",
        "    plt.ylabel('PC2')\n",
        "    plt.grid()\n",
        "    plt.gca().set_aspect('equal', adjustable='box')\n",
        "    plt.show()\n",
        "\n",
        "\n",
        "# Plot correlation circle\n",
        "plot_correlation_circle(cars2)\n"
      ]
    },
    {
      "cell_type": "markdown",
      "metadata": {},
      "source": [
        "The correlation circle plot visualizes how variables contribute to principal components in PCA. Longer arrows indicate greater importance, while angles between arrows show relationships between variables. Closer arrows suggest similar patterns, while farther ones indicate less correlation. Understanding these relationships helps in dimension reduction and interpretation of data patterns.\n"
      ]
    },
    {
      "cell_type": "markdown",
      "metadata": {
        "id": "a9ulJlrX_qlw"
      },
      "source": [
        "#### Reducing Data Dimensionality\n"
      ]
    },
    {
      "cell_type": "code",
      "execution_count": 518,
      "metadata": {},
      "outputs": [
        {
          "data": {
            "image/png": "[encoded data removed]",
            "text/plain": [
              "<Figure size 640x480 with 1 Axes>"
            ]
          },
          "metadata": {},
          "output_type": "display_data"
        }
      ],
      "source": [
        "# Perform PCA\n",
        "pca = PCA()\n",
        "pca.fit(cars2)\n",
        "\n",
        "# Calculate the explained variance ratio\n",
        "explained_variance_ratio = pca.explained_variance_ratio_\n",
        "\n",
        "# Plot the scree plot\n",
        "plt.plot(range(1, len(explained_variance_ratio) + 1), np.cumsum(explained_variance_ratio))\n",
        "plt.xlabel('Number of Principal Components')\n",
        "plt.ylabel('Cumulative Explained Variance')\n",
        "plt.title('Scree Plot for PCA')\n",
        "plt.show()\n"
      ]
    },
    {
      "cell_type": "code",
      "execution_count": 519,
      "metadata": {
        "id": "3NNs9H2j_qlw"
      },
      "outputs": [],
      "source": [
        "# performing a PCA analysis of the data\n",
        "pca = PCA(n_components = 3) # initializing PCA with a total of 3 components\n",
        "\n",
        "# modeling the data with the pca analysis\n",
        "principalcomponents = pca.fit_transform(dftest[['cylinders','cubicinches','hp','weightlbs','time-to-60','year']])\n"
      ]
    },
    {
      "cell_type": "code",
      "execution_count": 520,
      "metadata": {
        "colab": {
          "base_uri": "https://localhost:8080/"
        },
        "id": "6VFi94E9_qlw",
        "outputId": "edd9c6ef-a8e3-4620-9920-4c29b9f37e23"
      },
      "outputs": [
        {
          "name": "stdout",
          "output_type": "stream",
          "text": [
            "[0.71926912 0.14336765 0.09906189]\n"
          ]
        }
      ],
      "source": [
        "# checking the variance of the data when using each SVD (singular value dec.) from PCA\n",
        "print(pca.explained_variance_ratio_)"
      ]
    },
    {
      "cell_type": "code",
      "execution_count": 521,
      "metadata": {
        "colab": {
          "base_uri": "https://localhost:8080/"
        },
        "id": "JX1Skuy7_qlw",
        "outputId": "887efa10-826c-4624-cb75-7ce3c9f5e8ea"
      },
      "outputs": [
        {
          "name": "stdout",
          "output_type": "stream",
          "text": [
            "[33.56151732 14.98378259 12.45515642]\n"
          ]
        }
      ],
      "source": [
        "# checking the singular values obtained in the PCA analysis\n",
        "print(pca.singular_values_)"
      ]
    },
    {
      "cell_type": "code",
      "execution_count": 522,
      "metadata": {
        "id": "5yixI9CM_qlw"
      },
      "outputs": [
        {
          "data": {
            "text/html": [
              "<div>\n",
              "<style scoped>\n",
              "    .dataframe tbody tr th:only-of-type {\n",
              "        vertical-align: middle;\n",
              "    }\n",
              "\n",
              "    .dataframe tbody tr th {\n",
              "        vertical-align: top;\n",
              "    }\n",
              "\n",
              "    .dataframe thead th {\n",
              "        text-align: right;\n",
              "    }\n",
              "</style>\n",
              "<table border=\"1\" class=\"dataframe\">\n",
              "  <thead>\n",
              "    <tr style=\"text-align: right;\">\n",
              "      <th></th>\n",
              "      <th>PC1</th>\n",
              "      <th>PC2</th>\n",
              "      <th>PC3</th>\n",
              "    </tr>\n",
              "  </thead>\n",
              "  <tbody>\n",
              "    <tr>\n",
              "      <th>0</th>\n",
              "      <td>3.280585</td>\n",
              "      <td>0.632121</td>\n",
              "      <td>0.069800</td>\n",
              "    </tr>\n",
              "    <tr>\n",
              "      <th>1</th>\n",
              "      <td>-1.865829</td>\n",
              "      <td>-0.117613</td>\n",
              "      <td>-1.338416</td>\n",
              "    </tr>\n",
              "    <tr>\n",
              "      <th>2</th>\n",
              "      <td>2.575359</td>\n",
              "      <td>1.231067</td>\n",
              "      <td>-0.430040</td>\n",
              "    </tr>\n",
              "    <tr>\n",
              "      <th>3</th>\n",
              "      <td>3.393644</td>\n",
              "      <td>1.064448</td>\n",
              "      <td>-0.495242</td>\n",
              "    </tr>\n",
              "    <tr>\n",
              "      <th>4</th>\n",
              "      <td>-2.097263</td>\n",
              "      <td>0.199818</td>\n",
              "      <td>-0.212392</td>\n",
              "    </tr>\n",
              "  </tbody>\n",
              "</table>\n",
              "</div>"
            ],
            "text/plain": [
              "        PC1       PC2       PC3\n",
              "0  3.280585  0.632121  0.069800\n",
              "1 -1.865829 -0.117613 -1.338416\n",
              "2  2.575359  1.231067 -0.430040\n",
              "3  3.393644  1.064448 -0.495242\n",
              "4 -2.097263  0.199818 -0.212392"
            ]
          },
          "execution_count": 522,
          "metadata": {},
          "output_type": "execute_result"
        }
      ],
      "source": [
        "# creating a dataframe to show the data according to the PCA analysis\n",
        "principalDf = pd.DataFrame(data = principalcomponents\n",
        "                           , columns = [f'PC{i+1}' for i in range(principalcomponents.shape[1])])\n",
        "principalDf.head()"
      ]
    },
    {
      "cell_type": "markdown",
      "metadata": {
        "id": "sViYzo34_qlx"
      },
      "source": [
        "#### Performing Cluster Analysis with KMeans for PCA Data and comparing the results\n"
      ]
    },
    {
      "cell_type": "code",
      "execution_count": 524,
      "metadata": {
        "colab": {
          "base_uri": "https://localhost:8080/"
        },
        "id": "3-VaY43j_qlx",
        "outputId": "a91a5759-5e06-4831-db8f-1edfe6a7217e"
      },
      "outputs": [
        {
          "name": "stdout",
          "output_type": "stream",
          "text": [
            "Variance (Inertia) of K-means Analysis with PCA:\n",
            "462.3671626706924\n",
            "Variance (Inertia) of K-means Analysis with Original Processed Data:\n",
            "518.3415595379205\n"
          ]
        }
      ],
      "source": [
        "# performing k-means analysis using the data decomposed with PCA\n",
        "kmeans = KMeans(n_clusters=3, random_state=42)\n",
        "\n",
        "########################### PCA ########################################\n",
        "# fitting the data to the k-means model and obtaining cluster labels\n",
        "pred_y = kmeans.fit_predict(principalDf)\n",
        "\n",
        "# calculating the variance (inertia) of the k-means analysis with PCA\n",
        "inertia_pca = kmeans.inertia_\n",
        "print(\"Variance (Inertia) of K-means Analysis with PCA:\")\n",
        "print(inertia_pca)\n",
        "\n",
        "########################### ORIGINAL Processed Data ########################################\n",
        "kmeans2 = KMeans(n_clusters=3, random_state=42)\n",
        "\n",
        "# fitting the data to the k-means model and obtaining cluster labels\n",
        "pred_y2 = kmeans2.fit_predict(dftest[[ 'cylinders', 'cubicinches', 'hp', 'weightlbs', 'time-to-60', 'year']])\n",
        "\n",
        "# calculating the variance (inertia) of the k-means analysis with the original processed data\n",
        "inertia_original = kmeans2.inertia_\n",
        "print(\"Variance (Inertia) of K-means Analysis with Original Processed Data:\")\n",
        "print(inertia_original)\n"
      ]
    },
    {
      "cell_type": "code",
      "execution_count": 525,
      "metadata": {
        "colab": {
          "base_uri": "https://localhost:8080/"
        },
        "id": "3Mke0kns_qly",
        "outputId": "d6999e3c-83df-4a26-ad3f-672015180651"
      },
      "outputs": [
        {
          "name": "stdout",
          "output_type": "stream",
          "text": [
            "Counter({1: 129, 2: 72, 0: 60})\n",
            "Counter({1: 129, 2: 71, 0: 61})\n"
          ]
        }
      ],
      "source": [
        "## identifying the total data in each group reported by kmeans\n",
        "\n",
        "# showing on the screen the total data in each group\n",
        "print(Counter(kmeans.labels_))\n",
        "print(Counter(kmeans2.labels_))"
      ]
    },
    {
      "cell_type": "markdown",
      "metadata": {
        "id": "LrR15nyo_qly"
      },
      "source": [
        "#### Performing Predictive Analysis with Supervised Algorithms (Decision Tree and Logistic Regression)\n"
      ]
    },
    {
      "cell_type": "code",
      "execution_count": 526,
      "metadata": {
        "colab": {
          "base_uri": "https://localhost:8080/",
          "height": 423
        },
        "id": "moVy6J95_qly",
        "outputId": "681df447-28b6-4ffa-813f-d01b065154d0"
      },
      "outputs": [
        {
          "data": {
            "text/html": [
              "<div>\n",
              "<style scoped>\n",
              "    .dataframe tbody tr th:only-of-type {\n",
              "        vertical-align: middle;\n",
              "    }\n",
              "\n",
              "    .dataframe tbody tr th {\n",
              "        vertical-align: top;\n",
              "    }\n",
              "\n",
              "    .dataframe thead th {\n",
              "        text-align: right;\n",
              "    }\n",
              "</style>\n",
              "<table border=\"1\" class=\"dataframe\">\n",
              "  <thead>\n",
              "    <tr style=\"text-align: right;\">\n",
              "      <th></th>\n",
              "      <th>cylinders</th>\n",
              "      <th>cubicinches</th>\n",
              "      <th>hp</th>\n",
              "      <th>weightlbs</th>\n",
              "      <th>time-to-60</th>\n",
              "      <th>year</th>\n",
              "      <th>brand</th>\n",
              "    </tr>\n",
              "  </thead>\n",
              "  <tbody>\n",
              "    <tr>\n",
              "      <th>0</th>\n",
              "      <td>8</td>\n",
              "      <td>350.0</td>\n",
              "      <td>165</td>\n",
              "      <td>4209.0</td>\n",
              "      <td>12</td>\n",
              "      <td>1972</td>\n",
              "      <td>1</td>\n",
              "    </tr>\n",
              "    <tr>\n",
              "      <th>1</th>\n",
              "      <td>4</td>\n",
              "      <td>89.0</td>\n",
              "      <td>71</td>\n",
              "      <td>1925.0</td>\n",
              "      <td>14</td>\n",
              "      <td>1980</td>\n",
              "      <td>3</td>\n",
              "    </tr>\n",
              "    <tr>\n",
              "      <th>2</th>\n",
              "      <td>8</td>\n",
              "      <td>302.0</td>\n",
              "      <td>140</td>\n",
              "      <td>3449.0</td>\n",
              "      <td>11</td>\n",
              "      <td>1971</td>\n",
              "      <td>1</td>\n",
              "    </tr>\n",
              "    <tr>\n",
              "      <th>3</th>\n",
              "      <td>8</td>\n",
              "      <td>400.0</td>\n",
              "      <td>150</td>\n",
              "      <td>3761.0</td>\n",
              "      <td>10</td>\n",
              "      <td>1971</td>\n",
              "      <td>1</td>\n",
              "    </tr>\n",
              "    <tr>\n",
              "      <th>4</th>\n",
              "      <td>4</td>\n",
              "      <td>98.0</td>\n",
              "      <td>63</td>\n",
              "      <td>2051.0</td>\n",
              "      <td>17</td>\n",
              "      <td>1978</td>\n",
              "      <td>1</td>\n",
              "    </tr>\n",
              "  </tbody>\n",
              "</table>\n",
              "</div>"
            ],
            "text/plain": [
              "   cylinders  cubicinches   hp  weightlbs  time-to-60  year  brand\n",
              "0          8        350.0  165     4209.0          12  1972      1\n",
              "1          4         89.0   71     1925.0          14  1980      3\n",
              "2          8        302.0  140     3449.0          11  1971      1\n",
              "3          8        400.0  150     3761.0          10  1971      1\n",
              "4          4         98.0   63     2051.0          17  1978      1"
            ]
          },
          "execution_count": 526,
          "metadata": {},
          "output_type": "execute_result"
        }
      ],
      "source": [
        "## comparing the cars2 and dftest dataframes\n",
        "cars2.head()# showing the cars2 dataframe"
      ]
    },
    {
      "cell_type": "code",
      "execution_count": 527,
      "metadata": {},
      "outputs": [
        {
          "data": {
            "text/html": [
              "<div>\n",
              "<style scoped>\n",
              "    .dataframe tbody tr th:only-of-type {\n",
              "        vertical-align: middle;\n",
              "    }\n",
              "\n",
              "    .dataframe tbody tr th {\n",
              "        vertical-align: top;\n",
              "    }\n",
              "\n",
              "    .dataframe thead th {\n",
              "        text-align: right;\n",
              "    }\n",
              "</style>\n",
              "<table border=\"1\" class=\"dataframe\">\n",
              "  <thead>\n",
              "    <tr style=\"text-align: right;\">\n",
              "      <th></th>\n",
              "      <th>cylinders</th>\n",
              "      <th>cubicinches</th>\n",
              "      <th>hp</th>\n",
              "      <th>weightlbs</th>\n",
              "      <th>time-to-60</th>\n",
              "      <th>year</th>\n",
              "      <th>brand</th>\n",
              "    </tr>\n",
              "  </thead>\n",
              "  <tbody>\n",
              "    <tr>\n",
              "      <th>0</th>\n",
              "      <td>1.393053</td>\n",
              "      <td>1.372393</td>\n",
              "      <td>1.450681</td>\n",
              "      <td>1.414997</td>\n",
              "      <td>-1.221287</td>\n",
              "      <td>-1.327539</td>\n",
              "      <td>1</td>\n",
              "    </tr>\n",
              "    <tr>\n",
              "      <th>1</th>\n",
              "      <td>-0.919105</td>\n",
              "      <td>-1.030290</td>\n",
              "      <td>-0.874768</td>\n",
              "      <td>-1.280086</td>\n",
              "      <td>-0.532829</td>\n",
              "      <td>0.875880</td>\n",
              "      <td>3</td>\n",
              "    </tr>\n",
              "    <tr>\n",
              "      <th>2</th>\n",
              "      <td>1.393053</td>\n",
              "      <td>0.930520</td>\n",
              "      <td>0.832210</td>\n",
              "      <td>0.518209</td>\n",
              "      <td>-1.565516</td>\n",
              "      <td>-1.602966</td>\n",
              "      <td>1</td>\n",
              "    </tr>\n",
              "    <tr>\n",
              "      <th>3</th>\n",
              "      <td>1.393053</td>\n",
              "      <td>1.832677</td>\n",
              "      <td>1.079598</td>\n",
              "      <td>0.886364</td>\n",
              "      <td>-1.909745</td>\n",
              "      <td>-1.602966</td>\n",
              "      <td>1</td>\n",
              "    </tr>\n",
              "    <tr>\n",
              "      <th>4</th>\n",
              "      <td>-0.919105</td>\n",
              "      <td>-0.947439</td>\n",
              "      <td>-1.072679</td>\n",
              "      <td>-1.131408</td>\n",
              "      <td>0.499857</td>\n",
              "      <td>0.325025</td>\n",
              "      <td>1</td>\n",
              "    </tr>\n",
              "  </tbody>\n",
              "</table>\n",
              "</div>"
            ],
            "text/plain": [
              "   cylinders  cubicinches        hp  weightlbs  time-to-60      year  brand\n",
              "0   1.393053     1.372393  1.450681   1.414997   -1.221287 -1.327539      1\n",
              "1  -0.919105    -1.030290 -0.874768  -1.280086   -0.532829  0.875880      3\n",
              "2   1.393053     0.930520  0.832210   0.518209   -1.565516 -1.602966      1\n",
              "3   1.393053     1.832677  1.079598   0.886364   -1.909745 -1.602966      1\n",
              "4  -0.919105    -0.947439 -1.072679  -1.131408    0.499857  0.325025      1"
            ]
          },
          "execution_count": 527,
          "metadata": {},
          "output_type": "execute_result"
        }
      ],
      "source": [
        "dftest.head() # showing the dftest dataframe"
      ]
    },
    {
      "cell_type": "code",
      "execution_count": 528,
      "metadata": {},
      "outputs": [],
      "source": [
        "from sklearn.model_selection import train_test_split\n",
        "def split_data(inputs, output, test_size=0.3, random_state=42):\n",
        "    # adding the input data as a matrix x\n",
        "    x = inputs\n",
        "\n",
        "    # adding the output data as a vector y\n",
        "    y = output\n",
        "\n",
        "    # randomly partitioning the data into training and testing\n",
        "    X_train, X_test, y_train, y_test = train_test_split(x, y, test_size=test_size, random_state=random_state)\n",
        "    \n",
        "    return X_train, y_train, X_test, y_test"
      ]
    },
    {
      "cell_type": "code",
      "execution_count": 543,
      "metadata": {
        "colab": {
          "base_uri": "https://localhost:8080/"
        },
        "id": "l_Moiv56_qly",
        "outputId": "9ce4d66b-b30d-4377-a8d1-57f05db66001"
      },
      "outputs": [],
      "source": [
        "from sklearn.tree import DecisionTreeClassifier\n",
        "from sklearn.metrics import accuracy_score, confusion_matrix, classification_report\n",
        "\n",
        "\n",
        "import matplotlib.pyplot as plt\n",
        "\n",
        "def decision_tree_analysis(X_train, y_train, X_test, y_test):\n",
        "    # performing the decision tree analysis\n",
        "    clf_tree = DecisionTreeClassifier(random_state=42)  # initializing the classifier\n",
        "    clf_tree.fit(X_train, y_train)  # modeling the tree according to the data values\n",
        "    result_tree = clf_tree.predict(X_test)  # calculating the predicted values by the model with the test data\n",
        "\n",
        "    # checking the accuracy of the created model\n",
        "    accuracy_tree = accuracy_score(y_test, result_tree)\n",
        "    print('Accuracy Decision Tree:', accuracy_tree)\n",
        "    print()\n",
        "\n",
        "    \n",
        "    cm = confusion_matrix(y_test, result_tree)\n",
        "\n",
        "\n",
        "    # reporting metrics data for model evaluation (precision, recall, f1-score,...)\n",
        "    print(classification_report(y_test, result_tree))\n",
        "    \n",
        "    # return accuracy\n",
        "    return accuracy_tree,cm\n"
      ]
    },
    {
      "cell_type": "code",
      "execution_count": 538,
      "metadata": {},
      "outputs": [],
      "source": [
        "x_train, y_train, x_test, y_test = split_data(dftest[['cylinders', 'cubicinches', 'hp', 'weightlbs', 'time-to-60', 'year']], efficiency)\n",
        "X_trainPCA, y_trainPCA, X_testPCA, y_testPCA = split_data(principalDf, efficiency)"
      ]
    },
    {
      "cell_type": "code",
      "execution_count": 545,
      "metadata": {},
      "outputs": [
        {
          "name": "stdout",
          "output_type": "stream",
          "text": [
            "Accuracy Decision Tree: 0.8987341772151899\n",
            "\n",
            "               precision    recall  f1-score   support\n",
            "\n",
            "    Efficient       0.89      0.89      0.89        38\n",
            "Not efficient       0.90      0.90      0.90        41\n",
            "\n",
            "     accuracy                           0.90        79\n",
            "    macro avg       0.90      0.90      0.90        79\n",
            " weighted avg       0.90      0.90      0.90        79\n",
            "\n",
            "Accuracy Decision Tree: 0.8860759493670886\n",
            "\n",
            "               precision    recall  f1-score   support\n",
            "\n",
            "    Efficient       0.94      0.82      0.87        38\n",
            "Not efficient       0.85      0.95      0.90        41\n",
            "\n",
            "     accuracy                           0.89        79\n",
            "    macro avg       0.89      0.88      0.88        79\n",
            " weighted avg       0.89      0.89      0.89        79\n",
            "\n"
          ]
        }
      ],
      "source": [
        "accuracy_tree,cm = decision_tree_analysis(x_train, y_train, x_test, y_test)\n",
        "accuracy_treePCA,cmPCA = decision_tree_analysis(X_trainPCA, y_trainPCA, X_testPCA, y_testPCA)"
      ]
    },
    {
      "cell_type": "code",
      "execution_count": 547,
      "metadata": {},
      "outputs": [
        {
          "data": {
            "image/png": "[encoded data removed]",
            "text/plain": [
              "<Figure size 1000x300 with 4 Axes>"
            ]
          },
          "metadata": {},
          "output_type": "display_data"
        }
      ],
      "source": [
        "# plot confusion matrixes cm cmPCA\n",
        "\n",
        "fig, ax = plt.subplots(1, 2, figsize=(10,3 ))\n",
        "\n",
        "# Plot confusion matrix for the original data\n",
        "sns.heatmap(cm, annot=True, fmt='d', cmap='Blues', ax=ax[0])\n",
        "ax[0].set_title('Confusion Matrix for Original Data')\n",
        "ax[0].set_xlabel('Predicted')\n",
        "ax[0].set_ylabel('Actual')\n",
        "\n",
        "# Plot confusion matrix for the PCA data\n",
        "sns.heatmap(cmPCA, annot=True, fmt='d', cmap='Blues', ax=ax[1])\n",
        "ax[1].set_title('Confusion Matrix for PCA Data')\n",
        "ax[1].set_xlabel('Predicted')\n",
        "ax[1].set_ylabel('Actual')\n",
        "\n",
        "plt.show()"
      ]
    },
    {
      "cell_type": "code",
      "execution_count": 548,
      "metadata": {},
      "outputs": [
        {
          "name": "stdout",
          "output_type": "stream",
          "text": [
            "╒══════════════════════════╤════════════╕\n",
            "│ Model                    │   Accuracy │\n",
            "╞══════════════════════════╪════════════╡\n",
            "│ Decision Tree (Original) │   0.898734 │\n",
            "├──────────────────────────┼────────────┤\n",
            "│ Decision Tree (PCA)      │   0.886076 │\n",
            "╘══════════════════════════╧════════════╛\n"
          ]
        }
      ],
      "source": [
        "# Create a table with the accuracy values\n",
        "table = [[\"Model\", \"Accuracy\"],\n",
        "         [\"Decision Tree (Original)\", accuracy_tree],\n",
        "         [\"Decision Tree (PCA)\", accuracy_treePCA]] \n",
        "\n",
        "# Display the table\n",
        "print(tabulate(table, headers=\"firstrow\", tablefmt=\"fancy_grid\"))"
      ]
    },
    {
      "cell_type": "markdown",
      "metadata": {
        "id": "Zar-jFfs_qlz"
      },
      "source": [
        "By analyzing the model parameters, it is possible to identify a good classification of the data, with a high value for the f1-score metric\n"
      ]
    },
    {
      "cell_type": "code",
      "execution_count": 533,
      "metadata": {
        "colab": {
          "base_uri": "https://localhost:8080/"
        },
        "id": "wmyeIblp_qlz",
        "outputId": "0a7704e9-df4c-4e7a-eb68-ad0fe9d4b82d"
      },
      "outputs": [
        {
          "name": "stdout",
          "output_type": "stream",
          "text": [
            "Logistic Regression Accuracy:  0.8987341772151899\n",
            "\n",
            "[[33  5]\n",
            " [ 3 38]]\n",
            "               precision    recall  f1-score   support\n",
            "\n",
            "    Efficient       0.92      0.87      0.89        38\n",
            "Not efficient       0.88      0.93      0.90        41\n",
            "\n",
            "     accuracy                           0.90        79\n",
            "    macro avg       0.90      0.90      0.90        79\n",
            " weighted avg       0.90      0.90      0.90        79\n",
            "\n"
          ]
        }
      ],
      "source": [
        "## Performing linear regression to try to predict efficiency data to compare with the decision tree\n",
        "\n",
        "clf_regr = lm.LogisticRegression(random_state=42) # initializing the linear regression model\n",
        "clf_regr.fit(x_train, np.ravel(y_train)) # modeling linear regression with the same data used in the decision tree\n",
        "result_logistic = clf_regr.predict(x_test) # calculating the predicted values by the model for the test data\n",
        "\n",
        "# checking the accuracy of the created model\n",
        "accuracy_logistic = accuracy_score(y_test, result_logistic)\n",
        "\n",
        "# displaying the accuracy value on the screen\n",
        "print('Logistic Regression Accuracy: ', accuracy_logistic)\n",
        "print() # adding a space in the output to show the confusion matrix data\n",
        "\n",
        "# reporting the confusion matrix\n",
        "print(confusion_matrix(y_test, result_logistic))\n",
        "\n",
        "# reporting the metric data for model evaluation (precision, recall, f1-score,...)\n",
        "print(classification_report(y_test, result_logistic))"
      ]
    },
    {
      "cell_type": "markdown",
      "metadata": {
        "id": "3jF85ZAb_qlz"
      },
      "source": [
        "When analyzing the model parameters, it's also possible to identify a good classification of the data, with a high value for the f1-score metric.\n",
        "\n",
        "Furthermore, when comparing the models obtained with the decision tree and logistic regression, it's possible to identify that both methods were effective in predicting whether the car would be efficient or not through the analysis of car data (cylinders, volume, power, weight, time-to-60mph), where both methods presented models with similar values for the metric.\n"
      ]
    }
  ],
  "metadata": {
    "colab": {
      "provenance": []
    },
    "interpreter": {
      "hash": "49654d6ca896dbc5b8f70ee5c5195e37df41f08ae54a7cbd43e74f77434bbd55"
    },
    "kernelspec": {
      "display_name": "Python 3.7.6 64-bit ('base': conda)",
      "name": "python3"
    },
    "language_info": {
      "codemirror_mode": {
        "name": "ipython",
        "version": 3
      },
      "file_extension": ".py",
      "mimetype": "text/x-python",
      "name": "python",
      "nbconvert_exporter": "python",
      "pygments_lexer": "ipython3",
      "version": "3.12.1"
    }
  },
  "nbformat": 4,
  "nbformat_minor": 0
}
