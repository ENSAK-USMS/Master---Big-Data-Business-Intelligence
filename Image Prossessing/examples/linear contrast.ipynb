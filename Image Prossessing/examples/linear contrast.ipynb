{
 "cells": [
  {
   "cell_type": "code",
   "execution_count": 33,
   "metadata": {},
   "outputs": [
    {
     "name": "stdout",
     "output_type": "stream",
     "text": [
      "non Optimized Func : 0.025017738342285156\n",
      "Optimized Func : 0.003476858139038086\n",
      "Diff : -0.02154088020324707\n"
     ]
    }
   ],
   "source": [
    "import numpy as np\n",
    "def chnageContrast(imgMat):\n",
    "    max = imgMat.max()\n",
    "    min = imgMat.min()\n",
    "    tup = imgMat.shape\n",
    "    m = tup[0]\n",
    "    n = tup[1]\n",
    "    newimg = []\n",
    "    for i in range(m):\n",
    "        row = []\n",
    "        for j in range(n):\n",
    "            row.append(255/(max-min)*(imgMat[i][j]-min))\n",
    "        newimg.append(row)\n",
    "    return newimg\n",
    "\n",
    "\n",
    "def chnageContrastOptimized(imgMat):\n",
    "    max = imgMat.max()\n",
    "    min = imgMat.min()\n",
    "    tup = imgMat.shape\n",
    "    m = tup[0]\n",
    "    n = tup[1]\n",
    "    lut = []\n",
    "    newimg = []\n",
    "    \n",
    "    for i in range(256):\n",
    "        lut.append(255/(max-min)*(i-min))\n",
    "        \n",
    "    \n",
    "    for i in range(m):\n",
    "        row = []\n",
    "        for j in range(n):\n",
    "            row.append(lut[imgMat[i][j]])\n",
    "        newimg.append(row)\n",
    "    return newimg\n",
    "\n",
    "\n",
    "import time \n",
    "strt = time.time()\n",
    "chnageContrast(img)\n",
    "end1 = time.time()-strt\n",
    "\n",
    "print(\"non Optimized Func : \"+str(end1))\n",
    "\n",
    "strt = time.time()\n",
    "chnageContrastOptimized(img)\n",
    "end2 = time.time()-strt\n",
    "\n",
    "print(\"Optimized Func : \"+str(end2))\n",
    "\n",
    "\n",
    "print(\"Diff : \"+str(end2-end1))\n"
   ]
  }
 ],
 "metadata": {
  "kernelspec": {
   "display_name": "Python 3",
   "language": "python",
   "name": "python3"
  },
  "language_info": {
   "codemirror_mode": {
    "name": "ipython",
    "version": 3
   },
   "file_extension": ".py",
   "mimetype": "text/x-python",
   "name": "python",
   "nbconvert_exporter": "python",
   "pygments_lexer": "ipython3",
   "version": "3.10.10"
  }
 },
 "nbformat": 4,
 "nbformat_minor": 2
}
