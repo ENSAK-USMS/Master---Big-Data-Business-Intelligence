{
 "cells": [
  {
   "cell_type": "markdown",
   "metadata": {},
   "source": [
    "# Segmontation "
   ]
  },
  {
   "cell_type": "markdown",
   "metadata": {},
   "source": [
    "![Segmentation Image](images/segmentation.png)\n"
   ]
  },
  {
   "cell_type": "markdown",
   "metadata": {},
   "source": [
    "<!-- def of segmentation -->\n",
    "## 1 - What is Segmentation?\n",
    "Segmentation is the process of partitioning a digital image into multiple segments to make the image easier to analyze. It is a process of dividing an image into multiple segments. The goal of segmentation is to simplify and/or change the representation of an image into something that is more meaningful and easier to analyze. Image segmentation is typically used to locate objects and boundaries (lines, curves, etc.) in images. More precisely, image segmentation is the process of assigning a label to every pixel in an image such that pixels with the same label share certain characteristics."
   ]
  },
  {
   "cell_type": "markdown",
   "metadata": {},
   "source": [
    "## 2 - Principe of Segmentation\n",
    "\n",
    "The goal of segmentation is to simplify and/or change the representation of an image into something that is more meaningful and easier to analyze. Image segmentation is typically used to locate objects and boundaries (lines, curves, etc.) in images. More precisely, image segmentation is the process of assigning a label to every pixel in an image such that pixels with the same label share certain characteristics.\n",
    "\n",
    "    - les discontinuités : les points de rupture, les points de changement de direction, les points de changement de courbure, les points de changement de couleur, les points de changement de texture, etc.\n",
    "\n",
    "    - les zones d'homogénéité : les zones de couleur homogène, les zones de texture homogène, les zones de luminance homogène, etc."
   ]
  },
  {
   "cell_type": "markdown",
   "metadata": {},
   "source": [
    "## 3 - Approches de Segmentation\n",
    "\n",
    "- Approches pixel : seuillage, croissance de région, détection de contours, etc.\n",
    "- Approches par régions : croissance de région, division et fusion, etc.\n",
    "- Approches par détection de contours : détection de contours, détection de lignes, détection de coins, etc.\n",
    "- Approches duales ou hybrides : segmentation par détection de contours et remplissage de régions, segmentation par détection de régions et détection de contours, etc.\n",
    "\n"
   ]
  },
  {
   "cell_type": "markdown",
   "metadata": {},
   "source": [
    "## 4 - Applications de la segmentation\n",
    "\n",
    "### 4.1 - seuiilage\n",
    "Le seuillage est une technique de segmentation d'image qui consiste à diviser une image en deux régions : les pixels qui ont une intensité supérieure à un seuil donné et ceux qui ont une intensité inférieure à ce seuil.\n",
    "le seuillage peut etre :\n",
    "- seuillage global\n",
    "- seuillage local\n",
    "- seuillage adaptatif"
   ]
  }
 ],
 "metadata": {
  "language_info": {
   "name": "python"
  }
 },
 "nbformat": 4,
 "nbformat_minor": 2
}
