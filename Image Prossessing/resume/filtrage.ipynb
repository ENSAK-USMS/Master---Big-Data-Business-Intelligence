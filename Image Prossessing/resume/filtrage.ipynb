{
 "cells": [
  {
   "cell_type": "markdown",
   "metadata": {},
   "source": [
    "# Traitment d'image : filtrage"
   ]
  },
  {
   "cell_type": "markdown",
   "metadata": {},
   "source": [
    "the filtring use a fucntion called TF : transformée de fourier \n",
    "\n",
    "$$\n",
    "\\begin{align*}\n",
    "\\mathcal{F}(f)(t) &= \\int_{-\\infty}^{\\infty} s(t) e^{-2i\\pi ft} dt \\\\\n",
    "\\end{align*}"
   ]
  },
  {
   "cell_type": "markdown",
   "metadata": {},
   "source": [
    "but when we talk about image we use a double integral :\n",
    "\n",
    "$$\n",
    "\\begin{align*}\n",
    "\\mathcal{F}^{-1}(f)(x, y) &= \\int_{-\\infty}^{\\infty} \\int_{-\\infty}^{\\infty} s(x, y) e^{2i\\pi (ux + vy)} dx dy \\\\\n",
    "\\end{align*}"
   ]
  },
  {
   "cell_type": "markdown",
   "metadata": {},
   "source": [
    "the word feltring refer to the process of removing some frequencies from the image and keep the other frequencies"
   ]
  },
  {
   "cell_type": "markdown",
   "metadata": {},
   "source": [
    "## La Convolution\n"
   ]
  },
  {
   "cell_type": "markdown",
   "metadata": {},
   "source": [
    "\n",
    "the convolution is a mathematical operation that takes two functions f and g and produces a third function that represents how the shape of one is modified by the other.\n",
    "\n",
    "$$\n",
    "\\begin{align*}\n",
    "g(x) = f(x) * h(x)= \\int_{-\\infty}^{\\infty} h(x-t) f(t) dt\n",
    "\\end{align*}\n",
    "$$"
   ]
  },
  {
   "cell_type": "markdown",
   "metadata": {},
   "source": [
    "f(x) is the input and h(x) is the kernel or filter"
   ]
  },
  {
   "cell_type": "markdown",
   "metadata": {},
   "source": [
    "h(x) is a function that is used to modify the input ( masque de convolution, noyau de convolution, filtre de convolution ...)"
   ]
  },
  {
   "cell_type": "markdown",
   "metadata": {},
   "source": [
    "```mermaid\n"
   ]
  },
  {
   "cell_type": "markdown",
   "metadata": {},
   "source": [
    "example in katex of linear filter\n",
    "$$\n",
    "\\begin{align*}\n",
    "e_1 + e_2 \\rightarrow s_1 + s_2\n",
    "\\end{align*}"
   ]
  },
  {
   "cell_type": "markdown",
   "metadata": {},
   "source": [
    "### La convolution d'un image par un filtre 2D\n",
    "\n",
    "$$\n",
    "\\begin{align*}\n",
    "I'(i,j) = I(i,j) * filter (i,j) \\\\\n",
    "\n",
    "I'(i,j) = \\sum_{m} \\sum_{n} I(i-m,j-n) * filter (m,n)\n",
    "\\end{align*}\n",
    "$$\n",
    "\n"
   ]
  },
  {
   "cell_type": "markdown",
   "metadata": {},
   "source": [
    "<style>\n",
    "    .table-container {\n",
    "        display: flex;\n",
    "        flex-direction: row;\n",
    "        justify-content: center;\n",
    "        align-items: center;\n",
    "        width: 50%;\n",
    "        margin: 0 auto;\n",
    "    }\n",
    "    .mutpl {\n",
    "        font-size: 30px;\n",
    "        display: inline-block;\n",
    "        widtd: 50px;\n",
    "        text-align: center;\n",
    "        \n",
    "    }\n",
    "</style>\n",
    "\n",
    "<div class=\"table-container\">\n",
    "    <table>\n",
    "        <tr>\n",
    "            <td>x0</td>\n",
    "            <td>x1</td>\n",
    "            <td>x2</td>\n",
    "            <td>x3</td>\n",
    "            <td>x4</td>\n",
    "        </tr>\n",
    "        <tr>\n",
    "            <td>x5</td>\n",
    "            <td>x6</td>\n",
    "            <td>x7</td>\n",
    "            <td>x8</td>\n",
    "            <td>x9</td>\n",
    "        </tr>\n",
    "        <tr>\n",
    "            <td>x10</td>\n",
    "            <td>x11</td>\n",
    "            <td>x12</td>\n",
    "            <td>x13</td>\n",
    "            <td>x14</td>\n",
    "        </tr>\n",
    "        <tr>\n",
    "            <td>x15</td>\n",
    "            <td>x16</td>\n",
    "            <td>x17</td>\n",
    "            <td>x18</td>\n",
    "            <td>x19</td>\n",
    "        </tr>\n",
    "    </table>\n",
    "    <div class=\"mutpl\"> * </div>\n",
    "    <table>\n",
    "        <tr>\n",
    "            <td>j1</td>\n",
    "        </tr>\n",
    "        <tr>\n",
    "            <td>j3</td>\n",
    "        </tr>\n",
    "        <tr>\n",
    "            <td>j4</td>\n",
    "        </tr>\n",
    "    </table>\n",
    "    <div class=\"mutpl\"> = </div>\n",
    "    <table>\n",
    "        <tr>\n",
    "            <td>z1</td>\n",
    "            <td>z2</td>\n",
    "            <td>z3</td>\n",
    "            <td>z4</td>\n",
    "            <td>z5</td>\n",
    "        </tr>\n",
    "        <tr>\n",
    "            <td>z6</td>\n",
    "            <td>z7</td>\n",
    "            <td>z8</td>\n",
    "            <td>z9</td>\n",
    "            <td>z10</td>\n",
    "        </tr>\n",
    "        <tr>\n",
    "            <td>z11</td>\n",
    "            <td>z12</td>\n",
    "            <td>z13</td>\n",
    "            <td>z14</td>\n",
    "            <td>z15</td>\n",
    "        </tr>\n",
    "        <tr>\n",
    "            <td>z16</td>\n",
    "            <td>z17</td>\n",
    "            <td>z18</td>\n",
    "            <td>z19</td>\n",
    "            <td>z20</td>\n",
    "        </tr>\n",
    "    </table>\n",
    "    \n",
    "</div>\n"
   ]
  },
  {
   "cell_type": "markdown",
   "metadata": {},
   "source": [
    "the problem : what are we going to do with the pixels on the edge of the image ?\n",
    "\n",
    "- we can ignore them\n",
    "- we can fill them with zeros\n",
    "- we can fill them with the nearest pixel value\n",
    "- mirror the image : \n",
    "    - f(-x, y) = f(x, y)\n",
    "- there isn't a miracle solution, it depends on the context"
   ]
  }
 ],
 "metadata": {
  "language_info": {
   "name": "python"
  }
 },
 "nbformat": 4,
 "nbformat_minor": 2
}
