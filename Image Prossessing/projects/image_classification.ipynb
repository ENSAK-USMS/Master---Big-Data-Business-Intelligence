{
 "cells": [
  {
   "cell_type": "markdown",
   "metadata": {},
   "source": [
    "## Dataset Preparation\n"
   ]
  },
  {
   "cell_type": "code",
   "execution_count": 110,
   "metadata": {},
   "outputs": [],
   "source": [
    "import numpy as np\n",
    "import matplotlib.pyplot as plt\n",
    "from pathlib import Path\n",
    "from keras.preprocessing import image"
   ]
  },
  {
   "cell_type": "code",
   "execution_count": 111,
   "metadata": {},
   "outputs": [],
   "source": [
    "p=Path(r\"./classification/train\")"
   ]
  },
  {
   "cell_type": "code",
   "execution_count": 112,
   "metadata": {},
   "outputs": [],
   "source": [
    "labels_dict={\"not-a-gun\":0,\"gun\":1}\n",
    "labels=[]\n",
    "image_data=[]\n",
    "for folder_name in p.glob(\"*\"):\n",
    "    label=str(folder_name).split(\"\\\\\")[-1]\n",
    "    i=0\n",
    "    for image_path in folder_name.glob(\"*.jpg\"):\n",
    "        i+=1\n",
    "        if i>100:\n",
    "            break\n",
    "    \n",
    "        img=image.load_img(image_path,target_size=(32,32))\n",
    "        \n",
    "        img_array=image.img_to_array(img)\n",
    "        \n",
    "        image_data.append(img_array)\n",
    "        \n",
    "        labels.append(labels_dict[label])"
   ]
  },
  {
   "cell_type": "code",
   "execution_count": 113,
   "metadata": {},
   "outputs": [
    {
     "name": "stdout",
     "output_type": "stream",
     "text": [
      "10000\n",
      "10000\n"
     ]
    }
   ],
   "source": [
    "print(len(labels))\n",
    "print(len(image_data))\n"
   ]
  },
  {
   "cell_type": "code",
   "execution_count": 114,
   "metadata": {},
   "outputs": [
    {
     "name": "stdout",
     "output_type": "stream",
     "text": [
      "<class 'list'> <class 'list'>\n"
     ]
    }
   ],
   "source": [
    "print(type(image_data),type(labels))"
   ]
  },
  {
   "cell_type": "markdown",
   "metadata": {},
   "source": [
    "##### conversion into numpy array\n"
   ]
  },
  {
   "cell_type": "code",
   "execution_count": 115,
   "metadata": {},
   "outputs": [],
   "source": [
    "image_data=np.array(image_data,dtype=\"float32\")/255.0\n",
    "labels=np.array(labels)"
   ]
  },
  {
   "cell_type": "code",
   "execution_count": 116,
   "metadata": {},
   "outputs": [
    {
     "name": "stdout",
     "output_type": "stream",
     "text": [
      "(10000, 32, 32, 3) (10000,)\n"
     ]
    }
   ],
   "source": [
    "print(image_data.shape,labels.shape)"
   ]
  },
  {
   "cell_type": "markdown",
   "metadata": {},
   "source": [
    "#### random shuffling\n"
   ]
  },
  {
   "cell_type": "code",
   "execution_count": 117,
   "metadata": {},
   "outputs": [],
   "source": [
    "import random\n",
    "combine=list(zip(image_data,labels))\n",
    "random.shuffle(combine)\n",
    "image_data[:],labels[:]=zip(*combine)"
   ]
  },
  {
   "cell_type": "markdown",
   "metadata": {},
   "source": [
    "#### visualisation\n"
   ]
  },
  {
   "cell_type": "code",
   "execution_count": 118,
   "metadata": {},
   "outputs": [
    {
     "data": {
      "image/png": "[encoded data removed]",
      "text/plain": [
       "<Figure size 640x480 with 1 Axes>"
      ]
     },
     "metadata": {},
     "output_type": "display_data"
    }
   ],
   "source": [
    "def drawimage(img):\n",
    "    plt.imshow(img)\n",
    "    plt.axis(\"off\")\n",
    "    plt.show()\n",
    "    return\n",
    "\n",
    "\n",
    "drawimage(image_data[0])"
   ]
  },
  {
   "cell_type": "markdown",
   "metadata": {},
   "source": [
    "## SVM Classifier\n"
   ]
  },
  {
   "cell_type": "code",
   "execution_count": 119,
   "metadata": {},
   "outputs": [],
   "source": [
    "class SVM:\n",
    "    \n",
    "    def __init__(self,C=1.0):\n",
    "        self.C = C\n",
    "        self.W = 0\n",
    "        self.b = 0\n",
    "        \n",
    "    def hingeLoss(self,W,b,X,Y):\n",
    "        loss  = 0.0\n",
    "        \n",
    "        loss += .5*np.dot(W,W.T)\n",
    "        \n",
    "        m = X.shape[0]\n",
    "        \n",
    "        for i in range(m):\n",
    "            ti = Y[i]*(np.dot(W,X[i].T)+b)\n",
    "            loss += self.C *max(0,(1-ti))\n",
    "            \n",
    "        return loss[0][0]\n",
    "    \n",
    "    def fit(self,X,Y,batch_size=50,learning_rate=0.001,maxItr=500):\n",
    "        \n",
    "        no_of_features = X.shape[1]\n",
    "        no_of_samples = X.shape[0]\n",
    "        \n",
    "        n = learning_rate\n",
    "        c = self.C\n",
    "        \n",
    "        \n",
    "        W = np.zeros((1,no_of_features))\n",
    "        bias = 0\n",
    "        \n",
    "        \n",
    "        losses = []\n",
    "        \n",
    "        for i in range(maxItr):\n",
    "            \n",
    "            \n",
    "            l = self.hingeLoss(W,bias,X,Y)\n",
    "            losses.append(l)\n",
    "            ids = np.arange(no_of_samples)\n",
    "            np.random.shuffle(ids)\n",
    "            \n",
    "            \n",
    "            for batch_start in range(0,no_of_samples,batch_size):\n",
    "                \n",
    "                gradw = 0\n",
    "                gradb = 0\n",
    "                \n",
    "                \n",
    "                for j in range(batch_start,batch_start+batch_size):\n",
    "                    if j<no_of_samples:\n",
    "                        i = ids[j]\n",
    "                        ti =  Y[i]*(np.dot(W,X[i].T)+bias)\n",
    "                        \n",
    "                        if ti>1:\n",
    "                            gradw += 0\n",
    "                            gradb += 0\n",
    "                        else:\n",
    "                            gradw += c*Y[i]*X[i]\n",
    "                            gradb += c*Y[i]\n",
    "                            \n",
    "                \n",
    "                W = W - n*W + n*gradw\n",
    "                bias = bias + n*gradb\n",
    "                \n",
    "        \n",
    "        self.W = W\n",
    "        self.b = bias\n",
    "        return W,bias,losses"
   ]
  },
  {
   "cell_type": "markdown",
   "metadata": {},
   "source": [
    "## One Versus One classifcation\n"
   ]
  },
  {
   "cell_type": "code",
   "execution_count": 120,
   "metadata": {},
   "outputs": [
    {
     "name": "stdout",
     "output_type": "stream",
     "text": [
      "(10000, 3072)\n",
      "(10000,)\n"
     ]
    }
   ],
   "source": [
    "# each sample of image in image data have 16875 feature\n",
    "m = image_data.shape[0]\n",
    "image_data= image_data.reshape(m,-1)\n",
    "print(image_data.shape)\n",
    "print(labels.shape)\n"
   ]
  },
  {
   "cell_type": "code",
   "execution_count": 121,
   "metadata": {},
   "outputs": [
    {
     "name": "stdout",
     "output_type": "stream",
     "text": [
      "2\n"
     ]
    }
   ],
   "source": [
    "total_class = len(np.unique(labels))\n",
    "print(total_class)"
   ]
  },
  {
   "cell_type": "markdown",
   "metadata": {},
   "source": [
    "#### prepare class wise data\n"
   ]
  },
  {
   "cell_type": "code",
   "execution_count": 122,
   "metadata": {},
   "outputs": [],
   "source": [
    "def classwisedata(x,y):\n",
    "    data= {}\n",
    "    for i in range(total_class):\n",
    "        data[i]=[]\n",
    "    for i in range(x.shape[0]):\n",
    "        data[y[i]].append(x[i])\n",
    "    for k in data.keys():\n",
    "        data[k]=np.array(data[k])\n",
    "    return data"
   ]
  },
  {
   "cell_type": "code",
   "execution_count": 123,
   "metadata": {},
   "outputs": [],
   "source": [
    "data= classwisedata(image_data,labels)"
   ]
  },
  {
   "cell_type": "code",
   "execution_count": 124,
   "metadata": {},
   "outputs": [
    {
     "data": {
      "text/plain": [
       "dict_keys([0, 1])"
      ]
     },
     "execution_count": 124,
     "metadata": {},
     "output_type": "execute_result"
    }
   ],
   "source": [
    "data.keys()"
   ]
  },
  {
   "cell_type": "code",
   "execution_count": 125,
   "metadata": {},
   "outputs": [
    {
     "name": "stdout",
     "output_type": "stream",
     "text": [
      "<class 'numpy.ndarray'>\n",
      "<class 'numpy.ndarray'>\n"
     ]
    }
   ],
   "source": [
    "print(type(data[0]))\n",
    "print(type(data[1]))"
   ]
  },
  {
   "cell_type": "code",
   "execution_count": 126,
   "metadata": {},
   "outputs": [
    {
     "name": "stdout",
     "output_type": "stream",
     "text": [
      "(5000, 3072)\n",
      "(5000, 3072)\n"
     ]
    }
   ],
   "source": [
    "print(data[0].shape)\n",
    "print(data[1].shape)"
   ]
  },
  {
   "cell_type": "code",
   "execution_count": 127,
   "metadata": {},
   "outputs": [],
   "source": [
    "def getDataPairForSVM(d1,d2):\n",
    "    l1,l2 = d1.shape[0],d2.shape[0]\n",
    "    \n",
    "    samples = l1+l2\n",
    "    features = d1.shape[1]\n",
    "    \n",
    "    data_pair = np.zeros((samples,features))\n",
    "    data_labels = np.zeros((samples,))\n",
    "    \n",
    "    data_pair[:l1,:] = d1\n",
    "    data_pair[l1:,:] = d2\n",
    "    \n",
    "    data_labels[:l1] = -1\n",
    "    data_labels[l1:] = +1\n",
    "    \n",
    "    return data_pair,data_labels"
   ]
  },
  {
   "cell_type": "markdown",
   "metadata": {},
   "source": [
    "## Training NC2 SVM's Part!\n"
   ]
  },
  {
   "cell_type": "code",
   "execution_count": 128,
   "metadata": {},
   "outputs": [
    {
     "data": {
      "text/plain": [
       "[<matplotlib.lines.Line2D at 0x192837ca5f0>]"
      ]
     },
     "execution_count": 128,
     "metadata": {},
     "output_type": "execute_result"
    },
    {
     "data": {
      "image/png": "[encoded data removed]",
      "text/plain": [
       "<Figure size 640x480 with 1 Axes>"
      ]
     },
     "metadata": {},
     "output_type": "display_data"
    }
   ],
   "source": [
    "mySVM  = SVM()\n",
    "xp, yp  = getDataPairForSVM(data[0],data[1])\n",
    "w,b,loss  = mySVM.fit(xp,yp,learning_rate=0.00001,maxItr=100)\n",
    "#print(loss)\n",
    "plt.plot(loss)\n"
   ]
  },
  {
   "cell_type": "code",
   "execution_count": null,
   "metadata": {},
   "outputs": [],
   "source": [
    "def trainSVMs(x,y):\n",
    "    \n",
    "    svm_classifiers = {}\n",
    "    for i in range(total_class):\n",
    "        svm_classifiers[i] = {}\n",
    "        for j in range(i+1,total_class):\n",
    "            xpair,ypair = getDataPairForSVM(data[i],data[j])\n",
    "            wts,b,loss = mySVM.fit(xpair,ypair,learning_rate=0.00001,maxItr=500)\n",
    "            svm_classifiers[i][j] = (wts,b)\n",
    "            \n",
    "            plt.plot(loss)\n",
    "            plt.show()\n",
    "            \n",
    "    \n",
    "    return svm_classifiers"
   ]
  },
  {
   "cell_type": "code",
   "execution_count": 132,
   "metadata": {},
   "outputs": [
    {
     "data": {
      "image/png": "[encoded data removed]",
      "text/plain": [
       "<Figure size 640x480 with 1 Axes>"
      ]
     },
     "metadata": {},
     "output_type": "display_data"
    }
   ],
   "source": [
    "svm_classifier = trainSVMs(image_data,labels)"
   ]
  },
  {
   "cell_type": "code",
   "execution_count": 133,
   "metadata": {},
   "outputs": [
    {
     "name": "stdout",
     "output_type": "stream",
     "text": [
      "{0: {1: (array([[ 0.05792267,  0.00785882,  0.00324932, ..., -0.01941327,\n",
      "        -0.04650472, -0.04652973]]), 1.5425200000000163)}, 1: {}}\n",
      "{}\n"
     ]
    }
   ],
   "source": [
    "#Parameters for Cats and dogs\n",
    "cats_dogs = svm_classifier\n",
    "cats_humans = svm_classifier[1]\n",
    "print(cats_dogs)\n",
    "print(cats_humans)"
   ]
  },
  {
   "cell_type": "code",
   "execution_count": 134,
   "metadata": {},
   "outputs": [],
   "source": [
    "def binaryPredict(x,w,b):\n",
    "    z  = np.dot(x,w.T) + b\n",
    "    if z>=0:\n",
    "        return 1\n",
    "    else:\n",
    "        return -1"
   ]
  },
  {
   "cell_type": "code",
   "execution_count": 135,
   "metadata": {},
   "outputs": [],
   "source": [
    "def predict(x):\n",
    "    \n",
    "    count = np.zeros((total_class,))\n",
    "    \n",
    "    for i in range(total_class):\n",
    "        for j in range(i+1,total_class):\n",
    "            w,b = svm_classifier[i][j]\n",
    "            \n",
    "            #Take a majority prediction \n",
    "            z = binaryPredict(x,w,b)\n",
    "            \n",
    "            if(z==1):\n",
    "                count[j] += 1\n",
    "            else:\n",
    "                count[i] += 1\n",
    "    \n",
    "    final_prediction = np.argmax(count)\n",
    "    #print(count)\n",
    "    return final_prediction"
   ]
  },
  {
   "cell_type": "code",
   "execution_count": 136,
   "metadata": {},
   "outputs": [
    {
     "name": "stdout",
     "output_type": "stream",
     "text": [
      "0\n",
      "1\n"
     ]
    }
   ],
   "source": [
    "print(predict(image_data[1000]))\n",
    "print(labels[100])"
   ]
  },
  {
   "cell_type": "code",
   "execution_count": 137,
   "metadata": {},
   "outputs": [],
   "source": [
    "def accuracy(x,y):\n",
    "    \n",
    "    count = 0\n",
    "    for i in range(x.shape[0]):\n",
    "        prediction = predict(x[i])\n",
    "        if(prediction==y[i]):\n",
    "            count += 1\n",
    "            \n",
    "    return count/x.shape[0]"
   ]
  },
  {
   "cell_type": "code",
   "execution_count": 138,
   "metadata": {},
   "outputs": [
    {
     "data": {
      "text/plain": [
       "0.6827"
      ]
     },
     "execution_count": 138,
     "metadata": {},
     "output_type": "execute_result"
    }
   ],
   "source": [
    "accuracy(image_data,labels)"
   ]
  },
  {
   "cell_type": "markdown",
   "metadata": {},
   "source": [
    "## SVM using SK-learn\n"
   ]
  },
  {
   "cell_type": "code",
   "execution_count": 139,
   "metadata": {},
   "outputs": [],
   "source": [
    "from sklearn import svm"
   ]
  },
  {
   "cell_type": "code",
   "execution_count": 140,
   "metadata": {},
   "outputs": [],
   "source": [
    "svm_classifier = svm.SVC(kernel='linear',C=1.0)"
   ]
  },
  {
   "cell_type": "code",
   "execution_count": 141,
   "metadata": {},
   "outputs": [
    {
     "data": {
      "text/plain": [
       "0.7286"
      ]
     },
     "execution_count": 141,
     "metadata": {},
     "output_type": "execute_result"
    }
   ],
   "source": [
    "svm_classifier.fit(image_data,labels)\n",
    "svm_classifier.score(image_data,labels)"
   ]
  },
  {
   "cell_type": "code",
   "execution_count": null,
   "metadata": {},
   "outputs": [
    {
     "data": {
      "text/plain": [
       "array([0, 0, 1, 0, 1, 0, 0, 1, 3, 1, 2, 0, 3, 0, 0, 0, 0, 2, 2, 1, 2, 0,\n",
       "       0, 2, 3, 0, 1, 1, 0, 0, 0, 3, 0, 0, 1, 0, 1, 1, 1, 0, 3, 0, 3, 2,\n",
       "       0, 0, 3, 1, 0, 2, 0, 0, 0, 0, 2, 0, 0, 1, 0, 1, 0, 0, 0, 0, 2, 0,\n",
       "       0, 0, 0, 0, 0, 2, 0, 0, 2, 3, 3, 0, 0, 0, 0, 3, 3, 2, 0, 3, 0, 3,\n",
       "       3, 1, 0, 0, 0, 3, 2, 1, 3, 0, 0, 2, 0, 0, 2, 1, 0, 0, 3, 2, 0, 0,\n",
       "       2, 2, 0, 3, 0, 2, 0, 2, 1, 0, 1, 2, 0, 3, 3, 0, 1, 0, 0, 3, 0, 0,\n",
       "       0, 2, 0, 0, 1, 0, 0, 2, 2, 0, 0, 0, 3, 3, 0, 2, 0, 2, 2, 0, 0, 0,\n",
       "       1, 2, 1, 1, 1, 3, 0, 0, 1, 1, 2, 0, 2, 2, 0, 1, 3, 3, 1, 3, 0, 2,\n",
       "       1, 3, 0, 0, 1, 0, 1, 2, 2, 1, 0, 2, 3, 3, 2, 3, 0, 2, 0, 0, 1, 2,\n",
       "       0, 0, 2, 0, 2, 3, 3, 2, 1, 1, 1, 1, 3, 1, 1, 1, 2, 0, 1, 2, 1, 1,\n",
       "       3, 1, 1, 1, 3, 2, 0, 1, 2, 1, 3, 1, 2, 1, 1, 2, 2, 2, 2, 1, 1, 1,\n",
       "       2, 1, 1, 1, 0, 3, 1, 3, 2, 0, 0, 1, 1, 2, 1, 2, 2, 2, 1, 0, 0, 1,\n",
       "       1, 2, 2, 3, 0, 3, 1, 2, 1, 1, 2, 2, 2, 3, 2, 1, 2, 1, 1, 3, 2, 3,\n",
       "       3, 0, 0, 1, 1, 2, 2, 1, 1, 0, 1, 3, 1, 3, 2, 2, 2, 0, 3, 1, 1, 1,\n",
       "       1, 3, 0, 1, 1, 3, 0, 2, 1, 2, 0, 0, 3, 1, 1, 1, 2, 2, 3, 3, 2, 0,\n",
       "       2, 3, 2, 1, 3, 2, 1, 0, 0, 1, 1, 3, 0, 1, 3, 2, 0, 0, 3, 2, 1, 1,\n",
       "       1, 3, 1, 3, 1, 1, 1, 3, 2, 3, 1, 1, 2, 1, 1, 3, 1, 3, 3, 2, 2, 3,\n",
       "       2, 1, 1, 2, 3, 3, 0, 3, 0, 2, 0, 2, 3, 3, 0, 2, 3, 3, 1, 2, 1, 2,\n",
       "       1, 1, 2, 2, 2, 3, 1, 3, 2, 0, 2, 0, 3, 2, 3, 2, 3, 2, 2, 2, 2, 3,\n",
       "       3, 3, 2, 3, 2, 3, 0, 2, 2, 1, 1, 2, 0, 2, 3, 2, 3, 1, 3, 3, 2, 2,\n",
       "       1, 2, 1, 2, 2, 2, 3, 2, 2, 2, 2, 1, 2, 3, 1, 2, 3, 2, 3, 3, 2, 2,\n",
       "       2, 3, 3, 0, 2, 2, 2, 2, 2, 2, 1, 3, 2, 0, 0, 3, 0, 3, 3, 2, 3, 2,\n",
       "       2, 2, 2, 2, 1, 3, 3, 2, 1, 1, 2, 3, 2, 1, 2, 3, 3, 3, 0, 3, 2, 3,\n",
       "       3, 0, 0, 2, 2, 0, 3, 2, 1, 3, 2, 3, 3, 0, 1, 3, 2, 3, 2, 1, 2, 0,\n",
       "       3, 2, 2, 3, 2, 2, 1, 3, 2, 2, 2, 3, 2, 2, 3, 2, 2, 1, 2, 2, 1, 3,\n",
       "       1, 1, 0, 2, 3, 2, 3, 0, 2, 1, 0, 2, 1, 3, 2, 3, 3, 3, 2, 2, 1, 2,\n",
       "       0, 2, 2, 3, 2, 1, 2, 3, 2, 3, 2, 0, 1, 1, 0, 2, 3, 1, 3, 1, 2, 3,\n",
       "       2, 0, 2, 0, 1, 3, 0, 0, 3, 3, 2, 2, 1, 3, 3, 0, 1, 0, 0, 3, 3, 1,\n",
       "       0, 2, 1, 1, 3, 0, 3, 3, 3, 1, 0, 3, 0, 3, 2, 3, 1, 1, 2, 0, 3, 2,\n",
       "       3, 3, 0, 0, 3, 2, 3, 3, 3, 1, 0, 2, 3, 3, 0, 3, 1, 2, 3, 3, 1, 1,\n",
       "       3, 2, 3, 0, 2, 3, 3, 0, 3, 0, 2, 3, 0, 1, 3, 0, 3, 3, 2, 1, 1, 3,\n",
       "       3, 2, 0, 3, 2, 3, 2, 2, 1, 3, 3, 1, 3, 2, 0, 3, 3, 1, 1, 2, 1, 1,\n",
       "       3, 2, 2, 1, 2, 2, 3, 3, 0, 1, 2, 0, 3, 2, 3, 2, 3, 2, 1, 3, 3, 0,\n",
       "       1, 2, 3, 2, 2, 3, 3, 3, 0, 1, 1, 0, 1, 2, 2, 1, 2, 3, 2, 1, 3, 3,\n",
       "       1, 2, 0, 1, 0, 2, 1, 0, 1, 3, 0, 2, 2, 1, 1, 3, 3, 1, 2, 3, 0, 3,\n",
       "       3, 1, 3, 2, 2, 3, 2, 3, 3, 1, 1, 3, 2, 0, 0, 0, 3, 3, 3, 1, 2, 3,\n",
       "       2, 0, 0, 0, 3, 1, 1, 2, 2, 3, 0, 1, 0, 3, 2, 3])"
      ]
     },
     "execution_count": 33,
     "metadata": {},
     "output_type": "execute_result"
    }
   ],
   "source": [
    "svm_classifier.predict(image_data)"
   ]
  },
  {
   "cell_type": "code",
   "execution_count": null,
   "metadata": {},
   "outputs": [],
   "source": []
  },
  {
   "cell_type": "code",
   "execution_count": null,
   "metadata": {},
   "outputs": [],
   "source": []
  }
 ],
 "metadata": {
  "kernelspec": {
   "display_name": "Python 3",
   "language": "python",
   "name": "python3"
  },
  "language_info": {
   "codemirror_mode": {
    "name": "ipython",
    "version": 3
   },
   "file_extension": ".py",
   "mimetype": "text/x-python",
   "name": "python",
   "nbconvert_exporter": "python",
   "pygments_lexer": "ipython3",
   "version": "3.10.10"
  }
 },
 "nbformat": 4,
 "nbformat_minor": 2
}
