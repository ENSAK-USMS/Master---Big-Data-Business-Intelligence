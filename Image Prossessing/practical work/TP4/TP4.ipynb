{
 "cells": [
  {
   "cell_type": "markdown",
   "id": "d3f9adb0",
   "metadata": {},
   "source": [
    "<h1> <center>\n",
    "Traitement d’images \n",
    "TP 4 :Les descripteurs de texture \n",
    "GLCM et LBP\n",
    "</center>\n",
    "</h2>"
   ]
  },
  {
   "cell_type": "markdown",
   "id": "0e846c36",
   "metadata": {},
   "source": [
    "## Using GLCM and LBP"
   ]
  },
  {
   "cell_type": "markdown",
   "id": "50088f54",
   "metadata": {},
   "source": [
    "\n",
    "<style>\n",
    "    body {font-family: \"Helvetica Neue\", Helvetica, Arial, sans-serif;}\n",
    "    h1, h2, h3, h4 {color: #377ba8; margin-top: 20px;}\n",
    "    p {margin: 10px 0;}\n",
    "    code {background-color: #f7f7f7; padding: 2px 5px; border-radius: 4px;}\n",
    "    pre {border: 1px solid #ccc; padding: 5px; border-radius: 4px;}\n",
    "</style>\n"
   ]
  },
  {
   "cell_type": "code",
   "execution_count": null,
   "id": "ac189d02",
   "metadata": {},
   "outputs": [],
   "source": [
    "\n",
    "import matplotlib.pyplot as plt\n",
    "import numpy as np\n",
    "from skimage.feature import graycomatrix, graycoprops, local_binary_pattern\n",
    "from skimage import data, color\n",
    "from scipy.spatial.distance import euclidean\n",
    "    "
   ]
  },
  {
   "cell_type": "markdown",
   "id": "a3e55dd8",
   "metadata": {},
   "source": [
    "## GLCM Descriptor"
   ]
  },
  {
   "cell_type": "code",
   "execution_count": null,
   "id": "23d051e3",
   "metadata": {},
   "outputs": [],
   "source": [
    "\n",
    "# Load images with different textures\n",
    "brick = data.brick()\n",
    "grass = data.grass()\n",
    "\n",
    "# Function to compute GLCM properties\n",
    "def glcm_properties(image):\n",
    "    distances = [1, 2]\n",
    "    angles = [0, np.pi/2]\n",
    "    g = graycomatrix(image, distances=distances, angles=angles, levels=256, normed=True, symmetric=True)\n",
    "    contrast = graycoprops(g, 'contrast')\n",
    "    dissimilarity = graycoprops(g, 'dissimilarity')\n",
    "    homogeneity = graycoprops(g, 'homogeneity')\n",
    "    energy = graycoprops(g, 'energy')\n",
    "    correlation = graycoprops(g, 'correlation')\n",
    "    asm = graycoprops(g, 'ASM')\n",
    "    return contrast, dissimilarity, homogeneity, energy, correlation, asm\n",
    "\n",
    "# Display images and GLCM properties\n",
    "fig, axes = plt.subplots(1, 2, figsize=(10, 5))\n",
    "for ax, img, name in zip(axes, [brick, grass], ['Brick', 'Grass']):\n",
    "    props = glcm_properties(img)\n",
    "    ax.imshow(img, cmap='gray')\n",
    "    ax.set_title(f'{name} - Energy: {props[3][0][0]:.2f}')\n",
    "    ax.axis('off')\n",
    "plt.show()\n",
    "    "
   ]
  },
  {
   "cell_type": "markdown",
   "id": "2d731772",
   "metadata": {},
   "source": [
    "## LBP Descriptor"
   ]
  },
  {
   "cell_type": "code",
   "execution_count": null,
   "id": "d1f7841c",
   "metadata": {},
   "outputs": [],
   "source": [
    "\n",
    "# Function to calculate LBP histogram\n",
    "def lbp_histogram(image):\n",
    "    gray_image = color.rgb2gray(image)\n",
    "    patterns = local_binary_pattern(gray_image, P=8, R=1, method='uniform')\n",
    "    hist, _ = np.histogram(patterns, bins=np.arange(2**8 + 1), density=True)\n",
    "    return hist\n",
    "\n",
    "# Example images\n",
    "brick = data.brick()\n",
    "gravel = data.gravel()\n",
    "unknown = data.coffee()  # Assuming 'coffee' image as unknown for demonstration\n",
    "\n",
    "# Calculate histograms\n",
    "brick_hist = lbp_histogram(brick)\n",
    "gravel_hist = lbp_histogram(gravel)\n",
    "unknown_hist = lbp_histogram(unknown)\n",
    "\n",
    "# Compare histograms using Euclidean distance\n",
    "distance_to_brick = euclidean(unknown_hist, brick_hist)\n",
    "distance_to_gravel = euclidean(unknown_hist, gravel_hist)\n",
    "\n",
    "# Visualize histograms and classification\n",
    "fig, ax = plt.subplots(2, 3, figsize=(15, 10))\n",
    "ax[0, 0].imshow(brick, cmap='gray')\n",
    "ax[0, 0].set_title('Brick')\n",
    "ax[1, 0].bar(range(len(brick_hist)), brick_hist)\n",
    "ax[0, 1].imshow(gravel, cmap='gray')\n",
    "ax[0, 1].set_title('Gravel')\n",
    "ax[1, 1].bar(range(len(gravel_hist)), gravel_hist)\n",
    "ax[0, 2].imshow(unknown, cmap='gray')\n",
    "ax[0, 2].set_title('Unknown (Coffee)')\n",
    "ax[1, 2].bar(range(len(unknown_hist)), unknown_hist)\n",
    "\n",
    "plt.tight_layout()\n",
    "plt.show()\n",
    "\n",
    "print(f\"Distance to Brick: {distance_to_brick}\")\n",
    "print(f\"Distance to Gravel: {distance_to_gravel}\")\n",
    "    "
   ]
  }
 ],
 "metadata": {
  "language_info": {
   "name": "python"
  }
 },
 "nbformat": 4,
 "nbformat_minor": 5
}
