{
 "cells": [
  {
   "cell_type": "markdown",
   "metadata": {},
   "source": [
    "<center><h1 style=\"background-color:#3e3e3e; padding:3rem;border-radius:5px;margin:70px;font-family:Avantgarde, TeX Gyre Adventor\">Topic Modeling</h1></center>"
   ]
  },
  {
   "cell_type": "markdown",
   "metadata": {},
   "source": [
    "Install Required Libraries"
   ]
  },
  {
   "cell_type": "code",
   "execution_count": null,
   "metadata": {},
   "outputs": [],
   "source": [
    "%%capture\n",
    "!python -m pip install gensim nltk gensim\n",
    "!python -m pip install pyLDAvis"
   ]
  },
  {
   "cell_type": "markdown",
   "metadata": {},
   "source": [
    "Importing Required Libraries"
   ]
  },
  {
   "cell_type": "code",
   "execution_count": null,
   "metadata": {},
   "outputs": [],
   "source": [
    "%%capture\n",
    "import gensim\n",
    "from gensim import corpora\n",
    "from nltk.corpus import stopwords\n",
    "from nltk.tokenize import word_tokenize\n",
    "import nltk\n",
    "\n",
    "# Download stopwords and punkt tokenizer\n",
    "nltk.download('stopwords')\n",
    "nltk.download('punkt')\n"
   ]
  },
  {
   "cell_type": "markdown",
   "metadata": {},
   "source": [
    "## Prepare Data\n",
    "\n",
    "use the prvided dataset "
   ]
  },
  {
   "cell_type": "code",
   "execution_count": null,
   "metadata": {},
   "outputs": [],
   "source": [
    "# Documents\n",
    "# react csv file\n",
    "import pandas as pd\n",
    "import csv\n",
    "import re\n",
    "\n",
    "# Load the data\n",
    "\n",
    "\n",
    "\n"
   ]
  },
  {
   "cell_type": "code",
   "execution_count": null,
   "metadata": {},
   "outputs": [],
   "source": [
    "# extract the first 500 documents (paper_text) from the dataframe"
   ]
  },
  {
   "cell_type": "markdown",
   "metadata": {},
   "source": [
    "## Preprocess Data\n",
    "\n",
    "Preprocessing involves tokenizing the text, removing stopwords, and other text cleaning steps."
   ]
  },
  {
   "cell_type": "code",
   "execution_count": null,
   "metadata": {},
   "outputs": [],
   "source": [
    "# Initialize stop words\n",
    "stop_words = set(stopwords.words('english'))\n",
    "\n",
    "# Add custom stop words\n",
    "common_words = []\n",
    "stop_words = stop_words.union(set(common_words))\n",
    "\n",
    "# loop on ducuments and Tokenize each doc hint: use word_tokenize from nltk\n",
    "def tokenize(documents):\n",
    "    print(\"Unimplemented\")\n",
    "\n",
    "\n",
    "# remove stop words, punctuation and numbers\n",
    "def preprocess(text):\n",
    "    print(\"Unimplemented\")\n",
    "\n",
    "# Preprocess each document\n",
    "tokenized_docs = tokenize()\n",
    "processed_docs = [preprocess(doc) for doc in tokenized_docs]"
   ]
  },
  {
   "cell_type": "markdown",
   "metadata": {},
   "source": [
    "Create a Dictionary and Corpus\n",
    "\n",
    "The dictionary maps each word to a unique id, and the corpus is a bag-of-words representation of the documents."
   ]
  },
  {
   "cell_type": "code",
   "execution_count": null,
   "metadata": {},
   "outputs": [],
   "source": [
    "# Create a dictionary representation of the documents\n",
    "\n",
    "\n",
    "# Create a bag-of-words representation of the documents\n"
   ]
  },
  {
   "cell_type": "markdown",
   "metadata": {},
   "source": [
    "Apply LDA Model\n",
    "We'll use Latent Dirichlet Allocation (LDA) to perform topic modeling."
   ]
  },
  {
   "cell_type": "code",
   "execution_count": null,
   "metadata": {},
   "outputs": [],
   "source": [
    "# Set the number of topics\n",
    "\n",
    "\n",
    "# Create the LDA model  hint: use gensim.models.LdaModel\n",
    "# refer to the documentation at https://radimrehurek.com/gensim/models/ldamodel.html\n",
    "\n",
    "\n",
    "\n",
    "# Print the topics\n"
   ]
  },
  {
   "cell_type": "markdown",
   "metadata": {},
   "source": [
    "Visualize the Topics \n",
    "You can use the pyLDAvis library to visualize the topics. This step is optional and requires additional installation."
   ]
  },
  {
   "cell_type": "code",
   "execution_count": null,
   "metadata": {},
   "outputs": [],
   "source": [
    "\n",
    "\n",
    "import pyLDAvis\n",
    "import pyLDAvis.gensim_models as gensimvis\n",
    "\n",
    "# Prepare the visualization\n",
    "# refer to the documentation at https://pyldavis.readthedocs.io/en/latest/modules/API.html\n",
    "\n",
    "# Display the visualization"
   ]
  }
 ],
 "metadata": {
  "kernelspec": {
   "display_name": "Python 3",
   "language": "python",
   "name": "python3"
  },
  "language_info": {
   "codemirror_mode": {
    "name": "ipython",
    "version": 3
   },
   "file_extension": ".py",
   "mimetype": "text/x-python",
   "name": "python",
   "nbconvert_exporter": "python",
   "pygments_lexer": "ipython3",
   "version": "3.10.10"
  }
 },
 "nbformat": 4,
 "nbformat_minor": 2
}
