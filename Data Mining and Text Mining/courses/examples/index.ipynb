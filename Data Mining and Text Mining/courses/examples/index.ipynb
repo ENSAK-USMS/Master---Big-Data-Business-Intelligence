{
 "cells": [
  {
   "cell_type": "markdown",
   "metadata": {},
   "source": [
    "# Exercice 1\n"
   ]
  },
  {
   "cell_type": "markdown",
   "metadata": {},
   "source": [
    "Soit la table des transactions suivante :\n",
    "\n",
    "(a) Représenter cette table par une table formelle.\n"
   ]
  },
  {
   "cell_type": "markdown",
   "metadata": {},
   "source": [
    "$$\n",
    "\\begin{array}{ll}\n",
    "\\text{TID} & \\text{List Of Items} \\\\\n",
    "\\hline\n",
    "\\text{T100} & I1,I2,I5 \\\\\n",
    "\\text{T200} & I2,I4 \\\\\n",
    "\\text{T300} & I2,I3 \\\\\n",
    "\\text{T400} & I2,I3 \\\\\n",
    "\\text{T500} & I1,I3 \\\\\n",
    "\\text{T600} & I2,I3 \\\\\n",
    "\\text{T700} & I1,I3 \\\\\n",
    "\\text{T800} & I1,I2,I3,I5 \\\\\n",
    "\\text{T900} & I1,I2,I3 \\\\\n",
    "\\end{array}\n",
    "$$\n"
   ]
  },
  {
   "cell_type": "markdown",
   "metadata": {},
   "source": [
    "(b) Trouver, en utilisant l'algorithme Apriori, les motifs fréquents sachant\n",
    "que os = 2/9.\n",
    "\n",
    "(c) Calculer å partir du motifs fréquent le plus long, les régles\n",
    "d'associations les plus fortes sachant que le seuil de confiance est de 70%\n"
   ]
  },
  {
   "cell_type": "markdown",
   "metadata": {},
   "source": [
    "$$\n",
    "\\begin{array}{cccccc}\n",
    "& I1 & I2 & I3 & I4 & I5 \\\\\n",
    "\\hline\n",
    "\\text{T100} & 1 & 1 & 0 & 0 & 1 \\\\\n",
    "\\text{T200} & 0 & 1 & 0 & 1 & 0 \\\\\n",
    "\\text{T300} & 0 & 1 & 1 & 0 & 0 \\\\\n",
    "\\text{T400} & 0 & 1 & 1 & 0 & 0 \\\\\n",
    "\\text{T500} & 1 & 0 & 1 & 0 & 0 \\\\\n",
    "\\text{T600} & 0 & 1 & 1 & 0 & 0 \\\\\n",
    "\\text{T700} & 1 & 0 & 1 & 0 & 0 \\\\\n",
    "\\text{T800} & 1 & 1 & 1 & 0 & 1 \\\\\n",
    "\\text{T900} & 1 & 1 & 1 & 0 & 0 \\\\\n",
    "\\end{array}\n",
    "$$\n",
    "\n"
   ]
  },
  {
   "cell_type": "markdown",
   "metadata": {},
   "source": [
    "C1 = {I1, I2, I3, I4, I5}\n",
    "\n",
    "- Support(I1): 6/9\n",
    "- Support(I2): 7/9\n",
    "- Support(I3): 2/9\n",
    "- Support(I4): 2/9\n",
    "- Support(I5): 2/9\n",
    "\n",
    "F1 = {I1, I2, I3, I4, I5}\n"
   ]
  },
  {
   "cell_type": "markdown",
   "metadata": {},
   "source": [
    "C2 = {I1, I2}, {I1, I3}, {I1, I4}, {I1, I5}, {I2, I3}, {I2, I4}, {I2, I5}, {I3, I4}, {I3, I5}, {I4, I5}\n",
    "\n",
    "- Support(I1, I2): 4/9\n",
    "- Support(I1, I3): 4/9\n",
    "- Support(I1, I4): 1/9 < os\n",
    "- Support(I1, I5): 2/9\n",
    "- Support(I2, I3): 4/9\n",
    "- Support(I2, I4): 2/9\n",
    "- Support(I2, I5): 2/9\n",
    "- Support(I3, I4): 0/9 < os\n",
    "- Support(I3, I5): 1/9 < os\n",
    "- Support(I4, I5): 0/9 < os\n",
    "\n",
    "F2 = {I1, I2}, {I1, I3}, {I1, I5}, {I2, I3}, {I2, I4}, {I2, I5}\n"
   ]
  },
  {
   "cell_type": "markdown",
   "metadata": {},
   "source": [
    "C3 = {I1, I2, I3}, {I1, I2, I4}, {I1, I2, I5}, {I1, I3, I4}, {I1, I3, I5}, {I2, I3, I4}, {I2, I3, I5}, {I2, I4, I5}\n",
    "\n",
    "- Support(I1, I2, I3): 2/9\n",
    "- Support(I1, I2, I4): 1/9 < os\n",
    "- Support(I1, I2, I5): 2/9\n",
    "- Support(I1, I3, I4): 0/9 < os\n",
    "- Support(I1, I3, I5): 1/9 < os\n",
    "- Support(I2, I3, I4): 0/9 < os\n",
    "- Support(I2, I3, I5): 1/9 < os\n",
    "- Support(I2, I4, I5): 0/9 < os\n",
    "\n",
    "F3 = {I1, I2, I3} {I1, I2, I5}\n"
   ]
  },
  {
   "cell_type": "markdown",
   "metadata": {},
   "source": [
    "C4 = {I1, I2, I3, I5}\n",
    "\n",
    "- Support(I1, I2, I3, I5): 1/9 < os\n",
    "\n",
    "F4 = {}\n"
   ]
  },
  {
   "cell_type": "markdown",
   "metadata": {},
   "source": [
    "C = 70%\n",
    "\n",
    "R1 = {I1, I2} => {I3} (2/9)/(4/9) = 50% < 70%\n",
    "\n",
    "R2 = {I1, I3} => {I2} (2/9)/(4/9) = 50% < 70%\n",
    "\n",
    "R3 = {I1, I5} => {I2} (2/9)/(2/9) = 100% > 70%\n",
    "\n",
    "R4 = {I2, I3} => {I1} (2/9)/(4/9) = 50% < 70%\n",
    "\n",
    "R5 = {I2, I5} => {I1} (2/9)/(2/9) = 100% > 70%\n",
    "\n"
   ]
  },
  {
   "cell_type": "markdown",
   "metadata": {},
   "source": [
    "# Exercice 2\n"
   ]
  },
  {
   "cell_type": "markdown",
   "metadata": {},
   "source": [
    "Une base de données possède cinq transactions.\n",
    "\n",
    "On suppose que le support minimum est de 60% et la confiance minimale est de 80%.\n",
    "\n",
    "(a) Représenter cette table par une table formelle.\n",
    "\n",
    "(b) Trouver, en utilisant l’algorithme Apriori, les motifs fréquents.\n",
    "\n",
    "(c) Lister toutes les règles d’association fortes correspondant à la métarègle suivante,\n",
    "\n",
    "où X représente les clients et les itemi dénotent les articles achetés.\n",
    "\n",
    "Acheter(X, item1) ∧ Acheter(X, item2) ⇒ Acheter(X, item3)\n",
    "\n"
   ]
  },
  {
   "cell_type": "markdown",
   "metadata": {},
   "source": [
    "$$\n",
    "\\begin{array}{ll}\n",
    "\\text{T100} & \\text{M, O, N, K, E, Y} \\\\\n",
    "\\text{T200} & \\text{D, O, N, K, E, Y} \\\\\n",
    "\\text{T300} & \\text{M, A, K, E} \\\\\n",
    "\\text{T400} & \\text{M, U, C, K, Y} \\\\\n",
    "\\text{T500} & \\text{C, O, O, K, I, E} \\\\\n",
    "\\end{array}\n",
    "$$\n",
    "\n"
   ]
  },
  {
   "cell_type": "markdown",
   "metadata": {},
   "source": [
    "<!-- table of ones and 0s -->\n",
    "\n",
    "$$\n",
    "\\begin{array}{ccccccc}\n",
    "& M & O & N & K & E & Y & D & A & U & C & I \\\\\n",
    "\\hline\n",
    "\\text{T100} & 1 & 1 & 1 & 1 & 1 & 1 & 0 & 0 & 0 & 0 & 0 \\\\\n",
    "\\text{T200} & 0 & 1 & 1 & 1 & 1 & 1 & 1 & 0 & 0 & 0 & 0 \\\\\n",
    "\\text{T300} & 1 & 0 & 0 & 1 & 1 & 0 & 0 & 1 & 0 & 0 & 0 \\\\\n",
    "\\text{T400} & 1 & 0 & 0 & 1 & 0 & 1 & 0 & 0 & 1 & 1 & 0 \\\\\n",
    "\\text{T500} & 0 & 1 & 0 & 1 & 1 & 0 & 0 & 0 & 0 & 1 & 1 \\\\\n",
    "\\end{array}\n",
    "$$\n"
   ]
  },
  {
   "cell_type": "markdown",
   "metadata": {},
   "source": [
    "C1 = {M, O, N, K, E, Y, D, A, U, C, I}\n",
    "\n",
    "- Support(M): 3/5\n",
    "- Support(O): 3/5\n",
    "- Support(N): 2/5\n",
    "- Support(K): 4/5\n",
    "- Support(E): 3/5\n",
    "- Support(Y): 2/5\n",
    "- Support(D): 1/5 < 60%\n",
    "- Support(A): 1/5 < 60%\n",
    "- Support(U): 1/5 < 60%\n",
    "- Support(C): 2/5 < 60%\n",
    "- Support(I): 1/5 < 60%\n",
    "\n",
    "F1 = {M, O, K, E, Y}\n",
    "\n",
    "C2 = {M, O}, {M, K}, {M, E}, {M, Y}, {O, K}, {O, E}, {O, Y}, {K, E}, {K, Y}, {E, Y}\n",
    "\n",
    "- Support(M, O): 1/5 < 60%\n",
    "- Support(M, K): 3/5\n",
    "- Support(M, E): 2/5 < 60%\n",
    "- Support(M, Y): 2/5 < 60%\n",
    "- Support(O, K): 3/5\n",
    "- Support(O, E): 3/5\n",
    "- Support(O, Y): 2/5 < 60%\n",
    "- Support(K, E): 4/5\n",
    "- Support(K, Y): 3/5\n",
    "- Support(E, Y): 2/5 < 60%\n",
    "\n",
    "F2 = {K, O, E}\n",
    "\n",
    "C3 = {K, O, E}\n",
    "\n",
    "- Support(K, O, E): 3/5\n"
   ]
  },
  {
   "cell_type": "markdown",
   "metadata": {},
   "source": [
    "C = 80%\n",
    "\n",
    "R1 = {K, O} => {E} (3/5)/(3/5) = 100% > 80% (rule is strong)\n",
    "\n",
    "R2 = {K, E} => {O} (3/5)/(4/5) = 75% < 80%\n",
    "\n",
    "R3 = {O, E} => {K} (3/5)/(3/5) = 100% > 80% (rule is strong)\n",
    "\n",
    "R4 = {K, O} => {E} (3/5)/(3/5) = 100% > 80% (rule is strong)\n",
    "\n",
    "R5 = {K, E} => {O} (3/5)/(4/5) = 75% < 80%\n",
    "\n",
    "R6 = {O, E} => {K} (3/5)/(3/5) = 100% > 80% (rule is strong)\n",
    "\n"
   ]
  }
 ],
 "metadata": {
  "kernelspec": {
   "display_name": "Python 3",
   "language": "python",
   "name": "python3"
  },
  "language_info": {
   "codemirror_mode": {
    "name": "ipython",
    "version": 3
   },
   "file_extension": ".py",
   "mimetype": "text/x-python",
   "name": "python",
   "nbconvert_exporter": "python",
   "pygments_lexer": "ipython3",
   "version": "3.10.10"
  }
 },
 "nbformat": 4,
 "nbformat_minor": 2
}
