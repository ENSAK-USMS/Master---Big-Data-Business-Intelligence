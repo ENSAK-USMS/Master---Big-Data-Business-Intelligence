{
 "cells": [
  {
   "cell_type": "markdown",
   "id": "d7e1f84c",
   "metadata": {},
   "source": [
    "# Document Similarity Task"
   ]
  },
  {
   "cell_type": "markdown",
   "id": "fea4f741",
   "metadata": {},
   "source": [
    "## Step 1: Create Documents"
   ]
  },
  {
   "cell_type": "code",
   "execution_count": 13,
   "id": "e9df502b",
   "metadata": {},
   "outputs": [
    {
     "name": "stdout",
     "output_type": "stream",
     "text": [
      "AI Document 1 (100 words): Artificial Intelligence (AI) is transforming various industries through automation and sophisticated analysis. This technology leverages algorithms and neural networks to interpret complex data. The impact of AI in healthcare, finance, and customer service is profound, offering new ways to diagnose diseases, manage financial risks, and enhance customer experiences. AI's ability to learn from data and predict outcomes makes it a crucial tool in modern technology. The future of AI promises even more personalized services, improved efficiency, and the automation of mundane tasks.\n",
      "AI Document 2 (100 words): Artificial Intelligence (AI) continues to evolve, finding new applications in everyday life. From smart assistants that manage our daily tasks to advanced systems that drive cars without human intervention, AI is at the forefront of technological innovation. AI systems are designed to handle tasks that typically require human intelligence, such as visual perception, speech recognition, and decision-making processes. As AI technology advances, it raises important ethical questions about privacy, security, and the future of work. However, the potential benefits of AI in enhancing productivity and solving complex global challenges are immense.\n",
      "Politics Document (100 words): Cats are one of the most popular pets worldwide, known for their playful and independent nature. Domestic cats, with their variety of breeds, sizes, and colors, offer companionship and comfort to millions of households. Cats have unique behavioral traits such as their instinctive hunting skills, nocturnal activities, and territorial behaviors. They communicate through various vocalizations like purring and meowing, as well as through body language. The history of cats dates back thousands of years, where they were revered in cultures like ancient Egypt. Today, cats are celebrated for their calming presence and the joy they bring to their owners.\n"
     ]
    }
   ],
   "source": [
    "\n",
    "doc1 = (\n",
    "    \"Artificial Intelligence (AI) is transforming various industries through automation and sophisticated analysis. \"\n",
    "    \"This technology leverages algorithms and neural networks to interpret complex data. The impact of AI in healthcare, \"\n",
    "    \"finance, and customer service is profound, offering new ways to diagnose diseases, manage financial risks, and enhance customer experiences. \"\n",
    "    \"AI's ability to learn from data and predict outcomes makes it a crucial tool in modern technology. The future of AI promises \"\n",
    "    \"even more personalized services, improved efficiency, and the automation of mundane tasks.\"\n",
    ")\n",
    "\n",
    "doc2 = (\n",
    "    \"Artificial Intelligence (AI) continues to evolve, finding new applications in everyday life. From smart assistants that manage our daily tasks \"\n",
    "    \"to advanced systems that drive cars without human intervention, AI is at the forefront of technological innovation. AI systems are designed \"\n",
    "    \"to handle tasks that typically require human intelligence, such as visual perception, speech recognition, and decision-making processes. \"\n",
    "    \"As AI technology advances, it raises important ethical questions about privacy, security, and the future of work. However, the potential \"\n",
    "    \"benefits of AI in enhancing productivity and solving complex global challenges are immense.\"\n",
    ")\n",
    "\n",
    "doc3 = (\n",
    "    \"Cats are one of the most popular pets worldwide, known for their playful and\"\n",
    "    \" independent nature. Domestic cats, with their variety of breeds, sizes, and\"\n",
    "    \" colors, offer companionship and comfort to millions of households. Cats have\"\n",
    "    \" unique behavioral traits such as their instinctive hunting skills, nocturnal \"\n",
    "    \"activities, and territorial behaviors. They communicate through various vocalizations\"\n",
    "    \" like purring and meowing, as well as through body language. The history of cats\"\n",
    "    \" dates back thousands of years, where they were revered in cultures like ancient Egypt.\"\n",
    "    \" Today, cats are celebrated for their calming presence and the joy they bring to their owners.\"\n",
    ")\n",
    "\n",
    "# Display the modified documents\n",
    "print(\"AI Document 1 (100 words):\", doc1)\n",
    "print(\"AI Document 2 (100 words):\", doc2)\n",
    "print(\"Politics Document (100 words):\", doc3)\n",
    "\n",
    "        "
   ]
  },
  {
   "cell_type": "markdown",
   "id": "4c9c5845",
   "metadata": {},
   "source": [
    "## Step 2: Text Preprocessing"
   ]
  },
  {
   "cell_type": "code",
   "execution_count": 14,
   "id": "7ccc226f",
   "metadata": {},
   "outputs": [
    {
     "name": "stdout",
     "output_type": "stream",
     "text": [
      "Preprocessed Document 1: ['artificial', 'intelligence', 'ai', 'is', 'transforming', 'various', 'industries', 'through', 'automation', 'and', 'sophisticated', 'analysis', 'this', 'technology', 'leverages', 'algorithms', 'and', 'neural', 'networks', 'to', 'interpret', 'complex', 'data', 'the', 'impact', 'of', 'ai', 'in', 'healthcare', 'finance', 'and', 'customer', 'service', 'is', 'profound', 'offering', 'new', 'ways', 'to', 'diagnose', 'diseases', 'manage', 'financial', 'risks', 'and', 'enhance', 'customer', 'experiences', 'ais', 'ability', 'to', 'learn', 'from', 'data', 'and', 'predict', 'outcomes', 'makes', 'it', 'a', 'crucial', 'tool', 'in', 'modern', 'technology', 'the', 'future', 'of', 'ai', 'promises', 'even', 'more', 'personalized', 'services', 'improved', 'efficiency', 'and', 'the', 'automation', 'of', 'mundane', 'tasks']\n",
      "Preprocessed Document 2: ['artificial', 'intelligence', 'ai', 'continues', 'to', 'evolve', 'finding', 'new', 'applications', 'in', 'everyday', 'life', 'from', 'smart', 'assistants', 'that', 'manage', 'our', 'daily', 'tasks', 'to', 'advanced', 'systems', 'that', 'drive', 'cars', 'without', 'human', 'intervention', 'ai', 'is', 'at', 'the', 'forefront', 'of', 'technological', 'innovation', 'ai', 'systems', 'are', 'designed', 'to', 'handle', 'tasks', 'that', 'typically', 'require', 'human', 'intelligence', 'such', 'as', 'visual', 'perception', 'speech', 'recognition', 'and', 'decisionmaking', 'processes', 'as', 'ai', 'technology', 'advances', 'it', 'raises', 'important', 'ethical', 'questions', 'about', 'privacy', 'security', 'and', 'the', 'future', 'of', 'work', 'however', 'the', 'potential', 'benefits', 'of', 'ai', 'in', 'enhancing', 'productivity', 'and', 'solving', 'complex', 'global', 'challenges', 'are', 'immense']\n",
      "Preprocessed Document 3: ['cats', 'are', 'one', 'of', 'the', 'most', 'popular', 'pets', 'worldwide', 'known', 'for', 'their', 'playful', 'and', 'independent', 'nature', 'domestic', 'cats', 'with', 'their', 'variety', 'of', 'breeds', 'sizes', 'and', 'colors', 'offer', 'companionship', 'and', 'comfort', 'to', 'millions', 'of', 'households', 'cats', 'have', 'unique', 'behavioral', 'traits', 'such', 'as', 'their', 'instinctive', 'hunting', 'skills', 'nocturnal', 'activities', 'and', 'territorial', 'behaviors', 'they', 'communicate', 'through', 'various', 'vocalizations', 'like', 'purring', 'and', 'meowing', 'as', 'well', 'as', 'through', 'body', 'language', 'the', 'history', 'of', 'cats', 'dates', 'back', 'thousands', 'of', 'years', 'where', 'they', 'were', 'revered', 'in', 'cultures', 'like', 'ancient', 'egypt', 'today', 'cats', 'are', 'celebrated', 'for', 'their', 'calming', 'presence', 'and', 'the', 'joy', 'they', 'bring', 'to', 'their', 'owners']\n"
     ]
    }
   ],
   "source": [
    "\n",
    "# Function to preprocess text: convert to lowercase, remove punctuation, split into words\n",
    "import string\n",
    "\n",
    "def preprocess(text):\n",
    "    text = text.lower()  # convert to lowercase\n",
    "    text = text.translate(str.maketrans('', '', string.punctuation))  # remove punctuation\n",
    "    words = text.split()  # split into words\n",
    "    return words\n",
    "\n",
    "# Preprocess the documents\n",
    "doc1_words = preprocess(doc1)\n",
    "doc2_words = preprocess(doc2)\n",
    "doc3_words = preprocess(doc3)\n",
    "\n",
    "# Display preprocessed documents\n",
    "print(\"Preprocessed Document 1:\", doc1_words)\n",
    "print(\"Preprocessed Document 2:\", doc2_words)\n",
    "print(\"Preprocessed Document 3:\", doc3_words)\n",
    "        "
   ]
  },
  {
   "cell_type": "markdown",
   "id": "9c07086c",
   "metadata": {},
   "source": [
    "## Step 3: Compare Similarity"
   ]
  },
  {
   "cell_type": "code",
   "execution_count": 15,
   "id": "25e34240",
   "metadata": {},
   "outputs": [
    {
     "name": "stdout",
     "output_type": "stream",
     "text": [
      "Similarity between Document 1 and 2: 0.14655172413793102\n",
      "Similarity between Document 1 and 3: 0.05511811023622047\n",
      "Similarity between Document 2 and 3: 0.06015037593984962\n"
     ]
    }
   ],
   "source": [
    "\n",
    "# Function to calculate Jaccard similarity\n",
    "def jaccard_similarity(docx, docy):\n",
    "    set_x = set(docx)\n",
    "    set_y = set(docy)\n",
    "    intersection = set_x.intersection(set_y)\n",
    "    union = set_x.union(set_y)\n",
    "    return len(intersection) / len(union)\n",
    "\n",
    "# Calculate similarity\n",
    "similarity_12 = jaccard_similarity(doc1_words, doc2_words)\n",
    "similarity_13 = jaccard_similarity(doc1_words, doc3_words)\n",
    "similarity_23 = jaccard_similarity(doc2_words, doc3_words)\n",
    "\n",
    "# Display the similarities\n",
    "print(\"Similarity between Document 1 and 2:\", similarity_12)\n",
    "print(\"Similarity between Document 1 and 3:\", similarity_13)\n",
    "print(\"Similarity between Document 2 and 3:\", similarity_23)\n",
    "        "
   ]
  }
 ],
 "metadata": {
  "kernelspec": {
   "display_name": "Python 3",
   "language": "python",
   "name": "python3"
  },
  "language_info": {
   "codemirror_mode": {
    "name": "ipython",
    "version": 3
   },
   "file_extension": ".py",
   "mimetype": "text/x-python",
   "name": "python",
   "nbconvert_exporter": "python",
   "pygments_lexer": "ipython3",
   "version": "3.10.10"
  }
 },
 "nbformat": 4,
 "nbformat_minor": 5
}
