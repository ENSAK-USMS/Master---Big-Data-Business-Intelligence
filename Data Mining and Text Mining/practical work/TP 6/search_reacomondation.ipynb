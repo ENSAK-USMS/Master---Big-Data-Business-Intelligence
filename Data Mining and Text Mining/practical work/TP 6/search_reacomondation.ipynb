{
 "cells": [
  {
   "cell_type": "code",
   "execution_count": 14,
   "metadata": {},
   "outputs": [],
   "source": [
    "import pandas as pd\n",
    "import random"
   ]
  },
  {
   "cell_type": "code",
   "execution_count": 15,
   "metadata": {},
   "outputs": [],
   "source": [
    "# Load the cleaned comments data from an Excel file\n",
    "file_path = '../TP 5/youtube_comments_cleaned.xlsx'\n",
    "df = pd.read_excel(file_path)"
   ]
  },
  {
   "cell_type": "code",
   "execution_count": 16,
   "metadata": {},
   "outputs": [],
   "source": [
    "# Function to create bi-grams (pairs of consecutive words) from a given text\n",
    "def create_bigrams(text):\n",
    "    words = text.split()\n",
    "    return [(words[i], words[i + 1]) for i in range(len(words) - 1)]"
   ]
  },
  {
   "cell_type": "code",
   "execution_count": 30,
   "metadata": {},
   "outputs": [
    {
     "name": "stdout",
     "output_type": "stream",
     "text": [
      "{'second': {'part': 1, 'day': 1, 'half': 1}, 'ap': {'world': 9}, 'world': {'student': 2, 'guess': 2, 'history': 4, 'one': 1, 'gave': 1, 'england': 1, 'exam': 2, 'test': 1, 'timeframe': 1}, 'student': {'lock': 1, 'using': 1}, 'lock': {'exam': 1}, 'exam': {'tmrw': 1, '💀💀💀': 1, '’': 1, 'know': 1}, 'saw': {'n': 1, 'light': 1, 'good': 1, 'back': 1}, 'n': {'word': 1}, 'ever': {'remember': 1, 'end': 1, 'made': 1}, 'remember': {'watching': 2, 'first': 1}, 'watching': {'bc': 1, 'ap': 1}, 'bc': {'silly': 1}, 'silly': {'voice': 1}, 'voice': {'goofy': 1}, 'goofy': {'word': 1}, 'word': {'yes': 1}, '’': {'year': 1, 'mapajahit': 1, 'believe': 1, 'watching': 1, 'tradition': 1, 'studying': 1, 'terrible': 1}, 'year': {'still': 1, 'jesus': 1, 'im': 1, 'away': 1, 'later': 1, 'old': 1, 'ago…i': 1, 'anniversary': 2, 'ago': 1, 'dang': 1}, 'still': {'accurate': 1, 'ajhwhshshegwgwbwnyegwvwfgwbsjayahwv': 1, 'christian': 1}, 'accurate': {'average': 1}, 'average': {'textbook': 1}, 'one': {'conquers': 1, 'thought': 1, 'fr': 1, 'u': 1, 'best': 1, 'place': 1, 'second': 1}, 'conquers': {'tamil': 1}, 'tamil': {'kings😊': 1}, '“': {'said': 1, '🎶now': 1, 'god': 1, 'please': 1, '“': 1, 'spanish': 1, 'history': 1}, 'said': {'portugalspiceless': 1, 'let': 3}, 'portugalspiceless': {'”': 1}, 'back': {'monthly': 1, 'yearly': 1, 'like': 1, 'time': 1, 'ocean': 1, 'every': 2, 'grade': 1, 'lot': 1}, 'monthly': {'watch': 1}, 'great': {'studying': 1, 'ya': 1}, 'studying': {'whap': 1, 'ap': 2}, 'alexander': {'ruled': 1}, 'ruled': {'speed': 1}, 'speed': {'sound': 1, 'felt': 1}, 'sound': {'year': 1, 'made': 1}, 'need': {'update': 2, 'part': 1, 'come': 1}, 'update': {'covid': 1}, 'covid': {'incorporated': 1}, 'damn': {'ancient': 1}, 'ancient': {'nowadays': 1}, 'make': {'christian': 1, 'mistake': 1, 'religion': 2, 'sens': 1, 'lot': 1}, 'christian': {'version': 1, 'check': 1, 'least': 1}, 'august': {'heat': 1}, 'heat': {'death': 1}, 'death': {'universe': 1}, 'anyone': {'watched': 1}, 'watched': {'video': 2, 'exactly': 1}, 'video': {'multiple': 1, 'study': 1, 'fourth': 1, 'ever': 2, 'beginning': 1, 'accurate': 1, 'month': 1, 'recycled': 1, 'internet': 1, 'posted': 1, '“': 1}, 'multiple': {'time': 2}, 'time': {'didnt': 1, 'watching': 1, 'different': 1}, 'didnt': {'realize': 1, 'happin': 1}, 'realize': {'unitednations': 1}, 'unitednations': {'part': 1}, 'part': {'recently': 1, 'two': 1}, 'recently': {'lol': 1}, 'im': {'old': 1, 'using': 1, 'mar': 1, 'sure': 1}, 'thought': {'entire': 1}, 'entire': {'history': 2, 'space': 1, 'world': 1}, 'history': {'world': 1, 'class': 1, 'test': 1, 'ex': 1, 'modern': 1, 'left': 1, 'god': 1, 'entire': 1, 'exam': 1}, 'cant': {'still': 1, 'explain': 1, 'believe': 1}, 'yearly': {'rewatch': 1}, 'teacher': {'played': 1}, 'played': {'history': 1}, 'class': {'laughing': 1}, 'laughing': {'hard': 1}, 'hard': {'💀': 1, 'speed': 1}, 'tysm': {'passed': 1}, 'passed': {'history': 1}, 'test': {'totally': 1, '“': 1, 'hit': 1}, 'totally': {'reading': 1}, 'fake': {'fred': 1}, 'fred': {'created': 1}, 'created': {'universe': 2, 'heaven': 1}, 'brain': {'math': 1}, 'math': {'test': 1}, '🎶now': {'eat': 1}, 'eat': {'sunlight': 1}, 'sunlight': {'taste': 1}, 'taste': {'sunnnn🎶': 1}, 'sunnnn🎶': {'”': 1}, 'using': {'video': 1, 'night': 1}, 'study': {'ap': 2}, 'believe': {'obsessed': 1, 'year': 1}, 'obsessed': {'video': 1}, 'fourth': {'grade': 1}, 'grade': {'irl': 1, 'brings': 1}, 'irl': {'foreshadowing': 1}, 'foreshadowing': {'entering': 1}, 'entering': {'ap': 1}, 'passing': {'ap': 1}, 'god': {'loved': 1, 'love': 2, 'knew': 1, 'created': 3, 'hovering': 1, 'said': 3, 'saw': 2, 'called': 3, 'made': 2, 'follow': 1, 'jesus': 2, 'god': 1, 'heaven': 1}, 'loved': {'world': 1}, 'gave': {'begotten': 1, 'life': 1}, 'begotten': {'son': 1}, 'son': {'whosoever': 1, 'jesus': 2}, 'whosoever': {'believeth': 1}, 'believeth': {'perish': 1}, 'perish': {'everlasting': 1}, 'everlasting': {'life': 1, 'love': 1}, 'life': {'”': 1, 'would': 1, 'taught': 1, 'sacrifice': 1, 'ocean': 1, 'predominant': 1, 'abraham': 1, 'remember': 1}, '”': {'—john': 1, '😂😂': 1, 'bill': 1}, '—john': {'god': 1}, 'love': {'u': 1, 'everyone': 1, 'father': 1, 'one': 1, 'sent': 1, 'ghana': 1, 'every': 1}, 'u': {'god': 1, 'individually': 1, 'come': 1, 'right': 1}, 'everyone': {'everlasting': 1}, 'father': {'spirit': 1}, 'spirit': {'child': 1, 'god': 1}, 'child': {'love': 1}, 'individually': {'want': 1}, 'want': {'u': 1}, 'come': {'know': 1, 'back': 3}, 'know': {'love': 1, 'dumb': 1, 'im': 1}, 'sent': {'son': 2}, 'jesus': {'christ': 2, 'lived': 1, 'important': 1, 'life': 1, 'thats': 1, 'way': 1}, 'christ': {'god': 1, 'earth': 1}, 'knew': {'life': 1, 'would': 1}, 'would': {'full': 1, 'fall': 1, 'carrying': 1}, 'full': {'challenge': 1}, 'challenge': {'uncertainty': 1}, 'uncertainty': {'knew': 1}, 'fall': {'short': 1}, 'short': {'make': 1}, 'mistake': {'sent': 1}, 'earth': {'jesus': 1, 'around': 1, 'earth': 1, 'formless': 1}, 'lived': {'perfect': 1}, 'perfect': {'sinless': 1}, 'sinless': {'life': 1}, 'taught': {'gospel': 1}, 'gospel': {'showed': 1}, 'showed': {'u': 1}, 'right': {'way': 1}, 'way': {'live': 1, 'god': 1, 'dont': 1}, 'live': {'willingly': 1}, 'willingly': {'gave': 1}, 'sacrifice': {'sin': 1}, 'sin': {'loving': 1}, 'loving': {'savior': 1}, 'savior': {'redeemer': 1}, 'away': {'development': 1}, 'development': {'thing': 1}, 'thing': {'inventor': 1, 'always': 1, 'love': 1}, 'there': {'life': 1}, 'best': {'moment': 1, 'video': 1}, 'moment': {'society': 1}, 'society': {'roman': 1, 'comming': 1}, 'roman': {'✝️vs☪️': 1}, '✝️vs☪️': {'control': 1}, 'control': {'world': 1}, 'england': {'france': 1}, 'go': {'extremely': 1, 'back': 1}, 'extremely': {'hard': 1}, 'felt': {'like': 1}, 'like': {'psychedelic': 1, 'every': 1, 'ritual': 1, 'anymore': 1}, 'psychedelic': {'drug': 1}, 'trying': {'study': 1, 'take': 1}, '✨space': {'dust✨': 1}, 'youre': {'studying': 1}, 'modern': {'go': 1}, 'could': {'make': 1}, 'religion': {'dont': 1, 'blessed': 1}, 'cringiest': {'unfunny': 1}, 'unfunny': {'video': 1}, 'continues': {'seriously': 1}, 'seriously': {'bitchslap': 1}, 'bitchslap': {'content': 1}, 'content': {'find': 1}, 'find': {'make': 1}, 'get': {'meme': 1}, 'oh': {'sun': 1}, 'sun': {'deadly': 3}, 'deadly': {'lazer': 3}, 'lazer': {'come': 1}, 'actually': {'im': 1, 'funnt': 1}, 'mar': {'earth': 1}, 'masterpiece': {'year': 1}, 'fun': {'concept': 1}, 'concept': {'video': 1}, 'beginning': {'completely': 1, 'nothing': 1, 'god': 1}, 'completely': {'wrong': 1}, 'wrong': {'earth': 1}, 'around': {'year': 1, 'jesus': 1}, 'old': {'human': 1, 'come': 1}, 'human': {'evolution': 1, 'life': 1}, 'evolution': {'happen': 1, 'cant': 1, 'lie': 1}, 'happen': {'never': 1, 'literally': 1}, 'never': {'came': 1}, 'came': {'monkey': 1}, 'monkey': {'remake': 1}, 'remake': {'video': 1}, 'without': {'buying': 1}, 'buying': {'boat': 2}, 'boat': {'show': 1, 'proceeds': 1}, 'show': {'plane': 2}, 'every': {'month': 3, 'human': 1, 'single': 1}, 'month': {'like': 1, '’': 1, 'rewatch': 1, 'favorite': 1}, 'ritual': {'tell': 1}, 'tell': {'friend': 1}, 'friend': {'watch': 1}, 'watch': {'swear': 1, 'time': 1}, 'swear': {'one': 1}, 'australian': {'history': 1}, 'left': {'chat': 1}, 'bro': {'first': 1}, 'first': {'zoo': 1, 'day': 1, 'saw': 1}, 'zoo': {'man': 1}, 'man': {'youtube': 1}, 'youtube': {'really': 1, 'video': 1}, 'really': {'trying': 1}, 'take': {'back': 1}, 'ok': {'newest': 1}, 'newest': {'comment': 1}, 'comment': {'delusional': 1}, 'delusional': {'people': 1}, 'people': {'huh': 1, 'life': 1, 'live': 1}, 'soon': {'go': 1}, 'notice': {'dna': 1}, 'dna': {'needed': 1, 'evolution': 1}, 'needed': {'exist': 1}, 'exist': {'beginning': 1}, 'nothing': {'make': 1}, 'sens': {'evolution': 1}, 'explain': {'dna': 1}, 'lie': {'god': 1, 'happend': 1}, 'dude': {'year': 1, 'funny': 1}, 'ago…i': {'feel': 1}, 'feel': {'old': 1}, 'fine': {'ill': 1}, 'ill': {'watch': 1}, 'heaven': {'earth': 1}, 'formless': {'empty': 1}, 'empty': {'darkness': 1}, 'darkness': {'surface': 1, 'god': 1, 'called': 1}, 'surface': {'deep': 1}, 'deep': {'spirit': 1}, 'hovering': {'water': 1}, 'water': {'god': 3, 'separate': 1, 'water': 1, 'vault': 1, 'sky': 1, 'called': 1}, 'let': {'light': 1, 'vault': 1, 'water': 1, 'dry': 1}, 'light': {'light': 1, 'god': 1, 'good': 1, 'darkness': 1, 'day': 1}, 'good': {'separated': 1, 'genesis': 1}, 'separated': {'light': 1, 'water': 1}, 'called': {'light': 1, 'night': 1, 'vault': 1, 'dry': 1, 'sea': 1}, 'day': {'darkness': 1, 'god': 2}, 'night': {'evening': 1, 'exam': 1}, 'evening': {'morning—': 1, 'morningthe': 1}, 'morning—': {'first': 1}, 'vault': {'water': 2, 'separated': 1, 'sky': 1}, 'separate': {'water': 1}, 'made': {'vault': 1, 'world': 1, 'positive': 1, 'dont': 1}, 'sky': {'evening': 1, 'gathered': 1}, 'morningthe': {'second': 1}, 'gathered': {'one': 1, 'water': 1}, 'place': {'let': 1}, 'dry': {'ground': 2}, 'ground': {'appear': 1, 'land': 1}, 'appear': {'god': 1}, 'land': {'gathered': 1, 'owned': 1}, 'sea': {'god': 1}, 'machine': {'factory': 1, 'inside': 1}, 'factory': {'machine': 1}, 'inside': {'make': 1}, 'lot': {'product': 1, 'positive': 1}, 'product': {'real': 1}, 'real': {'fast': 1}, 'fast': {'favorite': 1}, 'favorite': {'sentence': 1, 'video': 1}, 'sentence': {'life': 1}, 'bad': {'didnt': 1}, 'happin': {'lol': 1}, 'lol': {'god': 1}, 'universe': {'none': 1}, 'none': {'lie': 1}, 'happend': {'kinda': 1}, 'kinda': {'funny': 1}, 'funny': {'tho': 1}, 'meme': {'thing': 1}, 'meblinks': {'billwhoops': 1}, 'billwhoops': {'half': 1}, 'half': {'europe': 2}, 'europe': {'died': 2}, 'died': {'mehow': 1}, 'mehow': {'happen': 1}, 'literally': {'blinked': 1, 'land': 1}, 'hit': {'different': 1}, 'please': {'remain': 1}, 'remain': {'christian': 1}, 'check': {'see': 1}, 'see': {'still': 1, 'stuff': 1}, 'least': {'expe': 1}, 'expe': {'“': 1}, 'spanish': {'inquisition': 1}, 'inquisition': {'”': 1}, 'terrible': {'keeping': 1}, 'keeping': {'stuff': 1}, 'stuff': {'head': 1, 'like': 1}, 'head': {'reading': 1}, 'congrats': {'copied': 1}, 'copied': {'youtube': 1}, 'comming': {'dank': 1}, 'dank': {'river': 1}, 'river': {'valley': 1}, 'valley': {'near': 1}, 'near': {'”': 1}, 'shoutout': {'ap': 1}, 'cause': {'atom': 1}, 'bill': {'predicted': 1, 'wurtz': 1}, 'predicted': {'ai': 1}, 'happy': {'birthday': 2}, 'birthday': {'video': 1}, 'recycled': {'multiple': 1}, 'different': {'thing': 1}, 'always': {'wow': 1}, 'ghana': {'empire': 1}, 'empire': {'literally': 1}, 'owned': {'modernday': 1}, 'modernday': {'ghana': 1}, 'louis': {'actually': 1}, 'adhd': {'love': 1}, 'ᵗʰᵉʸ': {'ⁿᵉᵛᵉʳ': 1}, 'ⁿᵉᵛᵉʳ': {'ᵍᵒᵗ': 1}, 'ᵍᵒᵗ': {'ᵉᵗʰᶦᵒᵖᶦᵃ': 1}, 'elephant': {'asia': 1, 'weigh': 1, 'much': 1, 'would': 1}, 'asia': {'asian': 1}, 'asian': {'elephant': 3}, 'weigh': {'kg': 1}, 'kg': {'asian': 2}, 'much': {'weighs': 1}, 'weighs': {'kg': 1}, 'carrying': {'entire': 1}, 'space': {'shuttle': 1}, 'shuttle': {'loaded': 1}, 'loaded': {'people': 1}, 'proceeds': {'show': 1}, 'abrahamic': {'religion': 1}, 'blessed': {'god': 1}, 'follow': {'true': 1}, 'true': {'god': 1}, 'important': {'person': 1, 'every': 1}, 'person': {'entire': 1}, 'timeframe': {'around': 1}, 'predominant': {'calendar': 1}, 'calendar': {'historical': 1}, 'historical': {'date': 1}, 'date': {'even': 1, 'respect': 1}, 'even': {'non': 1}, 'non': {'believer': 1}, 'believer': {'celebrate': 1}, 'celebrate': {'date': 1}, 'respect': {'jesus': 1}, 'thats': {'important': 1}, 'abraham': {'god': 1}, 'anniversary': {'whoo': 1, 'yet': 1, 'video': 1}, 'internet': {'commented': 1}, 'commented': {'need': 1}, 'ago': {'today': 1}, 'today': {'beautiful': 1}, 'beautiful': {'video': 1}, 'blinked': {'one': 1}, 'accidentally': {'watched': 1}, 'exactly': {'year': 1}, 'yet': {'remember': 1}, 'guess': {'”': 1}, 'hey': {'dog': 1}, 'dog': {'listen': 1}, 'listen': {'minute': 1}, 'minute': {'sense': 1}, 'sense': {'released': 1}, 'released': {'unironically': 1}, 'unironically': {'helped': 1}, 'helped': {'pas': 1}, 'pas': {'world': 1}, 'dumb': {'youve': 1}, 'youve': {'made': 1}, 'positive': {'impact': 1, 'memory': 1}, 'impact': {'people': 1}, 'brings': {'back': 1}, 'memory': {'either': 1}, 'either': {'way': 1}, 'dont': {'know': 1, 'see': 1}, 'sure': {'going': 1}, 'going': {'great': 1}, 'give': {'jewish': 1}, 'jewish': {'people': 1}, 'single': {'sound': 1}, 'anymore': {'😥': 1}, 'predict': {'ai': 1}, 'ai': {'end': 1}}\n"
     ]
    }
   ],
   "source": [
    "# Create a dictionary to store the frequency of each bi-gram\n",
    "bigram_freq = {}\n",
    "\n",
    "# Calculate the frequency of each bi-gram in the comments\n",
    "for comment in df['Comment_cleaned']:\n",
    "    if isinstance(comment, str) and comment:\n",
    "        for w1, w2 in create_bigrams(comment):\n",
    "            if w1 not in bigram_freq:\n",
    "                bigram_freq[w1] = {}\n",
    "            if w2 not in bigram_freq[w1]:\n",
    "                bigram_freq[w1][w2] = 0\n",
    "            bigram_freq[w1][w2] += 1\n",
    "            \n",
    "            \n",
    "print(bigram_freq)\n",
    "\n",
    "# save to json\n",
    "import json\n",
    "with open('bigram_freq.json', 'w') as f:\n",
    "    json.dump(bigram_freq, f)"
   ]
  },
  {
   "cell_type": "code",
   "execution_count": 26,
   "metadata": {},
   "outputs": [],
   "source": [
    "def recommend_next_word(current_word):\n",
    "    if current_word in bigram_freq:\n",
    "        next_word_candidates = bigram_freq[current_word]\n",
    "        next_words = list(next_word_candidates.keys())\n",
    "        print(f'Next words for \"{current_word}\": {next_words}')\n",
    "        # thier value\n",
    "        for i in next_words:\n",
    "            print(f'Value of \"{i}\" is {next_word_candidates[i]}')\n",
    "        # Pick the next word with the highest frequency\n",
    "        next_word = max(next_words, key=lambda w: next_word_candidates[w])\n",
    "        return next_word\n",
    "    return None"
   ]
  },
  {
   "cell_type": "code",
   "execution_count": 29,
   "metadata": {},
   "outputs": [
    {
     "name": "stdout",
     "output_type": "stream",
     "text": [
      "Next words for \"world\": ['student', 'guess', 'history', 'one', 'gave', 'england', 'exam', 'test', 'timeframe']\n",
      "Value of \"student\" is 2\n",
      "Value of \"guess\" is 2\n",
      "Value of \"history\" is 4\n",
      "Value of \"one\" is 1\n",
      "Value of \"gave\" is 1\n",
      "Value of \"england\" is 1\n",
      "Value of \"exam\" is 2\n",
      "Value of \"test\" is 1\n",
      "Value of \"timeframe\" is 1\n",
      "The recommended next word for 'world' is 'history'\n"
     ]
    }
   ],
   "source": [
    "current_word = 'world' \n",
    "next_word = recommend_next_word(current_word)\n",
    "print(f\"The recommended next word for '{current_word}' is '{next_word}'\")\n"
   ]
  }
 ],
 "metadata": {
  "kernelspec": {
   "display_name": "Python 3",
   "language": "python",
   "name": "python3"
  },
  "language_info": {
   "codemirror_mode": {
    "name": "ipython",
    "version": 3
   },
   "file_extension": ".py",
   "mimetype": "text/x-python",
   "name": "python",
   "nbconvert_exporter": "python",
   "pygments_lexer": "ipython3",
   "version": "3.10.10"
  }
 },
 "nbformat": 4,
 "nbformat_minor": 2
}
