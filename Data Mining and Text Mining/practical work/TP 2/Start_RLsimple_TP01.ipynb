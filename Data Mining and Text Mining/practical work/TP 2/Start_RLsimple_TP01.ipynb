{
 "cells": [
  {
   "cell_type": "markdown",
   "metadata": {},
   "source": [
    "# TP1: Régression Linéaire simple\n",
    " "
   ]
  },
  {
   "cell_type": "markdown",
   "metadata": {},
   "source": [
    "La régression linéaire simple est un algorithme prédictif supervisé. Il prend en entrée une variable prédictive x et va essayer de trouver une fonction de prédiction  $h_\\theta(x)$ étant une droite, elle s’écrira mathématiquement sous la forme :\n",
    "$$ h_\\theta(x)=\\theta_0+\\theta_1 x$$\n",
    " Avec $ \\theta_0$ et $ \\theta_1$ sont les coefficients de la droite."
   ]
  },
  {
   "cell_type": "markdown",
   "metadata": {},
   "source": [
    "Le but  revient à trouver un couple $(\\theta_0,\\theta_1)$ optimal tel que $h_\\theta(x)$ soit le plus proche possible de $y$ (la valeur qu’on essaie de prédire). Et ce, pour tous les couples $(x,y)$ qui forment notre ensemble de données d’apprentissage $ \\{ (x_{i},y_{i}) \\in R^{2}, i=1...n \\}$.\n",
    " La fonction $h_\\theta$ va essayer de transformer au mieux  $x_i$ en $y_i$ tel que  $$ h_\\theta(x_i)\\approx y_i  \\forall i \\in \\{1 ... n\\}$$\n",
    " <img src=\"courbe.jpeg\" style=\"with:100px;height:200px\"/>"
   ]
  },
  {
   "cell_type": "markdown",
   "metadata": {},
   "source": [
    "## A- Methode1:Moindres carrés"
   ]
  },
  {
   "cell_type": "markdown",
   "metadata": {},
   "source": [
    "Dans le cas d'une régression lineaire simple nous avons la solution directe suivante:\n",
    "$$\\theta_{1}=\\frac{\\sum_{i=0}^{m}x_{i}y_{i}-m\\overline{x}\\overline{y}}{\\sum_{i=0}^{m}x_{i}^2-m\\overline{x}^2} $$\n",
    "\n",
    "$$\\theta_{0}=\\overline{y}-w_{1}\\overline{x}$$\n",
    "\n",
    "Où $\\overline{x}$ est la moyenne des éléments de x et $\\overline{y}$ est la moyenne des éléments de y\n",
    "\n",
    "## Question1\n",
    "-L'étude d'un marché présente des quantités offertes (X) et des prix d'achat (Y) (en dhs)  a donné les résultats suivants;\t\n",
    " <img src=\"table.jpeg\" style=\"with:30px;height:60px\"/>\n",
    " a-En utilisant numpy afficher X et Y"
   ]
  },
  {
   "cell_type": "code",
   "execution_count": 32,
   "metadata": {},
   "outputs": [
    {
     "name": "stdout",
     "output_type": "stream",
     "text": [
      "[ 2  4 14  8 12] \t [10  8  2  6  4]\n"
     ]
    }
   ],
   "source": [
    "# import librariries\n",
    "import numpy as np\n",
    "\n",
    "x=np.array([2,4,14,8,12])\n",
    "y=np.array([10,8,2,6,4])\n",
    "print(x,\"\\t\",y)"
   ]
  },
  {
   "cell_type": "markdown",
   "metadata": {},
   "source": [
    "b-Ecrire un script qui calcule les valeur de $\\theta_{0}$, $\\theta_{1}$ "
   ]
  },
  {
   "cell_type": "code",
   "execution_count": 33,
   "metadata": {},
   "outputs": [
    {
     "name": "stdout",
     "output_type": "stream",
     "text": [
      "-0.6153846153846154 10.923076923076923\n"
     ]
    }
   ],
   "source": [
    "from math import pow\n",
    "def cov(x,y):\n",
    "        multi=0\n",
    "        for i in range(len(x)):\n",
    "            multi+=(x[i]*y[i])- ( (np.mean(x))*(np.mean(y)) )\n",
    "        return (1/len(x))*multi\n",
    "    \n",
    "\n",
    "deta1=cov(x,y)/np.var(x)\n",
    "deta0=np.mean(y)-deta1*np.mean(x)\n",
    "print(deta1,deta0)"
   ]
  },
  {
   "cell_type": "markdown",
   "metadata": {},
   "source": [
    "c-Déterminer la fonction de prédiction $ h_\\theta(x)=\\theta_0+\\theta_1 x$"
   ]
  },
  {
   "cell_type": "code",
   "execution_count": 34,
   "metadata": {},
   "outputs": [],
   "source": [
    "def h(x):\n",
    "    if isinstance(x,list):\n",
    "        list_predict=[]\n",
    "        for i in x:\n",
    "            list_predict.append((deta1*i)+deta0)\n",
    "    else:\n",
    "        return (deta1*x)+deta0"
   ]
  },
  {
   "cell_type": "markdown",
   "metadata": {},
   "source": [
    "  d-Quelle prix d'achat peut-on prévoir avec un prix d'achat de x=10"
   ]
  },
  {
   "cell_type": "code",
   "execution_count": 35,
   "metadata": {},
   "outputs": [
    {
     "name": "stdout",
     "output_type": "stream",
     "text": [
      "4.769230769230769\n"
     ]
    }
   ],
   "source": [
    "print(h(10))"
   ]
  },
  {
   "cell_type": "markdown",
   "metadata": {},
   "source": [
    "e-visualiser les résultats "
   ]
  },
  {
   "cell_type": "code",
   "execution_count": 36,
   "metadata": {},
   "outputs": [
    {
     "data": {
      "image/png": "[encoded data removed]",
      "text/plain": [
       "<Figure size 720x288 with 1 Axes>"
      ]
     },
     "metadata": {
      "needs_background": "light"
     },
     "output_type": "display_data"
    }
   ],
   "source": [
    "import matplotlib.pyplot as plt\n",
    "plt.figure(figsize=(10,4))\n",
    "plt.scatter(x,y,c=\"blue\",label=\"fonction pricipale\")\n",
    "plt.plot(x,h(x),label=\"fonction de prediction\",c=\"red\")\n",
    "plt.legend()\n",
    "plt.show()"
   ]
  },
  {
   "cell_type": "markdown",
   "metadata": {},
   "source": [
    "f-Déterminer le coefficient de determination $R^2=1-\\frac{\\sum_{i=0}^{m}(y_{i}-h_\\theta(x_{i}))}{\\sum_{i=0}^{m}(y_{i}-\\overline{y})^2}$ et le coefficient de coerrélation $R=\\frac{cov(X,Y)}{\\sigma(x)\\sigma(y)}=\\frac{\\sum_{i=0}^{m}x_{i}y_{i}-m\\overline{x}\\overline{y}}{\\sqrt{\\sum_{i=0}^{m} (x_{i}^2-m\\overline{x}^2 ) (\\sum_{i=0}^{m}x_{i}^2-m\\overline{x}^2)}}$"
   ]
  },
  {
   "cell_type": "code",
   "execution_count": 37,
   "metadata": {},
   "outputs": [
    {
     "name": "stdout",
     "output_type": "stream",
     "text": [
      "-0.9922778767136676\n"
     ]
    }
   ],
   "source": [
    "from math import sqrt,pow\n",
    "R=lambda x,y :cov(x,y)/(sqrt(np.var(x))*sqrt(np.var(y)))\n",
    "\n",
    "print(R(x,y))"
   ]
  },
  {
   "cell_type": "code",
   "execution_count": 38,
   "metadata": {},
   "outputs": [
    {
     "name": "stdout",
     "output_type": "stream",
     "text": [
      "0.9846153846153846\n"
     ]
    }
   ],
   "source": [
    "print(R(x,y)**2)"
   ]
  },
  {
   "cell_type": "markdown",
   "metadata": {},
   "source": [
    "$R$ est proche de -1, donc on a une corrélation négative assez forte entre $X$ et $Y$.   ( si le prix augmente la quantité diminue).\n",
    "Graphiquement, le nuage de points est sous forme d'une courbe décroissante linéaire ce qui confirme la liaison assez forte négativement.\n"
   ]
  },
  {
   "cell_type": "markdown",
   "metadata": {},
   "source": [
    "## B-Utilisation de la méthode linregress"
   ]
  },
  {
   "cell_type": "markdown",
   "metadata": {},
   "source": [
    "On peut utiliser le module librairie SciPy (Scientific Python) pour implémenter une régression linéaire. Le sous package stats propose la fonction linregress qui calcul une régression à partir d'un jeu de donnée d'entrainement"
   ]
  },
  {
   "cell_type": "markdown",
   "metadata": {},
   "source": [
    "1-Ecrire un script Ecrire un script qui calcule les valeur de $\\theta_{0}$, $\\theta_{1}$ en utilisant linregress et les données X et Y de la question précédente"
   ]
  },
  {
   "cell_type": "code",
   "execution_count": 39,
   "metadata": {},
   "outputs": [
    {
     "name": "stdout",
     "output_type": "stream",
     "text": [
      "10.923076923076923 -0.6153846153846154\n"
     ]
    }
   ],
   "source": [
    "import scipy.stats as sc\n",
    "res = sc.linregress(x, y)\n",
    "deta0=res.intercept\n",
    "deta1=res.slope\n",
    "print(deta0,deta1)"
   ]
  },
  {
   "cell_type": "markdown",
   "metadata": {},
   "source": [
    "2- En utilisant la méthode linregress, calculer les valeur de $\\theta_{0}$, $\\theta_{1}$ pour les données du fichier \"linear_regression_dataset.csv\" (utiliser pondas pour afficher les données)"
   ]
  },
  {
   "cell_type": "code",
   "execution_count": 40,
   "metadata": {},
   "outputs": [
    {
     "name": "stdout",
     "output_type": "stream",
     "text": [
      "-4.2115040054240875 1.213547253908358\n"
     ]
    }
   ],
   "source": [
    "import pandas as pd\n",
    "\n",
    "data=pd.read_csv(\"univariate_linear_regression_dataset.csv\")\n",
    "x1=data.iloc[:,0].values\n",
    "y1=data.iloc[:,1].values\n",
    "\n",
    "new_res=sc.linregress(x1, y1)\n",
    "new_deta0=new_res.intercept\n",
    "new_deta1=new_res.slope\n",
    "print(new_deta0,new_deta1)"
   ]
  },
  {
   "cell_type": "markdown",
   "metadata": {},
   "source": [
    "#### Prédiction d'une nouvelle observation\n",
    " Utilisons la fonction de prédiction pour trouver une estimation de  $h_\\theta(x=22.5)$"
   ]
  },
  {
   "cell_type": "code",
   "execution_count": 41,
   "metadata": {},
   "outputs": [
    {
     "name": "stdout",
     "output_type": "stream",
     "text": [
      "23.09330920751397\n"
     ]
    }
   ],
   "source": [
    "new_h=lambda x: new_deta0+(new_deta1*x)\n",
    "print(new_h(22.5))"
   ]
  },
  {
   "cell_type": "markdown",
   "metadata": {},
   "source": [
    "# C-Méthode de la descente\n",
    "\n",
    " Pour minimiser le coût $$ J(\\theta_{0},\\theta_{1})=\\frac{1}{2m}\\sum_{i=0}^{m}(h(x_{i})-y_{i})^{2} = \\frac{1}{2m}\\sum_{i=0}^{m}(\\theta_{0}+ \\theta_{1}x_{i}-y_{i})^{2} $$\n",
    "On utilise la methode de la descente du gradient. Il faut donc calculer la dérivée de $J(\\theta_{0},\\theta_{1})$ par rapport à $\\theta_{0}$ et par rapport à $\\theta_{1}$ nous avons alors:\n",
    "$$ \\frac{\\delta J(\\theta_{0},\\theta_{1})}{\\delta \\theta_{0}}=\\frac{1}{m}\\sum_{i=0}^{m}(\\theta_{0}+ \\theta_{1}x_{i}-y_{i}) $$\n",
    "\n",
    "$$ \\frac{\\delta J(\\theta_{0},\\theta_{1})}{\\delta \\theta_{1}}=\\frac{1}{m}\\sum_{i=0}^{m}(\\theta_{0}+ \\theta_{1}x_{i}-y_{i})x_{i} $$\n",
    "La mise à jour des coeficients sera comme suivant:\n",
    "$$ \\theta_{0}\\leftarrow \\theta_{0}- \\alpha\\frac{\\delta J(\\theta_{0},\\theta_{1})}{\\delta \\theta_{0}}$$\n",
    "$$ \\theta_{1}\\leftarrow \\theta_{1}- \\alpha\\frac{\\delta J(\\theta_{0},\\theta_{1})}{\\delta \\theta_{1}}$$\n",
    "\n",
    "$\\alpha$: learning rate\n",
    "\n",
    "L'algorithme sous forme matricielle est le suivant\n",
    "\n",
    " <img src=\"matrice.jpeg\" style=\"with:140px;height:260px\"/>"
   ]
  },
  {
   "cell_type": "markdown",
   "metadata": {},
   "source": [
    "## 1-Datasets\n",
    "1-Générer de données aléatoires avec une tendance linéaire avec make_regression: on a un dataset  qui contient 100 exemples, et une seule variable . Note: chaque fois que la cellule est executée, des données différentes sont générer. Utiliser np.random.seed(0) pour reproduire le meme Dataset a chaque fois."
   ]
  },
  {
   "cell_type": "code",
   "execution_count": 42,
   "metadata": {},
   "outputs": [],
   "source": [
    "# from sklearn.datasets import make_regression\n",
    "\n",
    "# x,y=make_regression(n_samples=100,n_features=1)\n",
    "# np.random.seed(0)\n",
    "# x,y=np.array(x),np.array(y)\n",
    "\n",
    "from sklearn.datasets import make_regression\n",
    "np.random.seed(0)\n",
    "x_data,y_data = make_regression(n_samples=100, n_features=1,noise=10)"
   ]
  },
  {
   "cell_type": "markdown",
   "metadata": {},
   "source": [
    "Important: vérifier les dimensions de x et y. On remarque que y n'a pas les dimensions (100, 1). On corrige le probleme avec np.reshape"
   ]
  },
  {
   "cell_type": "code",
   "execution_count": 43,
   "metadata": {},
   "outputs": [
    {
     "name": "stdout",
     "output_type": "stream",
     "text": [
      "shape of: \n",
      "x:(100, 1) \n",
      "y:(100,)\n",
      "The new shape of: \n",
      "x:(100, 1) \n",
      "y:(100, 1)\n"
     ]
    }
   ],
   "source": [
    "x_shape=np.array(x_data).shape\n",
    "y_shape=np.array(y_data).shape\n",
    "print(\"shape of: \\nx:{} \\ny:{}\".format(x_shape,y_shape))\n",
    "x=np.reshape(x_data,(100,1))\n",
    "y=np.reshape(y_data,(100,1))\n",
    "print(\"The new shape of: \\nx:{} \\ny:{}\".format(x.shape,y.shape))"
   ]
  },
  {
   "cell_type": "markdown",
   "metadata": {},
   "source": [
    "2-Créez la matrice X. \n",
    "\n",
    "\n"
   ]
  },
  {
   "cell_type": "code",
   "execution_count": 44,
   "metadata": {},
   "outputs": [],
   "source": [
    "X=np.array([[x_data[i][0] , 1] for i in range(len(x_data))])"
   ]
  },
  {
   "cell_type": "markdown",
   "metadata": {},
   "source": [
    "3-Créez le vecteur $\\theta$ (initialisé avec des coefficients aléatoires)."
   ]
  },
  {
   "cell_type": "code",
   "execution_count": 45,
   "metadata": {},
   "outputs": [
    {
     "data": {
      "text/plain": [
       "array([[10],\n",
       "       [ 9]])"
      ]
     },
     "execution_count": 45,
     "metadata": {},
     "output_type": "execute_result"
    }
   ],
   "source": [
    "import random\n",
    "deta=np.array([random.randint(9,10),random.randint(8,10)])\n",
    "deta=np.reshape(deta,(2,1))\n",
    "deta"
   ]
  },
  {
   "cell_type": "markdown",
   "metadata": {},
   "source": [
    "# 2- Modele Linéaire de prédiction \n",
    "Implémenter le modèle de prédiction $ H_\\theta=X.\\theta$"
   ]
  },
  {
   "cell_type": "code",
   "execution_count": 46,
   "metadata": {},
   "outputs": [],
   "source": [
    "def lineaire_prediction(x,deta):\n",
    "    return x.dot(deta)"
   ]
  },
  {
   "cell_type": "code",
   "execution_count": 47,
   "metadata": {
    "collapsed": true
   },
   "outputs": [
    {
     "data": {
      "text/plain": [
       "array([[  5.40446838],\n",
       "       [ 18.76639036],\n",
       "       [ 13.02341641],\n",
       "       [  0.86853718],\n",
       "       [  0.12214252],\n",
       "       [ 13.43863233],\n",
       "       [ -0.7727788 ],\n",
       "       [ 13.28331871],\n",
       "       [ 11.08274978],\n",
       "       [  5.88447468],\n",
       "       [  3.89194862],\n",
       "       [ 10.26912093],\n",
       "       [ -6.36243686],\n",
       "       [  4.98219064],\n",
       "       [ 15.53618595],\n",
       "       [ 20.78779571],\n",
       "       [  7.20075164],\n",
       "       [ 26.85870494],\n",
       "       [ 23.54273507],\n",
       "       [  2.15189909],\n",
       "       [ 18.78737984],\n",
       "       [ 27.95889176],\n",
       "       [  4.61925698],\n",
       "       [ 12.13067702],\n",
       "       [ 16.61037725],\n",
       "       [ 16.77490356],\n",
       "       [ 28.50775395],\n",
       "       [ 12.33674327],\n",
       "       [  5.52087851],\n",
       "       [ 24.32779214],\n",
       "       [  0.04533439],\n",
       "       [  3.21150335],\n",
       "       [ -1.48552965],\n",
       "       [ 12.7816252 ],\n",
       "       [  9.10500021],\n",
       "       [ 13.62782256],\n",
       "       [ 10.44043571],\n",
       "       [  4.96823053],\n",
       "       [  9.51945396],\n",
       "       [ -3.5279536 ],\n",
       "       [ 19.54451727],\n",
       "       [ 13.00157208],\n",
       "       [ -8.06270191],\n",
       "       [ 31.40893199],\n",
       "       [ 10.77426142],\n",
       "       [  6.94841736],\n",
       "       [ 21.30290681],\n",
       "       [  0.45904261],\n",
       "       [ 26.64052346],\n",
       "       [ 13.10598502],\n",
       "       [ -0.07298364],\n",
       "       [ -5.20017937],\n",
       "       [ 13.6566244 ],\n",
       "       [ 18.00826487],\n",
       "       [ 20.39400685],\n",
       "       [ 13.01989363],\n",
       "       [ 12.86902498],\n",
       "       [ -8.26282602],\n",
       "       [ 23.6935877 ],\n",
       "       [  7.1281615 ],\n",
       "       [  0.29202851],\n",
       "       [ 12.02471898],\n",
       "       [ 21.02379849],\n",
       "       [-10.80796468],\n",
       "       [-16.52989816],\n",
       "       [ -5.54365675],\n",
       "       [  8.71817772],\n",
       "       [ 10.54947426],\n",
       "       [ 21.2244507 ],\n",
       "       [ 27.6755799 ],\n",
       "       [ 31.69754624],\n",
       "       [  1.5783498 ],\n",
       "       [  9.66517222],\n",
       "       [ 23.94079073],\n",
       "       [  2.27539552],\n",
       "       [ -7.30198347],\n",
       "       [ 10.28982911],\n",
       "       [ 18.50088418],\n",
       "       [ 23.88252194],\n",
       "       [  9.56165342],\n",
       "       [ 17.64436199],\n",
       "       [ 16.06573168],\n",
       "       [  7.48642792],\n",
       "       [ -1.70752622],\n",
       "       [  7.96781148],\n",
       "       [  5.97697249],\n",
       "       [  5.12673183],\n",
       "       [ 16.29090562],\n",
       "       [ 10.21675016],\n",
       "       [  3.90347818],\n",
       "       [ -3.3482582 ],\n",
       "       [  6.8725972 ],\n",
       "       [  2.65677906],\n",
       "       [ 10.56348969],\n",
       "       [  9.45758517],\n",
       "       [ -2.65149841],\n",
       "       [  5.37258834],\n",
       "       [ 12.56366397],\n",
       "       [ -7.13897848],\n",
       "       [ -2.80632184]])"
      ]
     },
     "execution_count": 47,
     "metadata": {},
     "output_type": "execute_result"
    }
   ],
   "source": [
    "lineaire_prediction(X,deta)"
   ]
  },
  {
   "cell_type": "markdown",
   "metadata": {},
   "source": [
    "# 3- Fonction Cout \n",
    "Ecrire un script qui définit la fonction cout $$ J(\\theta)=\\frac{1}{2m}\\sum(X.\\theta-Y)^{2}$$"
   ]
  },
  {
   "cell_type": "code",
   "execution_count": 48,
   "metadata": {},
   "outputs": [
    {
     "data": {
      "text/plain": [
       "array([3091.55738609])"
      ]
     },
     "execution_count": 48,
     "metadata": {},
     "output_type": "execute_result"
    }
   ],
   "source": [
    "def cost_function(x,o,y):\n",
    "    return (np.mean(x.dot(o)-y)**2)*(1/(2*len(x)))\n",
    "\n",
    "cost_function(X,deta,y)"
   ]
  },
  {
   "cell_type": "markdown",
   "metadata": {},
   "source": [
    "# 4- Gradients et Descente de Gradient \n",
    "1-Ecrire un script qui définit la fonction du gradiant $$ \\frac{\\delta J(\\theta)}{\\delta \\theta}=\\frac{1}{m}X^T.(X.\\theta-y)$$\n",
    " "
   ]
  },
  {
   "cell_type": "code",
   "execution_count": 49,
   "metadata": {},
   "outputs": [
    {
     "data": {
      "text/plain": [
       "array([[-32.66539851],\n",
       "       [  7.86327843]])"
      ]
     },
     "execution_count": 49,
     "metadata": {},
     "output_type": "execute_result"
    }
   ],
   "source": [
    "grade_function=lambda x,o,y: np.dot(np.transpose(x),lineaire_prediction(x,o)-y)*(1 / len(x))\n",
    "\n",
    "grade_function(X,deta,y)"
   ]
  },
  {
   "cell_type": "markdown",
   "metadata": {},
   "source": [
    "2-Implementer la descente de gradient en utilisant de gradiant:\n",
    "$$ \\theta\\leftarrow \\theta- \\alpha\\frac{\\delta J(\\theta)}{\\delta \\theta}$$"
   ]
  },
  {
   "cell_type": "code",
   "execution_count": 50,
   "metadata": {},
   "outputs": [],
   "source": [
    "def descendent(o,alpha,x,y):\n",
    "    return o-(grade_function(x,o,y)*alpha)"
   ]
  },
  {
   "cell_type": "markdown",
   "metadata": {},
   "source": [
    "# 5-Calcul des parametres $\\theta_1$ et  $\\theta_0$\n",
    "  1-On définit un nombre d'itérations de $1000$ , ainsi $\\alpha=0.01$,calculer $\\theta_1$ et  $\\theta_0$\n",
    " \n",
    " "
   ]
  },
  {
   "cell_type": "code",
   "execution_count": 65,
   "metadata": {},
   "outputs": [
    {
     "data": {
      "text/plain": [
       "array([[42.61779336],\n",
       "       [-0.81286319]])"
      ]
     },
     "execution_count": 65,
     "metadata": {},
     "output_type": "execute_result"
    }
   ],
   "source": [
    "iteration=1000\n",
    "new_deta_value=deta\n",
    "for i in range(iteration):\n",
    "    new_deta_value=descendent(new_deta_value,0.01,X,y)\n",
    "        \n",
    "def iter(iteratio):\n",
    "    cost_value=[]\n",
    "    new_deta_value=deta\n",
    "    new_deta_cost=deta\n",
    "    for i in range(iteratio):\n",
    "        new_deta_cost=descendent(new_deta_cost,0.01,X,y)\n",
    "        cost_value.append(cost_function(X,new_deta_cost,y))\n",
    "    return cost_value\n",
    "#     return lineaire_prediction(X,new_deta_value)\n",
    "new_deta_value"
   ]
  },
  {
   "cell_type": "markdown",
   "metadata": {},
   "source": [
    "2-Créer d'un vecteur prédictions qui contient les prédictions de notre modele final"
   ]
  },
  {
   "cell_type": "code",
   "execution_count": 52,
   "metadata": {},
   "outputs": [],
   "source": [
    "new_y_predect = lineaire_prediction(X,new_deta_value)"
   ]
  },
  {
   "cell_type": "markdown",
   "metadata": {},
   "source": [
    "3-Afficher les résultats de prédictions par rapport a notre Dataset"
   ]
  },
  {
   "cell_type": "code",
   "execution_count": 53,
   "metadata": {},
   "outputs": [
    {
     "data": {
      "text/plain": [
       "<matplotlib.collections.PathCollection at 0x2079009b0d0>"
      ]
     },
     "execution_count": 53,
     "metadata": {},
     "output_type": "execute_result"
    },
    {
     "data": {
      "image/png": "[encoded data removed]",
      "text/plain": [
       "<Figure size 432x288 with 1 Axes>"
      ]
     },
     "metadata": {
      "needs_background": "light"
     },
     "output_type": "display_data"
    }
   ],
   "source": [
    "plt.scatter(X[:,0] , y , c='green')\n",
    "plt.scatter(X[:,0] , new_y_predect , c='red')"
   ]
  },
  {
   "cell_type": "markdown",
   "metadata": {},
   "source": [
    " # 5. Courbes d'apprentissage\n",
    " vérifier si notre algorithme de Descente de gradient a bien fonctionné, on observe l'évolution de la fonction cout a travers les itérations. On est sensé obtenir une courbe qui diminue a chaque itération jusqu'a stagner a un niveau minimal (proche de zéro). Si la courbe ne suit pas ce motif, alors le pas learning_rate est peut-etre trop élevé, il faut prendre un pas plus faible."
   ]
  },
  {
   "cell_type": "code",
   "execution_count": 66,
   "metadata": {},
   "outputs": [
    {
     "data": {
      "text/plain": [
       "[<matplotlib.lines.Line2D at 0x2079037bf10>]"
      ]
     },
     "execution_count": 66,
     "metadata": {},
     "output_type": "execute_result"
    },
    {
     "data": {
      "image/png": "[encoded data removed]",
      "text/plain": [
       "<Figure size 432x288 with 1 Axes>"
      ]
     },
     "metadata": {
      "needs_background": "light"
     },
     "output_type": "display_data"
    }
   ],
   "source": [
    "nbr_iter=100\n",
    "plt.plot(range(1000),iter(1000),c=\"blue\")\n",
    "plt.plot(range(100),iter(100),c=\"yellow\")\n",
    "plt.plot(range(10),iter(10),c=\"red\")"
   ]
  },
  {
   "cell_type": "markdown",
   "metadata": {},
   "source": [
    "# 7-Evaluation finale\n",
    "Utiliser le coefficient de détermination pour évaluer la réelle performance. "
   ]
  },
  {
   "cell_type": "code",
   "execution_count": null,
   "metadata": {},
   "outputs": [],
   "source": [
    "print(R(X,new_y_predect)**2)"
   ]
  },
  {
   "cell_type": "markdown",
   "metadata": {},
   "source": [
    "Plus le résultat est proche de 1, meilleur est votre modele"
   ]
  },
  {
   "cell_type": "code",
   "execution_count": null,
   "metadata": {},
   "outputs": [],
   "source": [
    "# coeff_det"
   ]
  }
 ],
 "metadata": {
  "kernelspec": {
   "display_name": "Python 3 (ipykernel)",
   "language": "python",
   "name": "python3"
  },
  "language_info": {
   "codemirror_mode": {
    "name": "ipython",
    "version": 3
   },
   "file_extension": ".py",
   "mimetype": "text/x-python",
   "name": "python",
   "nbconvert_exporter": "python",
   "pygments_lexer": "ipython3",
   "version": "3.9.6"
  }
 },
 "nbformat": 4,
 "nbformat_minor": 4
}
