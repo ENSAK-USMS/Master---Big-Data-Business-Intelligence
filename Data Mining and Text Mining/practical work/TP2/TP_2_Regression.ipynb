{
 "cells": [
  {
   "cell_type": "markdown",
   "metadata": {},
   "source": [
    "# Part 1: Régression Linéaire simple\n",
    " "
   ]
  },
  {
   "cell_type": "markdown",
   "metadata": {},
   "source": [
    "La régression linéaire simple est un algorithme prédictif supervisé. Il prend en entrée une variable prédictive x et va essayer de trouver une fonction de prédiction  $h_\\theta(x)$ étant une droite, elle s’écrira mathématiquement sous la forme :\n",
    "$$ h_\\theta(x)=\\theta_0+\\theta_1 x$$\n",
    " Avec $ \\theta_0$ et $ \\theta_1$ sont les coefficients de la droite."
   ]
  },
  {
   "cell_type": "markdown",
   "metadata": {},
   "source": [
    "Le but  revient à trouver un couple $(\\theta_0,\\theta_1)$ optimal tel que $h_\\theta(x)$ soit le plus proche possible de $y$ (la valeur qu’on essaie de prédire). Et ce, pour tous les couples $(x,y)$ qui forment notre ensemble de données d’apprentissage $ \\{ (x_{i},y_{i}) \\in R^{2}, i=1...n \\}$.\n",
    " La fonction $h_\\theta$ va essayer de transformer au mieux  $x_i$ en $y_i$ tel que  $$ h_\\theta(x_i)\\approx y_i  \\forall i \\in \\{1 ... n\\}$$\n",
    " <img src=\"courbe.jpeg\" style=\"with:100px;height:200px\"/>"
   ]
  },
  {
   "cell_type": "markdown",
   "metadata": {},
   "source": [
    "## 1- Load Data Set"
   ]
  },
  {
   "cell_type": "code",
   "execution_count": 132,
   "metadata": {},
   "outputs": [],
   "source": [
    "import pandas as pd\n",
    "import numpy as np\n",
    "import matplotlib.pyplot as plt"
   ]
  },
  {
   "cell_type": "code",
   "execution_count": 133,
   "metadata": {},
   "outputs": [],
   "source": [
    "data = pd.read_csv('ex1data1.txt', header=None)"
   ]
  },
  {
   "cell_type": "code",
   "execution_count": 134,
   "metadata": {},
   "outputs": [
    {
     "data": {
      "text/html": [
       "<div>\n",
       "<style scoped>\n",
       "    .dataframe tbody tr th:only-of-type {\n",
       "        vertical-align: middle;\n",
       "    }\n",
       "\n",
       "    .dataframe tbody tr th {\n",
       "        vertical-align: top;\n",
       "    }\n",
       "\n",
       "    .dataframe thead th {\n",
       "        text-align: right;\n",
       "    }\n",
       "</style>\n",
       "<table border=\"1\" class=\"dataframe\">\n",
       "  <thead>\n",
       "    <tr style=\"text-align: right;\">\n",
       "      <th></th>\n",
       "      <th>0</th>\n",
       "      <th>1</th>\n",
       "    </tr>\n",
       "  </thead>\n",
       "  <tbody>\n",
       "    <tr>\n",
       "      <th>0</th>\n",
       "      <td>6.1101</td>\n",
       "      <td>17.5920</td>\n",
       "    </tr>\n",
       "    <tr>\n",
       "      <th>1</th>\n",
       "      <td>5.5277</td>\n",
       "      <td>9.1302</td>\n",
       "    </tr>\n",
       "    <tr>\n",
       "      <th>2</th>\n",
       "      <td>8.5186</td>\n",
       "      <td>13.6620</td>\n",
       "    </tr>\n",
       "    <tr>\n",
       "      <th>3</th>\n",
       "      <td>7.0032</td>\n",
       "      <td>11.8540</td>\n",
       "    </tr>\n",
       "    <tr>\n",
       "      <th>4</th>\n",
       "      <td>5.8598</td>\n",
       "      <td>6.8233</td>\n",
       "    </tr>\n",
       "  </tbody>\n",
       "</table>\n",
       "</div>"
      ],
      "text/plain": [
       "        0        1\n",
       "0  6.1101  17.5920\n",
       "1  5.5277   9.1302\n",
       "2  8.5186  13.6620\n",
       "3  7.0032  11.8540\n",
       "4  5.8598   6.8233"
      ]
     },
     "execution_count": 134,
     "metadata": {},
     "output_type": "execute_result"
    }
   ],
   "source": [
    "data.head()"
   ]
  },
  {
   "cell_type": "markdown",
   "metadata": {},
   "source": [
    "Important: vérifier les dimensions de x et y. On remarque que y n'a pas les dimensions (100, 1). On corrige le probleme avec np.reshape"
   ]
  },
  {
   "cell_type": "code",
   "execution_count": 135,
   "metadata": {},
   "outputs": [
    {
     "name": "stdout",
     "output_type": "stream",
     "text": [
      "x.shape: (97,)\n",
      "y.shape: (97, 1)\n"
     ]
    }
   ],
   "source": [
    "x = data.iloc[:, 0]\n",
    "y = np.asarray(data.iloc[:, 1]).reshape(-1, 1)\n",
    "print(f\"x.shape: {x.shape}\")\n",
    "print(f\"y.shape: {y.shape}\")\n"
   ]
  },
  {
   "cell_type": "code",
   "execution_count": 136,
   "metadata": {},
   "outputs": [
    {
     "data": {
      "text/plain": [
       "<matplotlib.collections.PathCollection at 0x15761383f10>"
      ]
     },
     "execution_count": 136,
     "metadata": {},
     "output_type": "execute_result"
    },
    {
     "data": {
      "image/png": "[encoded data removed]",
      "text/plain": [
       "<Figure size 640x480 with 1 Axes>"
      ]
     },
     "metadata": {},
     "output_type": "display_data"
    }
   ],
   "source": [
    "plt.scatter(x, y, marker='x', color='r')"
   ]
  },
  {
   "cell_type": "markdown",
   "metadata": {},
   "source": [
    "2-Créez la matrice X. \n",
    "\n",
    "\n"
   ]
  },
  {
   "cell_type": "code",
   "execution_count": 137,
   "metadata": {},
   "outputs": [
    {
     "name": "stdout",
     "output_type": "stream",
     "text": [
      "(97, 2)\n"
     ]
    }
   ],
   "source": [
    "X = np.asarray(x).reshape(-1, 1)\n",
    "X = np.hstack((X, np.ones(X.shape)))\n",
    "print(X.shape)"
   ]
  },
  {
   "cell_type": "code",
   "execution_count": 138,
   "metadata": {},
   "outputs": [
    {
     "name": "stdout",
     "output_type": "stream",
     "text": [
      "[[6.1101 1.    ]\n",
      " [5.5277 1.    ]\n",
      " [8.5186 1.    ]\n",
      " [7.0032 1.    ]\n",
      " [5.8598 1.    ]]\n"
     ]
    }
   ],
   "source": [
    "print(X[:5])"
   ]
  },
  {
   "cell_type": "markdown",
   "metadata": {},
   "source": [
    "3-Créez le vecteur $\\theta$ (initialisé avec des coefficients aléatoires)."
   ]
  },
  {
   "cell_type": "code",
   "execution_count": 139,
   "metadata": {},
   "outputs": [
    {
     "data": {
      "text/plain": [
       "array([[-1.88511258],\n",
       "       [ 1.81744206]])"
      ]
     },
     "execution_count": 139,
     "metadata": {},
     "output_type": "execute_result"
    }
   ],
   "source": [
    "theta = np.random.randn(2, 1)\n",
    "theta"
   ]
  },
  {
   "cell_type": "markdown",
   "metadata": {},
   "source": [
    "## 2- Modele Linéaire de prédiction "
   ]
  },
  {
   "cell_type": "markdown",
   "metadata": {},
   "source": [
    "\n",
    "Implémenter le modèle de prédiction $ H_\\theta=X.\\theta$"
   ]
  },
  {
   "cell_type": "code",
   "execution_count": 140,
   "metadata": {},
   "outputs": [],
   "source": [
    "def lineaire_prediction(X, theta):\n",
    "    return X.dot(theta)"
   ]
  },
  {
   "cell_type": "code",
   "execution_count": 141,
   "metadata": {},
   "outputs": [
    {
     "data": {
      "text/plain": [
       "array([[ -9.7007843 ],\n",
       "       [ -8.60289474],\n",
       "       [-14.24107794],\n",
       "       [-11.38437834],\n",
       "       [ -9.22894062],\n",
       "       [-13.98526817],\n",
       "       [-12.27641362],\n",
       "       [-14.35324214],\n",
       "       [-10.40977514],\n",
       "       [ -7.71104798],\n",
       "       [ -8.94787034],\n",
       "       [-24.88329249],\n",
       "       [ -8.99179346],\n",
       "       [-14.03333854],\n",
       "       [ -8.81591246],\n",
       "       [ -8.32333254],\n",
       "       [-10.18205354],\n",
       "       [ -7.85337397],\n",
       "       [-10.30307777],\n",
       "       [-11.51181195],\n",
       "       [ -9.84970819],\n",
       "       [-36.39378989],\n",
       "       [ -8.5320145 ],\n",
       "       [-10.10796862],\n",
       "       [ -8.67302092],\n",
       "       [-33.89601572],\n",
       "       [-22.36478209],\n",
       "       [-18.83773645],\n",
       "       [-23.02080126],\n",
       "       [-40.0377125 ],\n",
       "       [ -8.08392324],\n",
       "       [-10.60431876],\n",
       "       [-15.61645608],\n",
       "       [ -9.28926423],\n",
       "       [-13.66140583],\n",
       "       [-13.13791006],\n",
       "       [-13.44424086],\n",
       "       [ -8.75106458],\n",
       "       [-22.37986299],\n",
       "       [-10.15943219],\n",
       "       [ -8.37517314],\n",
       "       [-11.15684526],\n",
       "       [-20.253456  ],\n",
       "       [ -9.06663243],\n",
       "       [-12.93299833],\n",
       "       [-11.55384996],\n",
       "       [ -7.74045573],\n",
       "       [ -9.11885005],\n",
       "       [-20.2383751 ],\n",
       "       [ -8.6290978 ],\n",
       "       [-12.3966838 ],\n",
       "       [ -8.18816997],\n",
       "       [-12.17744521],\n",
       "       [-12.51525738],\n",
       "       [-10.12059887],\n",
       "       [-10.16980031],\n",
       "       [-10.01013127],\n",
       "       [ -8.81402734],\n",
       "       [-15.73333306],\n",
       "       [-16.0036582 ],\n",
       "       [-14.81943048],\n",
       "       [ -7.94612151],\n",
       "       [-38.29586848],\n",
       "       [-26.28581625],\n",
       "       [-33.9224073 ],\n",
       "       [-11.78967755],\n",
       "       [-13.81975528],\n",
       "       [-17.47857029],\n",
       "       [ -8.54954605],\n",
       "       [-36.52763288],\n",
       "       [-17.29005903],\n",
       "       [-12.00891614],\n",
       "       [ -9.5049211 ],\n",
       "       [-11.80419292],\n",
       "       [ -7.65883036],\n",
       "       [-10.52608659],\n",
       "       [-12.39366762],\n",
       "       [ -7.67692744],\n",
       "       [-17.55020456],\n",
       "       [ -7.81114745],\n",
       "       [ -8.98274492],\n",
       "       [ -7.96327604],\n",
       "       [-10.16376795],\n",
       "       [-16.59765718],\n",
       "       [-10.46576298],\n",
       "       [-14.23843879],\n",
       "       [-15.48826843],\n",
       "       [ -9.49700363],\n",
       "       [ -8.58913341],\n",
       "       [ -7.72009652],\n",
       "       [ -8.942215  ],\n",
       "       [-12.57840865],\n",
       "       [ -9.24948835],\n",
       "       [ -8.18383421],\n",
       "       [-13.81655059],\n",
       "       [-23.43175581],\n",
       "       [ -8.43172651]])"
      ]
     },
     "execution_count": 141,
     "metadata": {},
     "output_type": "execute_result"
    }
   ],
   "source": [
    "lineaire_prediction(X, theta)"
   ]
  },
  {
   "cell_type": "markdown",
   "metadata": {},
   "source": [
    "## 3- Fonction Cout "
   ]
  },
  {
   "cell_type": "markdown",
   "metadata": {},
   "source": [
    "\n",
    "Ecrire un script qui définit la fonction cout $$ J(\\theta)=\\frac{1}{2m}\\sum(X.\\theta-Y)^{2}$$"
   ]
  },
  {
   "cell_type": "code",
   "execution_count": 142,
   "metadata": {},
   "outputs": [],
   "source": [
    "def cost_function(x,o,y):\n",
    "    return np.mean((x.dot(o)-y)**2)*(1/(2*len(x)))\n"
   ]
  },
  {
   "cell_type": "code",
   "execution_count": 143,
   "metadata": {},
   "outputs": [
    {
     "data": {
      "text/plain": [
       "2.7108104617994444"
      ]
     },
     "execution_count": 143,
     "metadata": {},
     "output_type": "execute_result"
    }
   ],
   "source": [
    "cost_function(X, theta, y)"
   ]
  },
  {
   "cell_type": "markdown",
   "metadata": {},
   "source": []
  },
  {
   "cell_type": "markdown",
   "metadata": {},
   "source": [
    "## 4- Gradients et Descente de Gradient \n",
    " "
   ]
  },
  {
   "cell_type": "markdown",
   "metadata": {},
   "source": [
    "\n",
    "1-Ecrire un script qui définit la fonction du gradiant $$ \\frac{\\delta J(\\theta)}{\\delta \\theta}=\\frac{1}{m}X^T.(X.\\theta-y)$$"
   ]
  },
  {
   "cell_type": "code",
   "execution_count": 144,
   "metadata": {},
   "outputs": [
    {
     "data": {
      "text/plain": [
       "array([[-203.95448251],\n",
       "       [ -19.4038346 ]])"
      ]
     },
     "execution_count": 144,
     "metadata": {},
     "output_type": "execute_result"
    }
   ],
   "source": [
    "grade_function=lambda x,o,y: np.dot(np.transpose(x),lineaire_prediction(x,o)-y)*(1 / len(x))\n",
    "\n",
    "grade_function(X,theta,y)"
   ]
  },
  {
   "cell_type": "markdown",
   "metadata": {},
   "source": [
    "2-Implementer la descente de gradient en utilisant de gradiant:\n",
    "$$ \\theta\\leftarrow \\theta- \\alpha\\frac{\\delta J(\\theta)}{\\delta \\theta}$$"
   ]
  },
  {
   "cell_type": "code",
   "execution_count": 145,
   "metadata": {},
   "outputs": [],
   "source": [
    "def descendent(o,alpha,x,y):\n",
    "    return o-(grade_function(x,o,y)*alpha)"
   ]
  },
  {
   "cell_type": "markdown",
   "metadata": {},
   "source": [
    "## 5-Calcul des parametres $\\theta_1$ et  $\\theta_0$\n",
    " \n",
    " "
   ]
  },
  {
   "cell_type": "markdown",
   "metadata": {},
   "source": [
    "\n",
    "  1-On définit un nombre d'itérations de $200$ , ainsi $\\alpha=0.01$,calculer $\\theta_1$ et  $\\theta_0$"
   ]
  },
  {
   "cell_type": "code",
   "execution_count": 146,
   "metadata": {},
   "outputs": [
    {
     "data": {
      "text/plain": [
       "array([[0.77549506],\n",
       "       [0.26045108]])"
      ]
     },
     "execution_count": 146,
     "metadata": {},
     "output_type": "execute_result"
    }
   ],
   "source": [
    "iteration=200\n",
    "new_deta_value=theta\n",
    "for i in range(iteration):\n",
    "    new_deta_value=descendent(new_deta_value,0.01,X,y)\n",
    "        \n",
    "def iter(iteratio):\n",
    "    cost_value=[]\n",
    "    new_deta_value=theta\n",
    "    new_deta_cost=theta\n",
    "    for i in range(iteratio):\n",
    "        new_deta_cost=descendent(new_deta_cost,0.01,X,y)\n",
    "        cost_value.append(cost_function(X,new_deta_cost,y))\n",
    "    return cost_value\n",
    "#     return lineaire_prediction(X,new_deta_value)\n",
    "new_deta_value"
   ]
  },
  {
   "cell_type": "markdown",
   "metadata": {},
   "source": [
    "2-Créer d'un vecteur prédictions qui contient les prédictions de notre modele final"
   ]
  },
  {
   "cell_type": "code",
   "execution_count": 147,
   "metadata": {},
   "outputs": [],
   "source": [
    "new_y_predect = lineaire_prediction(X,new_deta_value)"
   ]
  },
  {
   "cell_type": "markdown",
   "metadata": {},
   "source": [
    "3-Afficher les résultats de prédictions par rapport a notre Dataset"
   ]
  },
  {
   "cell_type": "code",
   "execution_count": 148,
   "metadata": {},
   "outputs": [
    {
     "data": {
      "text/plain": [
       "[<matplotlib.lines.Line2D at 0x15761376cb0>]"
      ]
     },
     "execution_count": 148,
     "metadata": {},
     "output_type": "execute_result"
    },
    {
     "data": {
      "image/png": "[encoded data removed]",
      "text/plain": [
       "<Figure size 640x480 with 1 Axes>"
      ]
     },
     "metadata": {},
     "output_type": "display_data"
    }
   ],
   "source": [
    "plt.scatter(X[:,0] , y , c='green')\n",
    "plt.plot(X[:,0] , new_y_predect , c='red')"
   ]
  },
  {
   "cell_type": "markdown",
   "metadata": {},
   "source": [
    " ## 5. Courbes d'apprentissage"
   ]
  },
  {
   "cell_type": "code",
   "execution_count": 149,
   "metadata": {},
   "outputs": [
    {
     "data": {
      "text/plain": [
       "[<matplotlib.lines.Line2D at 0x157615b1b40>]"
      ]
     },
     "execution_count": 149,
     "metadata": {},
     "output_type": "execute_result"
    },
    {
     "data": {
      "image/png": "[encoded data removed]",
      "text/plain": [
       "<Figure size 640x480 with 1 Axes>"
      ]
     },
     "metadata": {},
     "output_type": "display_data"
    }
   ],
   "source": [
    "nbr_iter=100\n",
    "plt.plot(range(1000),iter(1000),c=\"blue\")\n",
    "plt.plot(range(100),iter(100),c=\"yellow\")\n",
    "plt.plot(range(10),iter(10),c=\"red\")"
   ]
  },
  {
   "cell_type": "markdown",
   "metadata": {},
   "source": []
  },
  {
   "cell_type": "markdown",
   "metadata": {},
   "source": [
    "# Part 2: Régression Linéaire Multiple\n",
    "\n"
   ]
  },
  {
   "cell_type": "markdown",
   "metadata": {},
   "source": [
    "La régression linéaire multiple est une extension de la régression linéaire simple. Elle prend en entrée plusieurs variables prédictives $x_1,x_2,...,x_n$ et va essayer de trouver une fonction de prédiction  $h_\\theta(x)$ étant une droite, elle s’écrira mathématiquement sous la forme :"
   ]
  },
  {
   "cell_type": "markdown",
   "metadata": {},
   "source": [
    "## 1-datasets"
   ]
  },
  {
   "cell_type": "code",
   "execution_count": 160,
   "metadata": {},
   "outputs": [],
   "source": [
    "# load data\n",
    "data = pd.read_csv('ex1data2.txt', header=None)"
   ]
  },
  {
   "cell_type": "code",
   "execution_count": 161,
   "metadata": {},
   "outputs": [
    {
     "data": {
      "text/html": [
       "<div>\n",
       "<style scoped>\n",
       "    .dataframe tbody tr th:only-of-type {\n",
       "        vertical-align: middle;\n",
       "    }\n",
       "\n",
       "    .dataframe tbody tr th {\n",
       "        vertical-align: top;\n",
       "    }\n",
       "\n",
       "    .dataframe thead th {\n",
       "        text-align: right;\n",
       "    }\n",
       "</style>\n",
       "<table border=\"1\" class=\"dataframe\">\n",
       "  <thead>\n",
       "    <tr style=\"text-align: right;\">\n",
       "      <th></th>\n",
       "      <th>0</th>\n",
       "      <th>1</th>\n",
       "      <th>2</th>\n",
       "    </tr>\n",
       "  </thead>\n",
       "  <tbody>\n",
       "    <tr>\n",
       "      <th>0</th>\n",
       "      <td>2104</td>\n",
       "      <td>3</td>\n",
       "      <td>399900</td>\n",
       "    </tr>\n",
       "    <tr>\n",
       "      <th>1</th>\n",
       "      <td>1600</td>\n",
       "      <td>3</td>\n",
       "      <td>329900</td>\n",
       "    </tr>\n",
       "    <tr>\n",
       "      <th>2</th>\n",
       "      <td>2400</td>\n",
       "      <td>3</td>\n",
       "      <td>369000</td>\n",
       "    </tr>\n",
       "    <tr>\n",
       "      <th>3</th>\n",
       "      <td>1416</td>\n",
       "      <td>2</td>\n",
       "      <td>232000</td>\n",
       "    </tr>\n",
       "    <tr>\n",
       "      <th>4</th>\n",
       "      <td>3000</td>\n",
       "      <td>4</td>\n",
       "      <td>539900</td>\n",
       "    </tr>\n",
       "  </tbody>\n",
       "</table>\n",
       "</div>"
      ],
      "text/plain": [
       "      0  1       2\n",
       "0  2104  3  399900\n",
       "1  1600  3  329900\n",
       "2  2400  3  369000\n",
       "3  1416  2  232000\n",
       "4  3000  4  539900"
      ]
     },
     "execution_count": 161,
     "metadata": {},
     "output_type": "execute_result"
    }
   ],
   "source": [
    "# show data\n",
    "data.head()"
   ]
  },
  {
   "cell_type": "markdown",
   "metadata": {},
   "source": [
    "## 2-redimentioner les matrices, créer la matrice X et $\\theta$"
   ]
  },
  {
   "cell_type": "code",
   "execution_count": 221,
   "metadata": {},
   "outputs": [
    {
     "name": "stdout",
     "output_type": "stream",
     "text": [
      "x.shape: (47, 2)\n",
      "y.shape: (47, 1)\n"
     ]
    }
   ],
   "source": [
    "# get x and y\n",
    "x = data.iloc[:, 0:2]\n",
    "# convet x to numpy array\n",
    "x = np.asarray(x)\n",
    "x = np.array([[x[i][0] , 1] for i in range(len(x))])\n",
    "y = np.asarray(data.iloc[:, 2]).reshape(-1, 1)\n",
    "print(f\"x.shape: {x.shape}\")\n",
    "print(f\"y.shape: {y.shape}\")"
   ]
  },
  {
   "cell_type": "code",
   "execution_count": 222,
   "metadata": {},
   "outputs": [
    {
     "data": {
      "text/plain": [
       "array([[9],\n",
       "       [9]])"
      ]
     },
     "execution_count": 222,
     "metadata": {},
     "output_type": "execute_result"
    }
   ],
   "source": [
    "import random\n",
    "deta=np.reshape( np.array([random.randint(9,10) for i in range]) ,(2,1))\n",
    "deta"
   ]
  },
  {
   "cell_type": "markdown",
   "metadata": {},
   "source": [
    "### 3-Implémenter le model de prédiction, Fonction cout, Gradients et Descente de Gradient"
   ]
  },
  {
   "cell_type": "code",
   "execution_count": 223,
   "metadata": {},
   "outputs": [],
   "source": [
    "def cost_function(x,o,y):\n",
    "    return (sum([o[1]*x[i][1]+o[0]*x[i][0] for i in range(len(x))]-y)**2)*(1/(2*len(x)))\n",
    "\n",
    "def lineaire_prediction(x,deta):\n",
    "    return x.dot(deta)\n",
    "\n",
    "def descendent(o,alpha,x,y):\n",
    "    return o-(grade_function(x,o,y)*alpha)\n",
    "\n",
    "grade_function=lambda x,o,y: np.dot(np.transpose(x),lineaire_prediction(x,o)-y)*(1 / len(x))"
   ]
  },
  {
   "cell_type": "code",
   "execution_count": 226,
   "metadata": {},
   "outputs": [
    {
     "name": "stdout",
     "output_type": "stream",
     "text": [
      "[[7.22603666e+07]\n",
      " [3.22487532e+04]]\n",
      "[[-3.33902056e+13]\n",
      " [-1.44569301e+10]]\n",
      "[[1.54290440e+19]\n",
      " [6.68030149e+15]]\n",
      "[[-7.12949786e+24]\n",
      " [-3.08685328e+21]]\n",
      "[[3.29441925e+30]\n",
      " [1.42638221e+27]]\n",
      "[[-1.52229490e+36]\n",
      " [-6.59106868e+32]]\n",
      "[[7.03426486e+41]\n",
      " [3.04562032e+38]]\n",
      "[[-3.25041371e+47]\n",
      " [-1.40732916e+44]]\n",
      "[[1.50196069e+53]\n",
      " [6.50302780e+49]]\n",
      "[[-6.94030395e+58]\n",
      " [-3.00493814e+55]]\n"
     ]
    },
    {
     "data": {
      "text/plain": [
       "[<matplotlib.lines.Line2D at 0x15767447700>]"
      ]
     },
     "execution_count": 226,
     "metadata": {},
     "output_type": "execute_result"
    },
    {
     "data": {
      "image/png": "[encoded data removed]",
      "text/plain": [
       "<Figure size 640x480 with 1 Axes>"
      ]
     },
     "metadata": {},
     "output_type": "display_data"
    }
   ],
   "source": [
    "cost_history = []\n",
    "deta_ = deta\n",
    "for i in range(10):\n",
    "    deta_ = descendent(deta_,0.1,x,y)\n",
    "    print(deta_)\n",
    "    cost_history.append(cost_function(x,deta_,y))\n",
    "plt.plot([i for i in range(len(cost_history))],cost_history)"
   ]
  },
  {
   "cell_type": "markdown",
   "metadata": {},
   "source": [
    "### 4-Afficher les valeurs de $\\theta$\n"
   ]
  },
  {
   "cell_type": "code",
   "execution_count": 206,
   "metadata": {},
   "outputs": [
    {
     "data": {
      "text/plain": [
       "array([[nan],\n",
       "       [nan]])"
      ]
     },
     "execution_count": 206,
     "metadata": {},
     "output_type": "execute_result"
    }
   ],
   "source": [
    "deta_"
   ]
  },
  {
   "cell_type": "markdown",
   "metadata": {},
   "source": [
    "### 5-Afficher les résultats de prédictions par rapport a notre Dataset ainsi que la courbe d'apprentissage"
   ]
  },
  {
   "cell_type": "code",
   "execution_count": 208,
   "metadata": {},
   "outputs": [],
   "source": [
    "iteration=1000\n",
    "new_deta_value=deta_\n",
    "for i in range(iteration):\n",
    "    new_deta_value=descendent(new_deta_value,0.01,x,y)"
   ]
  },
  {
   "cell_type": "code",
   "execution_count": 211,
   "metadata": {},
   "outputs": [
    {
     "data": {
      "text/plain": [
       "<matplotlib.collections.PathCollection at 0x157660fad70>"
      ]
     },
     "execution_count": 211,
     "metadata": {},
     "output_type": "execute_result"
    },
    {
     "data": {
      "image/png": "[encoded data removed]",
      "text/plain": [
       "<Figure size 640x480 with 1 Axes>"
      ]
     },
     "metadata": {},
     "output_type": "display_data"
    }
   ],
   "source": [
    "y_predict=lineaire_prediction(x,new_deta_value)\n",
    "plt.scatter(x[:,0] , y , c='green')\n",
    "plt.scatter(x[:,0] , y_predict , c='red')"
   ]
  },
  {
   "cell_type": "markdown",
   "metadata": {},
   "source": [
    "### 6-Utiliser le coefficient de détermination pour évaluer la réelle performance et interpréter le resultats"
   ]
  },
  {
   "cell_type": "code",
   "execution_count": null,
   "metadata": {},
   "outputs": [],
   "source": [
    "def R2(x,y,o):\n",
    "    return int( 1-( (sum(y-lineaire_prediction(x,o)))/(sum( (y-np.mean(y) )**2) ) ) )\n",
    "R2(X,y_predict,new_deta_value)"
   ]
  }
 ],
 "metadata": {
  "kernelspec": {
   "display_name": "Python 3",
   "language": "python",
   "name": "python3"
  },
  "language_info": {
   "codemirror_mode": {
    "name": "ipython",
    "version": 3
   },
   "file_extension": ".py",
   "mimetype": "text/x-python",
   "name": "python",
   "nbconvert_exporter": "python",
   "pygments_lexer": "ipython3",
   "version": "3.10.10"
  }
 },
 "nbformat": 4,
 "nbformat_minor": 2
}
