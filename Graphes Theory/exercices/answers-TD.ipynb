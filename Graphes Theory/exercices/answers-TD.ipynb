{
 "cells": [
  {
   "cell_type": "markdown",
   "metadata": {},
   "source": [
    "# Exercice 1\n"
   ]
  },
  {
   "cell_type": "markdown",
   "metadata": {},
   "source": [
    "Un groupe organise une randonnée dans une forêt. Le graphe suivant représente les points A, B, C, D, E, F\n",
    "par lesquels ils peuvent choisir de passer.\n"
   ]
  },
  {
   "cell_type": "markdown",
   "metadata": {},
   "source": [
    "<p align=\"center\">\n",
    "<img src=\"./graph1.png\" alt=\"exo1.png\" width=\"300\"/>\n",
    "</p>\n"
   ]
  },
  {
   "cell_type": "markdown",
   "metadata": {},
   "source": [
    "1- Donner le degrés de chaque sommet. Le graphe est-il connexe ? justifier votre réponse\n",
    "\n",
    "2- Est-il possible de passer par les six sommets, en passant une et une seule fois par chaque chemin ?\n",
    "\n",
    "si oui donner un exemple.\n",
    "\n",
    "3- Si on souhaite associer à chaque sommet une couleur de sorte que les sommets reliés par une arête\n",
    "n’ont pas la même couleur. On note n le nombre chromatique du graphe.\n",
    "\n",
    "a) Montrer que 4≤n ≤6\n",
    "\n",
    "b) Proposer un coloriage du graphe.\n"
   ]
  },
  {
   "cell_type": "markdown",
   "metadata": {},
   "source": [
    "\n"
   ]
  }
 ],
 "metadata": {
  "language_info": {
   "name": "python"
  }
 },
 "nbformat": 4,
 "nbformat_minor": 2
}
